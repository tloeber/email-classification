{
 "cells": [
  {
   "cell_type": "code",
   "execution_count": 21,
   "id": "b71e4e6a-167b-4393-b52f-545a31eeb5f7",
   "metadata": {},
   "outputs": [
    {
     "name": "stderr",
     "output_type": "stream",
     "text": [
      "The method get_image_uri has been renamed in sagemaker>=2.\n",
      "See: https://sagemaker.readthedocs.io/en/stable/v2.html for details.\n",
      "Defaulting to the only supported framework/algorithm version: 1. Ignoring framework/algorithm version: latest.\n"
     ]
    }
   ],
   "source": [
    "# Enable current type hints for older Python version (<3.10) \n",
    "from __future__ import annotations\n",
    "import boto3\n",
    "import pandas as pd\n",
    "import numpy as np\n",
    "import seaborn as sns\n",
    "import matplotlib.pyplot as plt\n",
    "from datetime import datetime\n",
    "import time\n",
    "from pathlib import Path\n",
    "import pickle\n",
    "import logging\n",
    "from dotenv import dotenv_values\n",
    "import pdb\n",
    "from pprint import pprint\n",
    "import json\n",
    "\n",
    "\n",
    "import sagemaker\n",
    "from sagemaker.tuner import (\n",
    "    IntegerParameter,\n",
    "    ContinuousParameter,\n",
    "    HyperparameterTuner,\n",
    ")\n",
    "from sagemaker.serializers import JSONSerializer\n",
    "\n",
    "\n",
    "INPUT_MODE = 'File'  # File or Pipe\n",
    "MAX_TRAIN_JOBS = 10\n",
    "MAX_PARRALLEL_JOBS = 1\n",
    "INSTANCE_TYPE_TRAIN = \"ml.c4.4xlarge\"\n",
    "INSTANCE_TYPE_PREDICT = \"ml.m5.xlarge\"\n",
    "INSTANCE_COUNT_BATCH_TRANSFORM = 4\n",
    "OBJECTIVE_METRIC_NAME = \"validation:accuracy\"  # Only option for BlazingText Classification\n",
    "OBJECTIVE_TYPE = \"Maximize\"\n",
    "\n",
    "config = dotenv_values(\".env\")\n",
    "BUCKET = config['BUCKET']\n",
    "\n",
    "\n",
    "logger = logging.getLogger(__name__)\n",
    "\n",
    "sm_client = boto3.client('sagemaker')\n",
    "s3_client = boto3.client('s3')\n",
    "role = sagemaker.get_execution_role()\n",
    "session = boto3.Session()\n",
    "region_name = session.region_name\n",
    "image_uri = sagemaker.amazon.amazon_estimator.get_image_uri(region_name, \"blazingtext\", \"latest\")"
   ]
  },
  {
   "cell_type": "code",
   "execution_count": 18,
   "id": "343f13eb-c166-4c5d-9117-f373ac0eac97",
   "metadata": {},
   "outputs": [],
   "source": [
    "# Load test data\n",
    "# ==============\n",
    "with open('data/df_test.pickle', 'rb') as f:\n",
    "    df_test: pd.DataFrame = pickle.load(f)\n",
    "\n",
    "\n",
    "# Load model\n",
    "# ==========\n",
    "with open('data/tuning_job_name.pickle', 'rb') as f:\n",
    "    best_tuning_job_name = pickle.load(f)\n",
    "\n",
    "tuner = HyperparameterTuner.attach(\n",
    "    tuning_job_name=best_tuning_job_name,\n",
    "    # sagemaker_session=session,\n",
    ")\n",
    "\n",
    "\n",
    "# Deploy best model\n",
    "# =================\n",
    "# Load model name\n",
    "with open('data/model_name.pickle', 'rb') as file:\n",
    "    name_of_best_model = pickle.load(file=file)\n",
    "\n",
    "# Todo: Create deployment from model name to standardize w/ Batch Transform\n",
    "deployed_model = tuner.deploy(\n",
    "    initial_instance_count=1,\n",
    "    instance_type=INSTANCE_TYPE_PREDICT, \n",
    "    serializer=JSONSerializer()\n",
    ")"
   ]
  },
  {
   "cell_type": "code",
   "execution_count": 22,
   "id": "4911847e-2611-47a6-b81c-dad32ec235bc",
   "metadata": {},
   "outputs": [
    {
     "data": {
      "text/plain": [
       "count    3632.000000\n",
       "mean        0.210332\n",
       "std         0.236586\n",
       "min         0.000010\n",
       "25%         0.040223\n",
       "50%         0.101334\n",
       "75%         0.320263\n",
       "max         0.996125\n",
       "Name: __label__reply, dtype: float64"
      ]
     },
     "execution_count": 22,
     "metadata": {},
     "output_type": "execute_result"
    }
   ],
   "source": [
    "# Make predictions and extract probability of reply\n",
    "# =================================================\n",
    "def _prediction_to_df_row(pred: dict) -> dict:\n",
    "    labels = pred['label']\n",
    "    probs = pred['prob']\n",
    "    return {\n",
    "        label: prob \n",
    "        for label, prob in zip(labels, probs)\n",
    "    }\n",
    "\n",
    "def get_probs(text: np.array, deployed_model) -> list[np.float]:\n",
    "    payload = {\n",
    "        \"instances\": text,\n",
    "        \"configuration\": {\"k\": 2},  # get probs for top-k (both) classes\n",
    "    }\n",
    "    response = deployed_model.predict(payload)\n",
    "    predictions = json.loads(response)\n",
    "\n",
    "    all_probs = [\n",
    "        _prediction_to_df_row(pred) for pred in predictions\n",
    "    ]\n",
    "    return pd.DataFrame(all_probs)['__label__reply']\n",
    "\n",
    "# Probability of reply for messages that actually received a reply\n",
    "replied_tos = df_test.loc[df_test.label == '__label__reply', 'feature'].values\n",
    "p_reply = get_probs(replied_tos, deployed_model=deployed_model)\n",
    "p_reply.describe()\n",
    "\n",
    "# Probability of reply for messages that did NOT received a reply\n",
    "no_reply = df_test.loc[df_test.label == '__label__no_reply', 'feature'].values\n",
    "p_no_reply = pd.concat(\n",
    "    [\n",
    "        # Need to make 2 separate requests\n",
    "        get_probs(no_reply[:2000], deployed_model=deployed_model),\n",
    "        get_probs(no_reply[2000:], deployed_model=deployed_model)\n",
    "    ],\n",
    "    axis=0\n",
    ")\n",
    "p_no_reply.describe()"
   ]
  },
  {
   "cell_type": "markdown",
   "id": "e5847b63-87a2-41e5-9864-8aef40cecdc6",
   "metadata": {},
   "source": [
    "Let's compare how our predictions for those emails that actually received a reply differ from those that did not receive a reply. To do so, we'll estimate the probability density function from the predictions and plot it:"
   ]
  },
  {
   "cell_type": "code",
   "execution_count": 53,
   "id": "f3a39de6-2657-4962-97f4-853cba12f5bf",
   "metadata": {},
   "outputs": [
    {
     "data": {
      "image/png": "[encoded data removed]",
      "text/plain": [
       "<Figure size 432x288 with 1 Axes>"
      ]
     },
     "metadata": {
      "needs_background": "light"
     },
     "output_type": "display_data"
    }
   ],
   "source": [
    "# Kernel-density estimation\n",
    "p_reply.plot.kde(\n",
    "    xlim = (0,1),\n",
    "    label='True label: reply',\n",
    "    xlabel='categories'\n",
    "\n",
    ")\n",
    "p_no_reply.plot.kde(\n",
    "    xlim = (0,1),\n",
    "    label='True label: NO reply',\n",
    "    title='Probability Distribution of Predicted Probability of Reply'\n",
    ")\n",
    "plt.legend()\n",
    "plt.show();"
   ]
  },
  {
   "cell_type": "markdown",
   "id": "305eaf4b-2ab4-4341-98f3-c546f3e30e96",
   "metadata": {},
   "source": [
    "We see that our model performs much better at identifying emails that did not receive a reply. By contrast, it is less confident when identifying emails that do receive a reply. This is as expected, as we have much fewer training examples for emails that elicit a reply."
   ]
  },
  {
   "cell_type": "code",
   "execution_count": 23,
   "id": "880be113-4e07-4700-a08f-35ac07066526",
   "metadata": {},
   "outputs": [],
   "source": [
    "# Cleanup\n",
    "deployed_model.delete_predictor()"
   ]
  }
 ],
 "metadata": {
  "instance_type": "ml.t3.medium",
  "kernelspec": {
   "display_name": "Python 3 (Data Science 2.0)",
   "language": "python",
   "name": "python3__SAGEMAKER_INTERNAL__arn:aws:sagemaker:us-east-1:081325390199:image/sagemaker-data-science-38"
  },
  "language_info": {
   "codemirror_mode": {
    "name": "ipython",
    "version": 3
   },
   "file_extension": ".py",
   "mimetype": "text/x-python",
   "name": "python",
   "nbconvert_exporter": "python",
   "pygments_lexer": "ipython3",
   "version": "3.8.13"
  }
 },
 "nbformat": 4,
 "nbformat_minor": 5
}
