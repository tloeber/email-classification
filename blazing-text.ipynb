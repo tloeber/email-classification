{
 "cells": [
  {
   "cell_type": "code",
   "execution_count": 2,
   "id": "08a42f34-335e-4389-b353-4930877e34bc",
   "metadata": {},
   "outputs": [],
   "source": [
    "# Enable current type hints for older Python version (<3.10) \n",
    "from __future__ import annotations\n",
    "import boto3\n",
    "import pandas as pd\n",
    "import pyarrow.parquet as pq\n",
    "import numpy as np\n",
    "import seaborn as sns\n",
    "import matplotlib.pyplot as plt\n",
    "import pdb"
   ]
  },
  {
   "cell_type": "markdown",
   "id": "b9956edb-33fe-412b-909a-aa6b011a05d2",
   "metadata": {},
   "source": [
    "# Read data"
   ]
  },
  {
   "cell_type": "code",
   "execution_count": 3,
   "id": "481a494b-5e00-4942-a581-c117274d0da4",
   "metadata": {},
   "outputs": [],
   "source": [
    "BUCKET_NAME = 'sagemaker-data-and-models'\n",
    "PREFIX = 'email-classification'\n",
    "FILE_NAME ='df.parquet'\n",
    "\n",
    "s3 = boto3.client('s3')\n",
    "s3.download_file(\n",
    "    Bucket=BUCKET_NAME, \n",
    "    Key=f'{PREFIX}/{FILE_NAME}', \n",
    "    Filename=FILE_NAME\n",
    ")"
   ]
  },
  {
   "cell_type": "code",
   "execution_count": 80,
   "id": "4e25d590-3092-4308-9e00-f063161a8939",
   "metadata": {},
   "outputs": [
    {
     "data": {
      "text/html": [
       "<div>\n",
       "<style scoped>\n",
       "    .dataframe tbody tr th:only-of-type {\n",
       "        vertical-align: middle;\n",
       "    }\n",
       "\n",
       "    .dataframe tbody tr th {\n",
       "        vertical-align: top;\n",
       "    }\n",
       "\n",
       "    .dataframe thead th {\n",
       "        text-align: right;\n",
       "    }\n",
       "</style>\n",
       "<table border=\"1\" class=\"dataframe\">\n",
       "  <thead>\n",
       "    <tr style=\"text-align: right;\">\n",
       "      <th></th>\n",
       "      <th>replied_to</th>\n",
       "      <th>sender</th>\n",
       "      <th>body</th>\n",
       "      <th>timestamp</th>\n",
       "    </tr>\n",
       "  </thead>\n",
       "  <tbody>\n",
       "    <tr>\n",
       "      <th>183cb6c70075704b</th>\n",
       "      <td>False</td>\n",
       "      <td>Anthem-healthspendingaccounts@mail2.anthem.com</td>\n",
       "      <td>[http://images.myhealthyfinances.com/EloquaIma...</td>\n",
       "      <td>1665565214000</td>\n",
       "    </tr>\n",
       "    <tr>\n",
       "      <th>183ca91acbdcd4f8</th>\n",
       "      <td>False</td>\n",
       "      <td>FloTechnologies &lt;no-reply@meetflo.com&gt;</td>\n",
       "      <td>\\n\\n\\n\\n\\nWarning:\\r\\n    Low Battery\\r\\n    \\...</td>\n",
       "      <td>1665550886000</td>\n",
       "    </tr>\n",
       "  </tbody>\n",
       "</table>\n",
       "</div>"
      ],
      "text/plain": [
       "                  replied_to                                          sender  \\\n",
       "183cb6c70075704b       False  Anthem-healthspendingaccounts@mail2.anthem.com   \n",
       "183ca91acbdcd4f8       False          FloTechnologies <no-reply@meetflo.com>   \n",
       "\n",
       "                                                               body  \\\n",
       "183cb6c70075704b  [http://images.myhealthyfinances.com/EloquaIma...   \n",
       "183ca91acbdcd4f8  \\n\\n\\n\\n\\nWarning:\\r\\n    Low Battery\\r\\n    \\...   \n",
       "\n",
       "                      timestamp  \n",
       "183cb6c70075704b  1665565214000  \n",
       "183ca91acbdcd4f8  1665550886000  "
      ]
     },
     "execution_count": 80,
     "metadata": {},
     "output_type": "execute_result"
    }
   ],
   "source": [
    "df = pq.read_table('df.parquet')\n",
    "df = df.to_pandas()\n",
    "df.iloc[1:3, :]"
   ]
  },
  {
   "cell_type": "code",
   "execution_count": 5,
   "id": "1af94cdf-f46c-4a0c-8e89-04df60c2db78",
   "metadata": {},
   "outputs": [
    {
     "data": {
      "text/plain": [
       "26695"
      ]
     },
     "execution_count": 5,
     "metadata": {},
     "output_type": "execute_result"
    }
   ],
   "source": [
    "len(df)"
   ]
  },
  {
   "cell_type": "markdown",
   "id": "8af88119-8cae-4eb3-8a3e-8e2efede8e5f",
   "metadata": {},
   "source": [
    "# Clean and transform data"
   ]
  },
  {
   "cell_type": "markdown",
   "id": "36850208-322f-4b24-8619-e20d236942d2",
   "metadata": {},
   "source": [
    "## Drop rows"
   ]
  },
  {
   "cell_type": "code",
   "execution_count": 6,
   "id": "b0999a39-d4d8-4bd8-acd7-1f03f2fadf50",
   "metadata": {},
   "outputs": [
    {
     "data": {
      "text/plain": [
       "False    388\n",
       "Name: replied_to, dtype: int64"
      ]
     },
     "execution_count": 6,
     "metadata": {},
     "output_type": "execute_result"
    }
   ],
   "source": [
    "# Drop emails frowarded from my other inbox\n",
    "df.loc[df.sender.str.contains('loeberthomas@yahoo.com'), 'replied_to'] \\\n",
    "    .value_counts()"
   ]
  },
  {
   "cell_type": "code",
   "execution_count": 7,
   "id": "2434d9c1-d7aa-441c-bf5b-e5f50b834101",
   "metadata": {},
   "outputs": [],
   "source": [
    "df = df.loc[\n",
    "    ~df.sender.str.contains('loeberthomas@yahoo.com'),\n",
    "    :\n",
    "]"
   ]
  },
  {
   "cell_type": "code",
   "execution_count": 8,
   "id": "aea2859b-98d0-4e51-866f-48fe1ec3f620",
   "metadata": {},
   "outputs": [],
   "source": [
    "# Drop emails whith empty body\n",
    "df = df.loc[\n",
    "    df.body.map(len) > 0,\n",
    "    :\n",
    "]"
   ]
  },
  {
   "cell_type": "markdown",
   "id": "cec052a0-1445-4c9b-9642-4614f4b819df",
   "metadata": {},
   "source": [
    "## Text preprocessing"
   ]
  },
  {
   "cell_type": "code",
   "execution_count": 9,
   "id": "318c9667-73fb-4308-8afc-d665db8c76ab",
   "metadata": {},
   "outputs": [
    {
     "name": "stderr",
     "output_type": "stream",
     "text": [
      "[nltk_data] Downloading package punkt to /root/nltk_data...\n",
      "[nltk_data]   Package punkt is already up-to-date!\n"
     ]
    },
    {
     "data": {
      "text/plain": [
       "__label__no_reply    24234\n",
       "__label__reply         261\n",
       "Name: target, dtype: int64"
      ]
     },
     "execution_count": 9,
     "metadata": {},
     "output_type": "execute_result"
    }
   ],
   "source": [
    "import nltk\n",
    "nltk.download(\"punkt\")\n",
    "\n",
    "def create_target(s):\n",
    "    \"\"\"Target as required by Blazing Text.\"\"\"\n",
    "    label = \"reply\" if s == True else \"no_reply\"\n",
    "    return f'__label__{label}'\n",
    "    \n",
    "# Convert training data into right format for tensorflow\n",
    "def strip_non_ascii_chars(string_: str) -> str:\n",
    "    return string_.encode('ascii', errors='ignore').decode()\n",
    "\n",
    "def replace_chars_for_csv(string_: str) -> str:\n",
    "    return string_.replace('\\n', ' ') \\\n",
    "        .replace(',', ' ')\n",
    "\n",
    "def tokenize(s):\n",
    "    token_list = nltk.word_tokenize(s)\n",
    "    return ' '.join(token_list)\n",
    "\n",
    "df['target'] = df.replied_to.map(create_target)\n",
    "df.target.value_counts()"
   ]
  },
  {
   "cell_type": "code",
   "execution_count": 10,
   "id": "430d9634-0542-4779-8c18-ceffc16ad96f",
   "metadata": {},
   "outputs": [],
   "source": [
    "df['feature'] = df.body.map(strip_non_ascii_chars) \\\n",
    "    .map(replace_chars_for_csv) \\\n",
    "    .map(tokenize)"
   ]
  },
  {
   "cell_type": "code",
   "execution_count": 11,
   "id": "124150f0-13b7-4e89-8903-41463c56652b",
   "metadata": {},
   "outputs": [
    {
     "data": {
      "text/html": [
       "<div>\n",
       "<style scoped>\n",
       "    .dataframe tbody tr th:only-of-type {\n",
       "        vertical-align: middle;\n",
       "    }\n",
       "\n",
       "    .dataframe tbody tr th {\n",
       "        vertical-align: top;\n",
       "    }\n",
       "\n",
       "    .dataframe thead th {\n",
       "        text-align: right;\n",
       "    }\n",
       "</style>\n",
       "<table border=\"1\" class=\"dataframe\">\n",
       "  <thead>\n",
       "    <tr style=\"text-align: right;\">\n",
       "      <th></th>\n",
       "      <th>target</th>\n",
       "      <th>feature</th>\n",
       "    </tr>\n",
       "  </thead>\n",
       "  <tbody>\n",
       "    <tr>\n",
       "      <th>183cbf647a8af438</th>\n",
       "      <td>__label__no_reply</td>\n",
       "      <td>Good morning families - The technician is here...</td>\n",
       "    </tr>\n",
       "    <tr>\n",
       "      <th>183cb6c70075704b</th>\n",
       "      <td>__label__no_reply</td>\n",
       "      <td>[ http : //images.myhealthyfinances.com/Eloqua...</td>\n",
       "    </tr>\n",
       "    <tr>\n",
       "      <th>183ca91acbdcd4f8</th>\n",
       "      <td>__label__no_reply</td>\n",
       "      <td>Warning : Low Battery Warning : Low Battery Vi...</td>\n",
       "    </tr>\n",
       "  </tbody>\n",
       "</table>\n",
       "</div>"
      ],
      "text/plain": [
       "                             target  \\\n",
       "183cbf647a8af438  __label__no_reply   \n",
       "183cb6c70075704b  __label__no_reply   \n",
       "183ca91acbdcd4f8  __label__no_reply   \n",
       "\n",
       "                                                            feature  \n",
       "183cbf647a8af438  Good morning families - The technician is here...  \n",
       "183cb6c70075704b  [ http : //images.myhealthyfinances.com/Eloqua...  \n",
       "183ca91acbdcd4f8  Warning : Low Battery Warning : Low Battery Vi...  "
      ]
     },
     "execution_count": 11,
     "metadata": {},
     "output_type": "execute_result"
    }
   ],
   "source": [
    "df[['target', 'feature']].head(3)"
   ]
  },
  {
   "cell_type": "code",
   "execution_count": 12,
   "id": "e7e391d7-0ea7-4e85-aaa0-5d175caee322",
   "metadata": {},
   "outputs": [],
   "source": [
    "assert df.isnull().sum().sum() == 0\n",
    "assert df.feature.str.contains(',').sum() == 0\n",
    "assert df.feature.str.contains('\\n').sum() == 0"
   ]
  },
  {
   "cell_type": "markdown",
   "id": "7b4e39ac-f4f0-40be-9520-9cedb78336f0",
   "metadata": {},
   "source": [
    "# Split data"
   ]
  },
  {
   "cell_type": "code",
   "execution_count": 13,
   "id": "8fcf74c8-e976-4ccc-b50d-d6abcf270be7",
   "metadata": {},
   "outputs": [
    {
     "data": {
      "text/html": [
       "<div>\n",
       "<style scoped>\n",
       "    .dataframe tbody tr th:only-of-type {\n",
       "        vertical-align: middle;\n",
       "    }\n",
       "\n",
       "    .dataframe tbody tr th {\n",
       "        vertical-align: top;\n",
       "    }\n",
       "\n",
       "    .dataframe thead th {\n",
       "        text-align: right;\n",
       "    }\n",
       "</style>\n",
       "<table border=\"1\" class=\"dataframe\">\n",
       "  <thead>\n",
       "    <tr style=\"text-align: right;\">\n",
       "      <th></th>\n",
       "      <th>split</th>\n",
       "      <th>target</th>\n",
       "      <th>feature</th>\n",
       "    </tr>\n",
       "  </thead>\n",
       "  <tbody>\n",
       "    <tr>\n",
       "      <th>0</th>\n",
       "      <td>test</td>\n",
       "      <td>__label__no_reply</td>\n",
       "      <td>3632</td>\n",
       "    </tr>\n",
       "    <tr>\n",
       "      <th>1</th>\n",
       "      <td>test</td>\n",
       "      <td>__label__reply</td>\n",
       "      <td>43</td>\n",
       "    </tr>\n",
       "    <tr>\n",
       "      <th>2</th>\n",
       "      <td>train</td>\n",
       "      <td>__label__no_reply</td>\n",
       "      <td>18176</td>\n",
       "    </tr>\n",
       "    <tr>\n",
       "      <th>3</th>\n",
       "      <td>train</td>\n",
       "      <td>__label__reply</td>\n",
       "      <td>195</td>\n",
       "    </tr>\n",
       "    <tr>\n",
       "      <th>4</th>\n",
       "      <td>val</td>\n",
       "      <td>__label__no_reply</td>\n",
       "      <td>2426</td>\n",
       "    </tr>\n",
       "    <tr>\n",
       "      <th>5</th>\n",
       "      <td>val</td>\n",
       "      <td>__label__reply</td>\n",
       "      <td>23</td>\n",
       "    </tr>\n",
       "  </tbody>\n",
       "</table>\n",
       "</div>"
      ],
      "text/plain": [
       "   split             target  feature\n",
       "0   test  __label__no_reply     3632\n",
       "1   test     __label__reply       43\n",
       "2  train  __label__no_reply    18176\n",
       "3  train     __label__reply      195\n",
       "4    val  __label__no_reply     2426\n",
       "5    val     __label__reply       23"
      ]
     },
     "execution_count": 13,
     "metadata": {},
     "output_type": "execute_result"
    }
   ],
   "source": [
    "# Specify split proportion, then identify corresponding timestamp and split.\n",
    "TRAIN_PROPORTION = 0.75\n",
    "VAL_PROPORTION = 0.1\n",
    "test_proportion = 1 - TRAIN_PROPORTION - VAL_PROPORTION\n",
    "assert test_proportion > 0\n",
    "assert test_proportion < 1\n",
    "\n",
    "train_cutoff = np.quantile(df.timestamp, q=TRAIN_PROPORTION)\n",
    "val_cutoff = np.quantile(df.timestamp, q=TRAIN_PROPORTION+VAL_PROPORTION)\n",
    "\n",
    "def split_dataset(ts):\n",
    "    if ts < train_cutoff:\n",
    "        return 'train'\n",
    "    elif ts > val_cutoff:\n",
    "        return 'test'\n",
    "    else:\n",
    "        return 'val'\n",
    "    \n",
    "\n",
    "df['split'] = df.timestamp.map(split_dataset)\n",
    "\n",
    "counts = df.groupby(['split', 'target']).feature \\\n",
    "    .count() \\\n",
    "    .reset_index()\n",
    "counts"
   ]
  },
  {
   "cell_type": "code",
   "execution_count": 14,
   "id": "d0514bcd-ed7b-409c-adb2-85831ba57131",
   "metadata": {},
   "outputs": [
    {
     "name": "stderr",
     "output_type": "stream",
     "text": [
      "No handles with labels found to put in legend.\n"
     ]
    },
    {
     "data": {
      "image/png": "[encoded data removed]",
      "text/plain": [
       "<Figure size 640x480 with 1 Axes>"
      ]
     },
     "metadata": {},
     "output_type": "display_data"
    }
   ],
   "source": [
    "p = sns.barplot(data=counts, y='split', x='feature', hue='target', orient='h', errwidth=0)\n",
    "p.set_xscale('log')\n",
    "plt.show()"
   ]
  },
  {
   "cell_type": "markdown",
   "id": "1ee97ac6-a28f-4036-9b2d-f2f093dbe629",
   "metadata": {},
   "source": [
    "## Oversample minority class"
   ]
  },
  {
   "cell_type": "code",
   "execution_count": 15,
   "id": "d9766283-591a-4f2c-8c8c-e903b980353b",
   "metadata": {},
   "outputs": [
    {
     "name": "stdout",
     "output_type": "stream",
     "text": [
      "\u001b[33mWARNING: Running pip as the 'root' user can result in broken permissions and conflicting behaviour with the system package manager. It is recommended to use a virtual environment instead: https://pip.pypa.io/warnings/venv\u001b[0m\u001b[33m\n",
      "\u001b[0mNote: you may need to restart the kernel to use updated packages.\n"
     ]
    }
   ],
   "source": [
    "pip install imblearn --quiet"
   ]
  },
  {
   "cell_type": "code",
   "execution_count": 16,
   "id": "ce587ad2-a7c1-4fb1-994c-ffdc5b4e4016",
   "metadata": {},
   "outputs": [
    {
     "data": {
      "text/plain": [
       "__label__no_reply    18176\n",
       "__label__reply       18176\n",
       "Name: target, dtype: int64"
      ]
     },
     "execution_count": 16,
     "metadata": {},
     "output_type": "execute_result"
    }
   ],
   "source": [
    "from imblearn.over_sampling import RandomOverSampler\n",
    "\n",
    "def oversample(df: pd.DataFrame) -> pd.DataFrame:\n",
    "    max_label_count = df.target \\\n",
    "        .value_counts() \\\n",
    "        .max()\n",
    "\n",
    "    ros = RandomOverSampler(\n",
    "        random_state=1, \n",
    "        sampling_strategy={\n",
    "            '__label__no_reply': max_label_count,\n",
    "            '__label__reply': max_label_count,\n",
    "        }    \n",
    "    )\n",
    "    X_os, y_os = ros.fit_resample(X=df[['feature']], y=df[['target']])\n",
    "\n",
    "    df_os = pd.DataFrame(\n",
    "        {\n",
    "            'target': y_os.target,\n",
    "            'feature': X_os.feature,\n",
    "        }\n",
    "    )\n",
    "    return df_os\n",
    "\n",
    "df_train = df.loc[df.split == 'train', ['target', 'feature']]\n",
    "df_val = df.loc[df.split == 'val', ['target', 'feature']]\n",
    "df_test = df.loc[df.split == 'test', ['target', 'feature']]\n",
    "\n",
    "df_train_os = oversample(df_train)\n",
    "df_train_os.target.value_counts()"
   ]
  },
  {
   "cell_type": "code",
   "execution_count": 17,
   "id": "db596184-7903-4073-a7b6-e6c10e52a9eb",
   "metadata": {},
   "outputs": [
    {
     "data": {
      "text/plain": [
       "__label__no_reply    2426\n",
       "__label__reply       2426\n",
       "Name: target, dtype: int64"
      ]
     },
     "execution_count": 17,
     "metadata": {},
     "output_type": "execute_result"
    }
   ],
   "source": [
    "df_val_os = oversample(df_val)\n",
    "df_val_os.target.value_counts()"
   ]
  },
  {
   "cell_type": "markdown",
   "id": "375f0ce5-5a52-4639-8aa3-9860311c5884",
   "metadata": {},
   "source": [
    "# Write input data"
   ]
  },
  {
   "cell_type": "code",
   "execution_count": 18,
   "id": "06ed7bb3-b5eb-44b4-ae31-9f399e503c86",
   "metadata": {},
   "outputs": [
    {
     "name": "stdout",
     "output_type": "stream",
     "text": [
      "Breakdown for train/base: __label__no_reply    18176\n",
      "__label__reply         195\n",
      "Name: target, dtype: int64\n",
      "Uploaded to s3://sagemaker-data-and-models/email-classification/train/base\n",
      "\n",
      "Breakdown for validation: __label__no_reply    2426\n",
      "__label__reply         23\n",
      "Name: target, dtype: int64\n",
      "Uploaded to s3://sagemaker-data-and-models/email-classification/validation\n",
      "\n",
      "Breakdown for train/os: __label__no_reply    18176\n",
      "__label__reply       18176\n",
      "Name: target, dtype: int64\n",
      "Uploaded to s3://sagemaker-data-and-models/email-classification/train/os\n",
      "\n",
      "Breakdown for validation/os: __label__no_reply    2426\n",
      "__label__reply       2426\n",
      "Name: target, dtype: int64\n",
      "Uploaded to s3://sagemaker-data-and-models/email-classification/validation/os\n",
      "\n"
     ]
    }
   ],
   "source": [
    "INPUT_FILENAME = 'input-blazing-text.csv'\n",
    "\n",
    "train_key = f'{PREFIX}/train/{INPUT_FILENAME}'\n",
    "val_key = f'{PREFIX}/validation/{INPUT_FILENAME}'\n",
    "test_key = f'{PREFIX}/test/{INPUT_FILENAME}'\n",
    "\n",
    "input_path_train = f's3://{BUCKET_NAME}/{PREFIX}/train'  # For Sagemaker\n",
    "input_path_val = f's3://{BUCKET_NAME}/{PREFIX}/validation'  # For Sagemaker\n",
    "input_path_val = f's3://{BUCKET_NAME}/{PREFIX}/test'  # For Sagemaker\n",
    "\n",
    "output_path = f's3://{BUCKET_NAME}/{PREFIX}/output'  # For Sagemaker\n",
    "\n",
    "def upload_data(df: pd.DataFrame, folder) -> str:\n",
    "    # train\n",
    "    print(f'Breakdown for {folder}: {df.target.value_counts()}')\n",
    "    df.to_csv(INPUT_FILENAME, index=False, header=False, sep=' ')\n",
    "    \n",
    "    s3_key = f'{PREFIX}/{folder}/{INPUT_FILENAME}'\n",
    "    s3_folder_path = f's3://{BUCKET_NAME}/{PREFIX}/{folder}'\n",
    "    s3.upload_file(\n",
    "        Filename=INPUT_FILENAME,\n",
    "        Bucket=BUCKET_NAME,\n",
    "        Key=s3_key\n",
    "    )\n",
    "    print(f'Uploaded to {s3_folder_path}\\n')\n",
    "    return s3_folder_path\n",
    "\n",
    "train_path_base = upload_data(df_train, 'train/base')\n",
    "val_path_base = upload_data(df_val, 'validation')\n",
    "\n",
    "train_path_os = upload_data(df_train_os, 'train/os')\n",
    "val_path_os = upload_data(df_val_os, 'validation/os')"
   ]
  },
  {
   "cell_type": "code",
   "execution_count": 19,
   "id": "36b2585b-53c8-43f5-af6d-cedabda06464",
   "metadata": {},
   "outputs": [],
   "source": [
    "## Only run this after stopping notebook instance\n",
    "# !pip install sagemaker --upgrade --quiet"
   ]
  },
  {
   "cell_type": "markdown",
   "id": "2d57d2f9-6219-450f-9253-975ae969fe5d",
   "metadata": {},
   "source": [
    "# Sagemaker"
   ]
  },
  {
   "cell_type": "code",
   "execution_count": 20,
   "id": "e91f7ea6-b292-462f-84c1-a83a294882b3",
   "metadata": {},
   "outputs": [
    {
     "name": "stderr",
     "output_type": "stream",
     "text": [
      "The method get_image_uri has been renamed in sagemaker>=2.\n",
      "See: https://sagemaker.readthedocs.io/en/stable/v2.html for details.\n",
      "Defaulting to the only supported framework/algorithm version: 1. Ignoring framework/algorithm version: latest.\n"
     ]
    },
    {
     "name": "stdout",
     "output_type": "stream",
     "text": [
      "Using SageMaker BlazingText container: 811284229777.dkr.ecr.us-east-1.amazonaws.com/blazingtext:1 (us-east-1)\n"
     ]
    }
   ],
   "source": [
    "import sagemaker\n",
    "\n",
    "region_name = boto3.Session().region_name\n",
    "container = sagemaker.amazon.amazon_estimator.get_image_uri(region_name, \"blazingtext\", \"latest\")\n",
    "print(f\"Using SageMaker BlazingText container: {container} ({region_name})\")"
   ]
  },
  {
   "cell_type": "code",
   "execution_count": 21,
   "id": "834077fd-8f30-437d-bdab-025c983c5850",
   "metadata": {},
   "outputs": [],
   "source": [
    "role = sagemaker.get_execution_role()"
   ]
  },
  {
   "cell_type": "code",
   "execution_count": 22,
   "id": "a7b1283b-9824-4f2f-9588-6d883d340df3",
   "metadata": {
    "tags": []
   },
   "outputs": [],
   "source": [
    "def create_model_inputs(input_path_train, input_path_val):\n",
    "    train_data = sagemaker.inputs.TrainingInput(\n",
    "        input_path_train,\n",
    "        distribution=\"FullyReplicated\",\n",
    "        content_type=\"text/plain\",\n",
    "        s3_data_type=\"S3Prefix\",\n",
    "    )\n",
    "    validation_data = sagemaker.inputs.TrainingInput(\n",
    "        input_path_val,\n",
    "        distribution=\"FullyReplicated\",\n",
    "        content_type=\"text/plain\",\n",
    "        s3_data_type=\"S3Prefix\",\n",
    "    )\n",
    "    data_channels = {\"train\": train_data, \"validation\": validation_data}\n",
    "    return data_channels\n",
    "\n",
    "\n",
    "data_channels_base = create_model_inputs(train_path_base, val_path_base)\n",
    "data_channels_os = create_model_inputs(train_path_os, val_path_os)"
   ]
  },
  {
   "cell_type": "code",
   "execution_count": 28,
   "id": "72d3b8b1-d25f-41e6-ac8c-71377b031f23",
   "metadata": {},
   "outputs": [
    {
     "name": "stdout",
     "output_type": "stream",
     "text": [
      "2022-10-14 10:06:51 Starting - Starting the training job...\n",
      "2022-10-14 10:07:21 Starting - Preparing the instances for trainingProfilerReport-1665742011: InProgress\n",
      ".........\n",
      "2022-10-14 10:08:41 Downloading - Downloading input data...\n",
      "2022-10-14 10:09:22 Training - Training image download completed. Training in progress.\u001b[34mArguments: train\u001b[0m\n",
      "\u001b[34m[10/14/2022 10:09:06 WARNING 140082370721600] Loggers have already been setup.\u001b[0m\n",
      "\u001b[34m[10/14/2022 10:09:06 WARNING 140082370721600] Loggers have already been setup.\u001b[0m\n",
      "\u001b[34m[10/14/2022 10:09:06 INFO 140082370721600] nvidia-smi took: 0.05026745796203613 secs to identify 0 gpus\u001b[0m\n",
      "\u001b[34m[10/14/2022 10:09:06 INFO 140082370721600] Running single machine CPU BlazingText training using supervised mode.\u001b[0m\n",
      "\u001b[34mNumber of CPU sockets found in instance is  1\u001b[0m\n",
      "\u001b[34m[10/14/2022 10:09:06 INFO 140082370721600] Processing /opt/ml/input/data/train/input-blazing-text.csv . File size: 78.67445850372314 MB\u001b[0m\n",
      "\u001b[34m[10/14/2022 10:09:06 INFO 140082370721600] Processing /opt/ml/input/data/validation/input-blazing-text.csv . File size: 8.174285888671875 MB\u001b[0m\n",
      "\u001b[34mRead 10M words\u001b[0m\n",
      "\u001b[34mRead 12M words\u001b[0m\n",
      "\u001b[34mNumber of words:  98705\u001b[0m\n",
      "\u001b[34mLoading validation data from /opt/ml/input/data/validation/input-blazing-text.csv\u001b[0m\n",
      "\u001b[34mLoaded validation data.\u001b[0m\n",
      "\u001b[34m##### Alpha: 0.0357  Progress: 28.66%  Million Words/sec: 26.10 #####\u001b[0m\n",
      "\u001b[34m##### Alpha: 0.0321  Progress: 35.73%  Million Words/sec: 26.31 #####\u001b[0m\n",
      "\u001b[34m-------------- End of epoch: 1\u001b[0m\n",
      "\u001b[34m##### Alpha: 0.0285  Progress: 42.91%  Million Words/sec: 26.48 #####\u001b[0m\n",
      "\u001b[34m##### Alpha: 0.0248  Progress: 50.32%  Million Words/sec: 26.69 #####\u001b[0m\n",
      "\u001b[34m##### Alpha: 0.0212  Progress: 57.62%  Million Words/sec: 26.87 #####\u001b[0m\n",
      "\u001b[34m##### Alpha: 0.0175  Progress: 64.94%  Million Words/sec: 27.01 #####\u001b[0m\n",
      "\u001b[34m##### Alpha: 0.0138  Progress: 72.43%  Million Words/sec: 27.19 #####\u001b[0m\n",
      "\u001b[34m-------------- End of epoch: 2\u001b[0m\n",
      "\u001b[34m##### Alpha: 0.0101  Progress: 79.76%  Million Words/sec: 27.28 #####\u001b[0m\n",
      "\u001b[34m##### Alpha: 0.0065  Progress: 87.00%  Million Words/sec: 27.33 #####\u001b[0m\n",
      "\u001b[34m##### Alpha: 0.0028  Progress: 94.30%  Million Words/sec: 27.39 #####\u001b[0m\n",
      "\u001b[34m##### Alpha: -0.0000  Progress: 100.03%  Million Words/sec: 27.01 #####\u001b[0m\n",
      "\u001b[34m-------------- End of epoch: 3\u001b[0m\n",
      "\u001b[34m##### Alpha: 0.0000  Progress: 100.00%  Million Words/sec: 27.00 #####\u001b[0m\n",
      "\u001b[34mTraining finished.\u001b[0m\n",
      "\u001b[34mAverage throughput in Million words/sec: 27.00\u001b[0m\n",
      "\u001b[34mTotal training time in seconds: 1.43\u001b[0m\n",
      "\u001b[34m#train_accuracy: 0.9595\u001b[0m\n",
      "\u001b[34mNumber of train examples: 36352\u001b[0m\n",
      "\u001b[34m#validation_accuracy: 0.8186\u001b[0m\n",
      "\u001b[34mNumber of validation examples: 4852\u001b[0m\n",
      "\n",
      "2022-10-14 10:09:42 Uploading - Uploading generated training model\n",
      "2022-10-14 10:11:22 Completed - Training job completed\n",
      "ProfilerReport-1665742011: NoIssuesFound\n",
      "Training seconds: 157\n",
      "Billable seconds: 157\n",
      "-----!"
     ]
    }
   ],
   "source": [
    "from sagemaker.serializers import JSONSerializer\n",
    "def train_and_deploy(inputs):\n",
    "    est = sagemaker.estimator.Estimator(\n",
    "        container,\n",
    "        role,\n",
    "        instance_count=1,\n",
    "        instance_type=\"ml.c4.4xlarge\",\n",
    "        volume_size=30,\n",
    "        max_run=360000,\n",
    "        input_mode=\"File\",\n",
    "        output_path=output_path,\n",
    "        hyperparameters={\n",
    "            \"mode\": \"supervised\",\n",
    "            \"epochs\": 3,\n",
    "            \"min_count\": 2,\n",
    "            \"learning_rate\": 0.05,\n",
    "            \"vector_dim\": 100,\n",
    "            \"early_stopping\": True,\n",
    "            \"patience\": 4,\n",
    "            \"min_epochs\": 5,\n",
    "            \"word_ngrams\": 2,\n",
    "        },\n",
    "    )\n",
    "    est.fit(inputs=data_channels_os, logs=True)# using the same nltk tokenizer that we used during data preparation for training\n",
    "\n",
    "    deployed_model = est.deploy(\n",
    "        initial_instance_count=1, instance_type=\"ml.m5.xlarge\", serializer=JSONSerializer()\n",
    "    )\n",
    "    return est, deployed_model\n",
    "\n",
    "_, os_150 = train_and_deploy(inputs=data_channels_os)"
   ]
  },
  {
   "cell_type": "code",
   "execution_count": null,
   "id": "e3412d9b-8cf0-4d41-832e-e31fc9b88a87",
   "metadata": {
    "jupyter": {
     "source_hidden": true
    },
    "tags": []
   },
   "outputs": [],
   "source": [
    "_, os_150 = train_and_deploy(data_channels_os)"
   ]
  },
  {
   "cell_type": "markdown",
   "id": "75ee85b1-8146-472f-973c-db1085efc15c",
   "metadata": {},
   "source": [
    "## Prediction\n",
    "### Make predictions"
   ]
  },
  {
   "cell_type": "code",
   "execution_count": 24,
   "id": "f32f9600-05f0-4503-a696-f86b837a2833",
   "metadata": {},
   "outputs": [],
   "source": [
    "import json\n",
    "\n",
    "# Save as np array for easy splitting later\n",
    "replied_tos = df_test.loc[df.target == '__label__reply', 'feature'].values\n",
    "no_reply = df_test.loc[df.target == '__label__no_reply', 'feature'].values"
   ]
  },
  {
   "cell_type": "code",
   "execution_count": 38,
   "id": "e370ac3e-9085-46f2-a13f-c2060169b446",
   "metadata": {},
   "outputs": [
    {
     "data": {
      "text/plain": [
       "count    43.000000\n",
       "mean      0.581925\n",
       "std       0.281160\n",
       "min       0.018831\n",
       "25%       0.380132\n",
       "50%       0.571513\n",
       "75%       0.795249\n",
       "max       0.999826\n",
       "Name: __label__reply, dtype: float64"
      ]
     },
     "execution_count": 38,
     "metadata": {},
     "output_type": "execute_result"
    }
   ],
   "source": [
    "def _prediction_to_df_row(pred: dict) -> dict:\n",
    "    labels = pred['label']\n",
    "    probs = pred['prob']\n",
    "    return {\n",
    "        label: prob \n",
    "        for label, prob in zip(labels, probs)\n",
    "    }\n",
    "\n",
    "def get_probs(text: np.array, deployed_model) -> list[np.float]:\n",
    "    payload = {\n",
    "        \"instances\": text,\n",
    "        \"configuration\": {\"k\": 2},  # get probs for top-k (both) classes\n",
    "    }\n",
    "    response = deployed_model.predict(payload)\n",
    "    predictions = json.loads(response)\n",
    "\n",
    "    all_probs = [\n",
    "        _prediction_to_df_row(pred) for pred in predictions\n",
    "    ]\n",
    "    return pd.DataFrame(all_probs)['__label__reply']\n",
    "\n",
    "p_reply = get_probs(replied_tos, deployed_model=os_150)\n",
    "p_reply.describe()\n"
   ]
  },
  {
   "cell_type": "code",
   "execution_count": 41,
   "id": "2c505c99-0f28-4e82-a37a-539bf99043f1",
   "metadata": {},
   "outputs": [
    {
     "data": {
      "text/plain": [
       "count    3632.000000\n",
       "mean        0.139382\n",
       "std         0.208497\n",
       "min         0.000010\n",
       "25%         0.011663\n",
       "50%         0.036616\n",
       "75%         0.173670\n",
       "max         0.995345\n",
       "Name: __label__reply, dtype: float64"
      ]
     },
     "execution_count": 41,
     "metadata": {},
     "output_type": "execute_result"
    }
   ],
   "source": [
    "# Need to make 2 requests\n",
    "p_no_reply = pd.concat(\n",
    "    [\n",
    "        get_probs(no_reply[:2000], deployed_model=os_150),\n",
    "        get_probs(no_reply[2000:], deployed_model=os_150)\n",
    "    ],\n",
    "    axis=0\n",
    ")\n",
    "p_no_reply.describe()"
   ]
  },
  {
   "cell_type": "markdown",
   "id": "96e0d84c-6037-459d-8e7e-15fd258688b6",
   "metadata": {},
   "source": [
    "### Model performance"
   ]
  },
  {
   "cell_type": "code",
   "execution_count": 63,
   "id": "a42220b2-2b92-4f57-9257-5c3416f792c0",
   "metadata": {},
   "outputs": [
    {
     "data": {
      "text/plain": [
       "count    3675.000000\n",
       "mean        0.144560\n",
       "std         0.214782\n",
       "min         0.000010\n",
       "25%         0.011915\n",
       "50%         0.037556\n",
       "75%         0.188007\n",
       "max         0.999826\n",
       "Name: __label__reply, dtype: float64"
      ]
     },
     "execution_count": 63,
     "metadata": {},
     "output_type": "execute_result"
    }
   ],
   "source": [
    "# Vectors of true and predicted scores\n",
    "y_true = [1] * len(replied_tos) + [0] * len(no_reply)\n",
    "y_score = p_reply.append(p_no_reply)\n",
    "\n",
    "y_score.describe()"
   ]
  },
  {
   "cell_type": "code",
   "execution_count": 64,
   "id": "c00fabd3-84f4-465c-bf92-b0d4c4d388cb",
   "metadata": {},
   "outputs": [
    {
     "data": {
      "text/plain": [
       "0.8985567564798689"
      ]
     },
     "execution_count": 64,
     "metadata": {},
     "output_type": "execute_result"
    }
   ],
   "source": [
    "# AUC\n",
    "from sklearn.metrics import roc_auc_score, confusion_matrix, ConfusionMatrixDisplay, classification_report\n",
    "roc_auc_score(y_true=y_true, y_score=y_score)"
   ]
  },
  {
   "cell_type": "code",
   "execution_count": 75,
   "id": "5793d263-32ee-49e5-bcc1-2bd41980485b",
   "metadata": {},
   "outputs": [
    {
     "data": {
      "image/png": "[encoded data removed]",
      "text/plain": [
       "<Figure size 640x480 with 2 Axes>"
      ]
     },
     "metadata": {},
     "output_type": "display_data"
    }
   ],
   "source": [
    "cm = confusion_matrix(y_true=y_true, y_pred=y_score>0.5)\n",
    "disp = ConfusionMatrixDisplay(confusion_matrix=cm, display_labels=['no reply', 'replied to'])\n",
    "disp = disp.plot()\n",
    "plt.show()"
   ]
  },
  {
   "cell_type": "code",
   "execution_count": 60,
   "id": "6164c0f1-1806-462a-b5a7-c6f1af042a39",
   "metadata": {},
   "outputs": [
    {
     "name": "stdout",
     "output_type": "stream",
     "text": [
      "              precision    recall  f1-score   support\n",
      "\n",
      "    no reply       0.99      0.92      0.95      3632\n",
      "  replied to       0.08      0.60      0.14        43\n",
      "\n",
      "    accuracy                           0.91      3675\n",
      "   macro avg       0.54      0.76      0.55      3675\n",
      "weighted avg       0.98      0.91      0.95      3675\n",
      "\n"
     ]
    }
   ],
   "source": [
    "print(\n",
    "    classification_report(y_true=y_true, y_pred=y_score>0.5, target_names=['no reply', 'replied to'])\n",
    ")"
   ]
  },
  {
   "cell_type": "code",
   "execution_count": 76,
   "id": "1aa9986d-9767-4901-a38d-2fd2f38bcfea",
   "metadata": {},
   "outputs": [
    {
     "data": {
      "image/png": "[encoded data removed]",
      "text/plain": [
       "<Figure size 640x480 with 2 Axes>"
      ]
     },
     "metadata": {},
     "output_type": "display_data"
    }
   ],
   "source": [
    "cm = confusion_matrix(y_true=y_true, y_pred=y_score>0.1)\n",
    "disp = ConfusionMatrixDisplay(confusion_matrix=cm, display_labels=['no reply', 'replied to'])\n",
    "disp = disp.plot()\n",
    "plt.show()"
   ]
  },
  {
   "cell_type": "code",
   "execution_count": 77,
   "id": "a78d1305-a915-46ec-a42d-67034a122ce0",
   "metadata": {},
   "outputs": [
    {
     "name": "stdout",
     "output_type": "stream",
     "text": [
      "              precision    recall  f1-score   support\n",
      "\n",
      "    no reply       1.00      0.65      0.79      3632\n",
      "  replied to       0.03      0.95      0.06        43\n",
      "\n",
      "    accuracy                           0.65      3675\n",
      "   macro avg       0.52      0.80      0.42      3675\n",
      "weighted avg       0.99      0.65      0.78      3675\n",
      "\n"
     ]
    }
   ],
   "source": [
    "print(\n",
    "    classification_report(y_true=y_true, y_pred=y_score>0.1, target_names=['no reply', 'replied to'])\n",
    ")"
   ]
  },
  {
   "cell_type": "code",
   "execution_count": null,
   "id": "b0267f32-c94f-41df-8874-fbee6c4bebf6",
   "metadata": {},
   "outputs": [],
   "source": [
    "sess.delete_endpoint(os_150)"
   ]
  }
 ],
 "metadata": {
  "instance_type": "ml.t3.xlarge",
  "kernelspec": {
   "display_name": "Python 3 (Data Science)",
   "language": "python",
   "name": "python3__SAGEMAKER_INTERNAL__arn:aws:sagemaker:us-east-1:081325390199:image/datascience-1.0"
  },
  "language_info": {
   "codemirror_mode": {
    "name": "ipython",
    "version": 3
   },
   "file_extension": ".py",
   "mimetype": "text/x-python",
   "name": "python",
   "nbconvert_exporter": "python",
   "pygments_lexer": "ipython3",
   "version": "3.7.10"
  },
  "toc-showmarkdowntxt": true
 },
 "nbformat": 4,
 "nbformat_minor": 5
}
