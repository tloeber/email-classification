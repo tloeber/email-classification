{
 "cells": [
  {
   "cell_type": "code",
   "execution_count": 112,
   "id": "08a42f34-335e-4389-b353-4930877e34bc",
   "metadata": {},
   "outputs": [],
   "source": [
    "# Enable current type hints for older Python version (<3.10) \n",
    "from __future__ import annotations\n",
    "import boto3\n",
    "import pandas as pd\n",
    "import numpy as np\n",
    "import seaborn as sns\n",
    "import matplotlib.pyplot as plt\n",
    "from datetime import datetime\n",
    "import time"
   ]
  },
  {
   "cell_type": "code",
   "execution_count": 4,
   "id": "aa28092b-ee9d-45bd-b994-787b5de6f1d6",
   "metadata": {},
   "outputs": [],
   "source": [
    "from dotenv import dotenv_values\n",
    "\n",
    "config = dotenv_values(\".env\")\n",
    "\n",
    "BUCKET_NAME = config['BUCKET_NAME']\n",
    "PREFIX = config['PREFIX']\n",
    "FILE_NAME = config['FILE_NAME']\n",
    "TRAINING_DATA_PATH = config['TRAINING_DATA_PATH']\n",
    "VALIDATION_DATA_PATH = config['VALIDATION_DATA_PATH']"
   ]
  },
  {
   "cell_type": "code",
   "execution_count": 5,
   "id": "f225a450-c93b-4dde-8982-0a460f76e6ec",
   "metadata": {},
   "outputs": [],
   "source": [
    "# Todo: Remove this once using feature store\n",
    "import pickle\n",
    "with open('df_test.pickle', 'rb') as f:\n",
    "    df_test: pd.DataFrame = pickle.load(f)"
   ]
  },
  {
   "cell_type": "code",
   "execution_count": 6,
   "id": "e91f7ea6-b292-462f-84c1-a83a294882b3",
   "metadata": {},
   "outputs": [
    {
     "name": "stderr",
     "output_type": "stream",
     "text": [
      "The method get_image_uri has been renamed in sagemaker>=2.\n",
      "See: https://sagemaker.readthedocs.io/en/stable/v2.html for details.\n",
      "Defaulting to the only supported framework/algorithm version: 1. Ignoring framework/algorithm version: latest.\n"
     ]
    },
    {
     "name": "stdout",
     "output_type": "stream",
     "text": [
      "Using SageMaker BlazingText image: 811284229777.dkr.ecr.us-east-1.amazonaws.com/blazingtext:1 (us-east-1)\n"
     ]
    }
   ],
   "source": [
    "import sagemaker\n",
    "\n",
    "role = sagemaker.get_execution_role()\n",
    "region_name = boto3.Session().region_name\n",
    "image = sagemaker.amazon.amazon_estimator.get_image_uri(region_name, \"blazingtext\", \"latest\")\n",
    "print(f\"Using SageMaker BlazingText image: {image} ({region_name})\")"
   ]
  },
  {
   "cell_type": "code",
   "execution_count": 12,
   "id": "a7b1283b-9824-4f2f-9588-6d883d340df3",
   "metadata": {
    "tags": []
   },
   "outputs": [],
   "source": [
    "def create_model_inputs(input_path_train, input_path_val):\n",
    "    train_data = sagemaker.inputs.TrainingInput(\n",
    "        f's3://{input_path_train}',\n",
    "        distribution=\"FullyReplicated\",\n",
    "        content_type=\"text/plain\",\n",
    "        s3_data_type=\"S3Prefix\",\n",
    "    )\n",
    "    validation_data = sagemaker.inputs.TrainingInput(\n",
    "        f's3://{input_path_val}',\n",
    "        distribution=\"FullyReplicated\",\n",
    "        content_type=\"text/plain\",\n",
    "        s3_data_type=\"S3Prefix\",\n",
    "    )\n",
    "    data_channels = {\"train\": train_data, \"validation\": validation_data}\n",
    "    return data_channels\n",
    "\n",
    "\n",
    "data_channels = create_model_inputs(input_path_train=TRAINING_DATA_PATH, input_path_val=VALIDATION_DATA_PATH)"
   ]
  },
  {
   "cell_type": "code",
   "execution_count": 85,
   "id": "f87d9278-a5c7-45b8-9624-2144c08d3c96",
   "metadata": {},
   "outputs": [],
   "source": [
    "train_data = sagemaker.inputs.TrainingInput(\n",
    "    f's3://{TRAINING_DATA_PATH}',\n",
    "    distribution=\"FullyReplicated\",\n",
    "    content_type=\"text/plain\",\n",
    "    s3_data_type=\"S3Prefix\",\n",
    ")\n",
    "validation_data = sagemaker.inputs.TrainingInput(\n",
    "    f's3://{VALIDATION_DATA_PATH}',\n",
    "    distribution=\"FullyReplicated\",\n",
    "    content_type=\"text/plain\",\n",
    "    s3_data_type=\"S3Prefix\",\n",
    ")\n",
    "data_channels = {\"train\": train_data, \"validation\": validation_data}"
   ]
  },
  {
   "cell_type": "code",
   "execution_count": null,
   "id": "dd7ad61d-6bbc-4b05-b9a6-97ca5f64e9c9",
   "metadata": {},
   "outputs": [
    {
     "name": "stdout",
     "output_type": "stream",
     "text": [
      "....................................................................................................................................................................................................."
     ]
    }
   ],
   "source": [
    "# Specify search range based on AWS recommended balues\n",
    "# ( https://docs.aws.amazon.com/sagemaker/latest/dg/blazingtext-tuning.html )\n",
    "\n",
    "from sagemaker.tuner import (\n",
    "    IntegerParameter,\n",
    "    ContinuousParameter,\n",
    "    HyperparameterTuner,\n",
    ")\n",
    "\n",
    "hyperparameter_ranges = {\n",
    "    \"learning_rate\": ContinuousParameter(0.005, 0.01),\n",
    "    \"vector_dim\": IntegerParameter(32, 300),\n",
    "    \"buckets\": IntegerParameter(\n",
    "        int(1E6), int(1E7)\n",
    "    ),\n",
    "    \"epochs\": IntegerParameter(5, 15),\n",
    "    \"min_count\": IntegerParameter(0, 100),\n",
    "    \"word_ngrams\": IntegerParameter(1, 3),    \n",
    "}\n",
    "objective_metric_name = \"validation:accuracy\"\n",
    "objective_type = \"Maximize\"\n",
    "\n",
    "estimator = sagemaker.estimator.Estimator(\n",
    "    image_uri=image,\n",
    "    role=role,\n",
    "    instance_count=1,\n",
    "    instance_type=\"ml.c4.4xlarge\",\n",
    "    volume_size=30,\n",
    "    max_run=360000,\n",
    "    input_mode=\"File\",\n",
    "    output_path=f's3://{BUCKET_NAME}/{PREFIX}/output',\n",
    "    # *Constant* hyperparameters\n",
    "    hyperparameters={\n",
    "        \"mode\": \"supervised\",\n",
    "        \"early_stopping\": \"True\",\n",
    "        \"patience\": \"4\",\n",
    "    },\n",
    ")\n",
    "\n",
    "tuner = HyperparameterTuner(\n",
    "    estimator=estimator,\n",
    "    objective_metric_name=objective_metric_name,\n",
    "    hyperparameter_ranges=hyperparameter_ranges,\n",
    "    max_jobs=10,\n",
    "    max_parallel_jobs=1,\n",
    "    objective_type=objective_type,\n",
    ")\n",
    "tuner.fit(inputs=data_channels, logs=True)"
   ]
  },
  {
   "cell_type": "code",
   "execution_count": 116,
   "id": "d92783b3-144b-474b-ad2b-01fbfc420c37",
   "metadata": {},
   "outputs": [
    {
     "name": "stdout",
     "output_type": "stream",
     "text": [
      "Done!\n"
     ]
    }
   ],
   "source": [
    "sm_client = boto3.Session().client(\"sagemaker\")\n",
    "\n",
    "while True:\n",
    "    tuning_job_result = sm_client.describe_hyper_parameter_tuning_job(\n",
    "        HyperParameterTuningJobName=tuning_job_name\n",
    "    )\n",
    "    status = tuning_job_result[\"HyperParameterTuningJobStatus\"]\n",
    "    if status != \"Completed\":\n",
    "        print(\"The tuning job is still in progress.\")\n",
    "        time.sleep(30)\n",
    "    else:\n",
    "        print(\"Done!\")\n",
    "        break"
   ]
  },
  {
   "cell_type": "code",
   "execution_count": 117,
   "id": "126f0632-e315-4096-88d5-5126eaadbb6f",
   "metadata": {},
   "outputs": [],
   "source": [
    "tuning_job_name = tuner.latest_tuning_job.name\n",
    "\n",
    "tuning_job_result = sm_client.describe_hyper_parameter_tuning_job(\n",
    "    HyperParameterTuningJobName=tuning_job_name\n",
    ")\n",
    "# tuning_job_result"
   ]
  },
  {
   "cell_type": "code",
   "execution_count": 136,
   "id": "d9031ffb-a8c3-4061-aa0d-027c057a4d39",
   "metadata": {},
   "outputs": [
    {
     "data": {
      "text/html": [
       "<div>\n",
       "<style scoped>\n",
       "    .dataframe tbody tr th:only-of-type {\n",
       "        vertical-align: middle;\n",
       "    }\n",
       "\n",
       "    .dataframe tbody tr th {\n",
       "        vertical-align: top;\n",
       "    }\n",
       "\n",
       "    .dataframe thead th {\n",
       "        text-align: right;\n",
       "    }\n",
       "</style>\n",
       "<table border=\"1\" class=\"dataframe\">\n",
       "  <thead>\n",
       "    <tr style=\"text-align: right;\">\n",
       "      <th></th>\n",
       "      <th>buckets</th>\n",
       "      <th>epochs</th>\n",
       "      <th>learning_rate</th>\n",
       "      <th>min_count</th>\n",
       "      <th>vector_dim</th>\n",
       "      <th>word_ngrams</th>\n",
       "      <th>TrainingJobName</th>\n",
       "      <th>TrainingJobStatus</th>\n",
       "      <th>FinalObjectiveValue</th>\n",
       "      <th>TrainingStartTime</th>\n",
       "      <th>TrainingEndTime</th>\n",
       "      <th>TrainingElapsedTimeSeconds</th>\n",
       "    </tr>\n",
       "  </thead>\n",
       "  <tbody>\n",
       "    <tr>\n",
       "      <th>8</th>\n",
       "      <td>9239553.0</td>\n",
       "      <td>9.0</td>\n",
       "      <td>0.009935</td>\n",
       "      <td>50.0</td>\n",
       "      <td>160.0</td>\n",
       "      <td>1.0</td>\n",
       "      <td>blazingtext-221018-0120-003-087aa6cc</td>\n",
       "      <td>Completed</td>\n",
       "      <td>0.9365</td>\n",
       "      <td>2022-10-18 01:38:40+00:00</td>\n",
       "      <td>2022-10-18 01:39:22+00:00</td>\n",
       "      <td>42.0</td>\n",
       "    </tr>\n",
       "    <tr>\n",
       "      <th>3</th>\n",
       "      <td>4684909.0</td>\n",
       "      <td>14.0</td>\n",
       "      <td>0.008121</td>\n",
       "      <td>11.0</td>\n",
       "      <td>162.0</td>\n",
       "      <td>1.0</td>\n",
       "      <td>blazingtext-221018-0120-008-ed649b4e</td>\n",
       "      <td>Completed</td>\n",
       "      <td>0.9308</td>\n",
       "      <td>2022-10-18 02:01:08+00:00</td>\n",
       "      <td>2022-10-18 02:02:00+00:00</td>\n",
       "      <td>52.0</td>\n",
       "    </tr>\n",
       "    <tr>\n",
       "      <th>6</th>\n",
       "      <td>2635292.0</td>\n",
       "      <td>11.0</td>\n",
       "      <td>0.008827</td>\n",
       "      <td>5.0</td>\n",
       "      <td>264.0</td>\n",
       "      <td>3.0</td>\n",
       "      <td>blazingtext-221018-0120-005-254f046b</td>\n",
       "      <td>Completed</td>\n",
       "      <td>0.9075</td>\n",
       "      <td>2022-10-18 01:47:59+00:00</td>\n",
       "      <td>2022-10-18 01:54:46+00:00</td>\n",
       "      <td>407.0</td>\n",
       "    </tr>\n",
       "    <tr>\n",
       "      <th>0</th>\n",
       "      <td>2854676.0</td>\n",
       "      <td>15.0</td>\n",
       "      <td>0.005000</td>\n",
       "      <td>92.0</td>\n",
       "      <td>87.0</td>\n",
       "      <td>1.0</td>\n",
       "      <td>blazingtext-221018-0120-011-caaec5b9</td>\n",
       "      <td>Completed</td>\n",
       "      <td>0.9058</td>\n",
       "      <td>2022-10-18 02:15:00+00:00</td>\n",
       "      <td>2022-10-18 02:15:52+00:00</td>\n",
       "      <td>52.0</td>\n",
       "    </tr>\n",
       "    <tr>\n",
       "      <th>2</th>\n",
       "      <td>1529695.0</td>\n",
       "      <td>10.0</td>\n",
       "      <td>0.008332</td>\n",
       "      <td>21.0</td>\n",
       "      <td>274.0</td>\n",
       "      <td>3.0</td>\n",
       "      <td>blazingtext-221018-0120-009-92210020</td>\n",
       "      <td>Completed</td>\n",
       "      <td>0.8988</td>\n",
       "      <td>2022-10-18 02:02:18+00:00</td>\n",
       "      <td>2022-10-18 02:07:00+00:00</td>\n",
       "      <td>282.0</td>\n",
       "    </tr>\n",
       "    <tr>\n",
       "      <th>9</th>\n",
       "      <td>1503570.0</td>\n",
       "      <td>5.0</td>\n",
       "      <td>0.008156</td>\n",
       "      <td>27.0</td>\n",
       "      <td>218.0</td>\n",
       "      <td>1.0</td>\n",
       "      <td>blazingtext-221018-0120-002-d58154d4</td>\n",
       "      <td>Completed</td>\n",
       "      <td>0.8897</td>\n",
       "      <td>2022-10-18 01:37:47+00:00</td>\n",
       "      <td>2022-10-18 01:38:29+00:00</td>\n",
       "      <td>42.0</td>\n",
       "    </tr>\n",
       "    <tr>\n",
       "      <th>1</th>\n",
       "      <td>4978587.0</td>\n",
       "      <td>7.0</td>\n",
       "      <td>0.008140</td>\n",
       "      <td>68.0</td>\n",
       "      <td>143.0</td>\n",
       "      <td>2.0</td>\n",
       "      <td>blazingtext-221018-0120-010-52049ca6</td>\n",
       "      <td>Completed</td>\n",
       "      <td>0.8836</td>\n",
       "      <td>2022-10-18 02:07:26+00:00</td>\n",
       "      <td>2022-10-18 02:14:23+00:00</td>\n",
       "      <td>417.0</td>\n",
       "    </tr>\n",
       "    <tr>\n",
       "      <th>10</th>\n",
       "      <td>7918511.0</td>\n",
       "      <td>12.0</td>\n",
       "      <td>0.005689</td>\n",
       "      <td>68.0</td>\n",
       "      <td>160.0</td>\n",
       "      <td>3.0</td>\n",
       "      <td>blazingtext-221018-0120-001-46d4301b</td>\n",
       "      <td>Completed</td>\n",
       "      <td>0.8563</td>\n",
       "      <td>2022-10-18 01:23:06+00:00</td>\n",
       "      <td>2022-10-18 01:35:03+00:00</td>\n",
       "      <td>717.0</td>\n",
       "    </tr>\n",
       "    <tr>\n",
       "      <th>7</th>\n",
       "      <td>3720306.0</td>\n",
       "      <td>5.0</td>\n",
       "      <td>0.006230</td>\n",
       "      <td>65.0</td>\n",
       "      <td>206.0</td>\n",
       "      <td>3.0</td>\n",
       "      <td>blazingtext-221018-0120-004-2a827fa8</td>\n",
       "      <td>Completed</td>\n",
       "      <td>0.6181</td>\n",
       "      <td>2022-10-18 01:39:33+00:00</td>\n",
       "      <td>2022-10-18 01:46:41+00:00</td>\n",
       "      <td>428.0</td>\n",
       "    </tr>\n",
       "    <tr>\n",
       "      <th>4</th>\n",
       "      <td>9408582.0</td>\n",
       "      <td>9.0</td>\n",
       "      <td>0.005255</td>\n",
       "      <td>84.0</td>\n",
       "      <td>288.0</td>\n",
       "      <td>2.0</td>\n",
       "      <td>blazingtext-221018-0120-007-1e5edce5</td>\n",
       "      <td>Failed</td>\n",
       "      <td>NaN</td>\n",
       "      <td>2022-10-18 01:58:42+00:00</td>\n",
       "      <td>2022-10-18 02:00:24+00:00</td>\n",
       "      <td>102.0</td>\n",
       "    </tr>\n",
       "    <tr>\n",
       "      <th>5</th>\n",
       "      <td>9957344.0</td>\n",
       "      <td>8.0</td>\n",
       "      <td>0.008478</td>\n",
       "      <td>25.0</td>\n",
       "      <td>245.0</td>\n",
       "      <td>2.0</td>\n",
       "      <td>blazingtext-221018-0120-006-644febf3</td>\n",
       "      <td>Failed</td>\n",
       "      <td>NaN</td>\n",
       "      <td>2022-10-18 01:55:08+00:00</td>\n",
       "      <td>2022-10-18 01:56:35+00:00</td>\n",
       "      <td>87.0</td>\n",
       "    </tr>\n",
       "  </tbody>\n",
       "</table>\n",
       "</div>"
      ],
      "text/plain": [
       "      buckets  epochs  learning_rate  min_count  vector_dim  word_ngrams  \\\n",
       "8   9239553.0  9.0     0.009935       50.0       160.0       1.0           \n",
       "3   4684909.0  14.0    0.008121       11.0       162.0       1.0           \n",
       "6   2635292.0  11.0    0.008827       5.0        264.0       3.0           \n",
       "0   2854676.0  15.0    0.005000       92.0       87.0        1.0           \n",
       "2   1529695.0  10.0    0.008332       21.0       274.0       3.0           \n",
       "9   1503570.0  5.0     0.008156       27.0       218.0       1.0           \n",
       "1   4978587.0  7.0     0.008140       68.0       143.0       2.0           \n",
       "10  7918511.0  12.0    0.005689       68.0       160.0       3.0           \n",
       "7   3720306.0  5.0     0.006230       65.0       206.0       3.0           \n",
       "4   9408582.0  9.0     0.005255       84.0       288.0       2.0           \n",
       "5   9957344.0  8.0     0.008478       25.0       245.0       2.0           \n",
       "\n",
       "                         TrainingJobName TrainingJobStatus  \\\n",
       "8   blazingtext-221018-0120-003-087aa6cc  Completed          \n",
       "3   blazingtext-221018-0120-008-ed649b4e  Completed          \n",
       "6   blazingtext-221018-0120-005-254f046b  Completed          \n",
       "0   blazingtext-221018-0120-011-caaec5b9  Completed          \n",
       "2   blazingtext-221018-0120-009-92210020  Completed          \n",
       "9   blazingtext-221018-0120-002-d58154d4  Completed          \n",
       "1   blazingtext-221018-0120-010-52049ca6  Completed          \n",
       "10  blazingtext-221018-0120-001-46d4301b  Completed          \n",
       "7   blazingtext-221018-0120-004-2a827fa8  Completed          \n",
       "4   blazingtext-221018-0120-007-1e5edce5  Failed             \n",
       "5   blazingtext-221018-0120-006-644febf3  Failed             \n",
       "\n",
       "    FinalObjectiveValue         TrainingStartTime           TrainingEndTime  \\\n",
       "8   0.9365              2022-10-18 01:38:40+00:00 2022-10-18 01:39:22+00:00   \n",
       "3   0.9308              2022-10-18 02:01:08+00:00 2022-10-18 02:02:00+00:00   \n",
       "6   0.9075              2022-10-18 01:47:59+00:00 2022-10-18 01:54:46+00:00   \n",
       "0   0.9058              2022-10-18 02:15:00+00:00 2022-10-18 02:15:52+00:00   \n",
       "2   0.8988              2022-10-18 02:02:18+00:00 2022-10-18 02:07:00+00:00   \n",
       "9   0.8897              2022-10-18 01:37:47+00:00 2022-10-18 01:38:29+00:00   \n",
       "1   0.8836              2022-10-18 02:07:26+00:00 2022-10-18 02:14:23+00:00   \n",
       "10  0.8563              2022-10-18 01:23:06+00:00 2022-10-18 01:35:03+00:00   \n",
       "7   0.6181              2022-10-18 01:39:33+00:00 2022-10-18 01:46:41+00:00   \n",
       "4  NaN                  2022-10-18 01:58:42+00:00 2022-10-18 02:00:24+00:00   \n",
       "5  NaN                  2022-10-18 01:55:08+00:00 2022-10-18 01:56:35+00:00   \n",
       "\n",
       "    TrainingElapsedTimeSeconds  \n",
       "8   42.0                        \n",
       "3   52.0                        \n",
       "6   407.0                       \n",
       "0   52.0                        \n",
       "2   282.0                       \n",
       "9   42.0                        \n",
       "1   417.0                       \n",
       "10  717.0                       \n",
       "7   428.0                       \n",
       "4   102.0                       \n",
       "5   87.0                        "
      ]
     },
     "execution_count": 136,
     "metadata": {},
     "output_type": "execute_result"
    }
   ],
   "source": [
    "hp_results = sagemaker.HyperparameterTuningJobAnalytics(tuning_job_name) \\\n",
    "    .dataframe()\n",
    "hp_results.sort_values('FinalObjectiveValue', ascending=False)"
   ]
  },
  {
   "cell_type": "code",
   "execution_count": 119,
   "id": "7c870b78-0264-4471-9b74-7335971434b9",
   "metadata": {},
   "outputs": [
    {
     "data": {
      "text/plain": [
       "<AxesSubplot:xlabel='FinalObjectiveValue', ylabel='TrainingJobName'>"
      ]
     },
     "execution_count": 119,
     "metadata": {},
     "output_type": "execute_result"
    },
    {
     "data": {
      "image/png": "[encoded data removed]",
      "text/plain": [
       "<Figure size 432x288 with 1 Axes>"
      ]
     },
     "metadata": {
      "needs_background": "light"
     },
     "output_type": "display_data"
    }
   ],
   "source": [
    "sns.barplot(\n",
    "    y=hp_results.TrainingJobName.str.split('-').str.get(-1), \n",
    "    x=hp_results.FinalObjectiveValue\n",
    ")"
   ]
  },
  {
   "cell_type": "markdown",
   "id": "75ee85b1-8146-472f-973c-db1085efc15c",
   "metadata": {},
   "source": [
    "## Evaluate model\n",
    "### Make predictions\n",
    "Let's get the test data and get the associated predictions from the Sagemaker endpoint we deployed in the previous step."
   ]
  },
  {
   "cell_type": "code",
   "execution_count": 125,
   "id": "0d092ea4-742e-466e-a393-6af92f992425",
   "metadata": {},
   "outputs": [
    {
     "name": "stdout",
     "output_type": "stream",
     "text": [
      "\n",
      "2022-10-18 01:39:31 Starting - Found matching resource for reuse\n",
      "2022-10-18 01:39:31 Downloading - Downloading input data\n",
      "2022-10-18 01:39:31 Training - Training image download completed. Training in progress.\n",
      "2022-10-18 01:39:31 Uploading - Uploading generated training model\n",
      "2022-10-18 01:39:31 Completed - Resource reused by training job: blazingtext-221018-0120-004-2a827fa8\n",
      "----!"
     ]
    }
   ],
   "source": [
    "from sagemaker.serializers import JSONSerializer\n",
    "\n",
    "deployed_model = tuner.deploy(\n",
    "        initial_instance_count=1, instance_type=\"ml.m5.xlarge\", serializer=JSONSerializer()\n",
    ")"
   ]
  },
  {
   "cell_type": "code",
   "execution_count": 123,
   "id": "f32f9600-05f0-4503-a696-f86b837a2833",
   "metadata": {},
   "outputs": [],
   "source": [
    "import json\n",
    "\n",
    "# Save as np array for easy splitting later\n",
    "replied_tos = df_test.loc[df_test.target == '__label__reply', 'feature'].values\n",
    "no_reply = df_test.loc[df_test.target == '__label__no_reply', 'feature'].values"
   ]
  },
  {
   "cell_type": "code",
   "execution_count": 126,
   "id": "e370ac3e-9085-46f2-a13f-c2060169b446",
   "metadata": {},
   "outputs": [
    {
     "data": {
      "text/plain": [
       "count    43.000000\n",
       "mean     0.686765 \n",
       "std      0.288802 \n",
       "min      0.038828 \n",
       "25%      0.467782 \n",
       "50%      0.768959 \n",
       "75%      0.943677 \n",
       "max      0.999991 \n",
       "Name: __label__reply, dtype: float64"
      ]
     },
     "execution_count": 126,
     "metadata": {},
     "output_type": "execute_result"
    }
   ],
   "source": [
    "def _prediction_to_df_row(pred: dict) -> dict:\n",
    "    labels = pred['label']\n",
    "    probs = pred['prob']\n",
    "    return {\n",
    "        label: prob \n",
    "        for label, prob in zip(labels, probs)\n",
    "    }\n",
    "\n",
    "def get_probs(text: np.array, deployed_model) -> list[np.float]:\n",
    "    payload = {\n",
    "        \"instances\": text,\n",
    "        \"configuration\": {\"k\": 2},  # get probs for top-k (both) classes\n",
    "    }\n",
    "    response = deployed_model.predict(payload)\n",
    "    predictions = json.loads(response)\n",
    "\n",
    "    all_probs = [\n",
    "        _prediction_to_df_row(pred) for pred in predictions\n",
    "    ]\n",
    "    return pd.DataFrame(all_probs)['__label__reply']\n",
    "\n",
    "p_reply = get_probs(replied_tos, deployed_model=deployed_model)\n",
    "p_reply.describe()\n"
   ]
  },
  {
   "cell_type": "code",
   "execution_count": 127,
   "id": "2c505c99-0f28-4e82-a37a-539bf99043f1",
   "metadata": {},
   "outputs": [
    {
     "data": {
      "text/plain": [
       "count    3632.000000\n",
       "mean     0.191807   \n",
       "std      0.257814   \n",
       "min      0.000010   \n",
       "25%      0.020702   \n",
       "50%      0.056139   \n",
       "75%      0.261458   \n",
       "max      0.999732   \n",
       "Name: __label__reply, dtype: float64"
      ]
     },
     "execution_count": 127,
     "metadata": {},
     "output_type": "execute_result"
    }
   ],
   "source": [
    "# Need to make 2 requests\n",
    "p_no_reply = pd.concat(\n",
    "    [\n",
    "        get_probs(no_reply[:2000], deployed_model=deployed_model),\n",
    "        get_probs(no_reply[2000:], deployed_model=deployed_model)\n",
    "    ],\n",
    "    axis=0\n",
    ")\n",
    "p_no_reply.describe()"
   ]
  },
  {
   "cell_type": "markdown",
   "id": "96e0d84c-6037-459d-8e7e-15fd258688b6",
   "metadata": {},
   "source": [
    "### Model performance"
   ]
  },
  {
   "cell_type": "code",
   "execution_count": 128,
   "id": "a42220b2-2b92-4f57-9257-5c3416f792c0",
   "metadata": {},
   "outputs": [
    {
     "data": {
      "text/plain": [
       "count    3675.000000\n",
       "mean     0.197599   \n",
       "std      0.263585   \n",
       "min      0.000010   \n",
       "25%      0.021107   \n",
       "50%      0.057419   \n",
       "75%      0.276248   \n",
       "max      0.999991   \n",
       "Name: __label__reply, dtype: float64"
      ]
     },
     "execution_count": 128,
     "metadata": {},
     "output_type": "execute_result"
    }
   ],
   "source": [
    "# Vectors of true and predicted scores\n",
    "y_true = [1] * len(replied_tos) + [0] * len(no_reply)\n",
    "y_score = p_reply.append(p_no_reply)\n",
    "\n",
    "y_score.describe()"
   ]
  },
  {
   "cell_type": "code",
   "execution_count": 129,
   "id": "c00fabd3-84f4-465c-bf92-b0d4c4d388cb",
   "metadata": {},
   "outputs": [
    {
     "data": {
      "text/plain": [
       "0.8931205819075914"
      ]
     },
     "execution_count": 129,
     "metadata": {},
     "output_type": "execute_result"
    }
   ],
   "source": [
    "# AUC\n",
    "from sklearn.metrics import roc_auc_score, confusion_matrix, ConfusionMatrixDisplay, classification_report\n",
    "roc_auc_score(y_true=y_true, y_score=y_score)"
   ]
  },
  {
   "cell_type": "markdown",
   "id": "89179858-7169-4399-810f-ad35c7acf5f1",
   "metadata": {},
   "source": [
    "The AUC of .9 is pretty good, but  it can be misleading for an imbalanced classification problem (remember, we only oversampled the training and validation data). Thus, let's look at the confusion matrix for a more detailed view."
   ]
  },
  {
   "cell_type": "code",
   "execution_count": 130,
   "id": "5793d263-32ee-49e5-bcc1-2bd41980485b",
   "metadata": {},
   "outputs": [
    {
     "data": {
      "image/png": "[encoded data removed]",
      "text/plain": [
       "<Figure size 432x288 with 2 Axes>"
      ]
     },
     "metadata": {
      "needs_background": "light"
     },
     "output_type": "display_data"
    }
   ],
   "source": [
    "cm = confusion_matrix(y_true=y_true, y_pred=y_score>0.5)\n",
    "disp = ConfusionMatrixDisplay(confusion_matrix=cm, display_labels=['no reply', 'replied to'])\n",
    "disp = disp.plot()\n",
    "plt.show()"
   ]
  },
  {
   "cell_type": "markdown",
   "id": "7bfb986b-f3a4-41c7-b5fb-f94d7543b361",
   "metadata": {},
   "source": [
    "We see that if we just predict the most probable class, we can correctly predict about 60% of replies. This is pretty good for predicting a rare event. Depending on what we care about, we could adjust the prediction threshold. For example, if we care about identifying messages that could potentially require a reply, we could flag each message that has a probability of reply greater than 10%. Let's see what results this gives us:"
   ]
  },
  {
   "cell_type": "code",
   "execution_count": 131,
   "id": "6164c0f1-1806-462a-b5a7-c6f1af042a39",
   "metadata": {},
   "outputs": [
    {
     "name": "stdout",
     "output_type": "stream",
     "text": [
      "              precision    recall  f1-score   support\n",
      "\n",
      "    no reply       1.00      0.85      0.92      3632\n",
      "  replied to       0.05      0.74      0.10        43\n",
      "\n",
      "    accuracy                           0.85      3675\n",
      "   macro avg       0.53      0.80      0.51      3675\n",
      "weighted avg       0.99      0.85      0.91      3675\n",
      "\n"
     ]
    }
   ],
   "source": [
    "print(\n",
    "    classification_report(y_true=y_true, y_pred=y_score>0.5, target_names=['no reply', 'replied to'])\n",
    ")"
   ]
  },
  {
   "cell_type": "code",
   "execution_count": 143,
   "id": "1aa9986d-9767-4901-a38d-2fd2f38bcfea",
   "metadata": {},
   "outputs": [
    {
     "data": {
      "image/png": "[encoded data removed]",
      "text/plain": [
       "<Figure size 432x288 with 2 Axes>"
      ]
     },
     "metadata": {
      "needs_background": "light"
     },
     "output_type": "display_data"
    }
   ],
   "source": [
    "cm = confusion_matrix(y_true=y_true, y_pred=y_score>0.2)\n",
    "disp = ConfusionMatrixDisplay(confusion_matrix=cm, display_labels=['no reply', 'replied to'])\n",
    "disp = disp.plot()\n",
    "plt.show()"
   ]
  },
  {
   "cell_type": "code",
   "execution_count": 145,
   "id": "a78d1305-a915-46ec-a42d-67034a122ce0",
   "metadata": {},
   "outputs": [
    {
     "name": "stdout",
     "output_type": "stream",
     "text": [
      "              precision    recall  f1-score   support\n",
      "\n",
      "    no reply       1.00      0.71      0.83      3632\n",
      "  replied to       0.04      0.93      0.07        43\n",
      "\n",
      "    accuracy                           0.71      3675\n",
      "   macro avg       0.52      0.82      0.45      3675\n",
      "weighted avg       0.99      0.71      0.82      3675\n",
      "\n"
     ]
    }
   ],
   "source": [
    "print(\n",
    "    classification_report(\n",
    "        y_true=y_true, \n",
    "        y_pred=y_score>0.2, \n",
    "        target_names=['no reply', 'replied to'])\n",
    ")"
   ]
  },
  {
   "cell_type": "markdown",
   "id": "d67e1e7a-687b-4349-9ac2-4602645b0c94",
   "metadata": {},
   "source": [
    "Now we are able to identify almost all emails eliciting a reply, at the cost of more false positives."
   ]
  },
  {
   "cell_type": "code",
   "execution_count": null,
   "id": "ddbbcf40-f086-4a69-94d8-8167fd0db292",
   "metadata": {},
   "outputs": [],
   "source": [
    "deployed_model.delete_predictor()"
   ]
  },
  {
   "cell_type": "code",
   "execution_count": null,
   "id": "5e7bd3db-7e43-4e01-b3aa-86b7302114c9",
   "metadata": {},
   "outputs": [],
   "source": [
    "print(f'Finished at {datetime.now()}')"
   ]
  }
 ],
 "metadata": {
  "instance_type": "ml.t3.medium",
  "kernelspec": {
   "display_name": "Python 3 (Data Science 2.0)",
   "language": "python",
   "name": "python3__SAGEMAKER_INTERNAL__arn:aws:sagemaker:us-east-1:081325390199:image/sagemaker-data-science-38"
  },
  "language_info": {
   "codemirror_mode": {
    "name": "ipython",
    "version": 3
   },
   "file_extension": ".py",
   "mimetype": "text/x-python",
   "name": "python",
   "nbconvert_exporter": "python",
   "pygments_lexer": "ipython3",
   "version": "3.8.13"
  },
  "lcc_arn": "arn:aws:sagemaker:us-east-1:070158674174:studio-lifecycle-config/install-packages-2",
  "toc-autonumbering": true,
  "toc-showcode": false,
  "toc-showmarkdowntxt": true,
  "toc-showtags": true
 },
 "nbformat": 4,
 "nbformat_minor": 5
}
