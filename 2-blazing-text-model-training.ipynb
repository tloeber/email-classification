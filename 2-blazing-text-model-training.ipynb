{
 "cells": [
  {
   "cell_type": "code",
   "execution_count": 3,
   "id": "08a42f34-335e-4389-b353-4930877e34bc",
   "metadata": {},
   "outputs": [],
   "source": [
    "# Enable current type hints for older Python version (<3.10) \n",
    "from __future__ import annotations\n",
    "import boto3\n",
    "import pandas as pd\n",
    "import numpy as np\n",
    "import seaborn as sns\n",
    "import matplotlib.pyplot as plt\n",
    "from datetime import datetime"
   ]
  },
  {
   "cell_type": "code",
   "execution_count": 4,
   "id": "aa28092b-ee9d-45bd-b994-787b5de6f1d6",
   "metadata": {},
   "outputs": [],
   "source": [
    "from dotenv import dotenv_values\n",
    "\n",
    "config = dotenv_values(\".env\")\n",
    "\n",
    "BUCKET_NAME = config['BUCKET_NAME']\n",
    "PREFIX = config['PREFIX']\n",
    "FILE_NAME = config['FILE_NAME']\n",
    "TRAINING_DATA_PATH = config['TRAINING_DATA_PATH']\n",
    "VALIDATION_DATA_PATH = config['VALIDATION_DATA_PATH']"
   ]
  },
  {
   "cell_type": "code",
   "execution_count": 5,
   "id": "f225a450-c93b-4dde-8982-0a460f76e6ec",
   "metadata": {},
   "outputs": [],
   "source": [
    "# Todo: Remove this once using feature store\n",
    "import pickle\n",
    "with open('df_test.pickle', 'rb') as f:\n",
    "    df_test: pd.DataFrame = pickle.load(f)"
   ]
  },
  {
   "cell_type": "code",
   "execution_count": 6,
   "id": "e91f7ea6-b292-462f-84c1-a83a294882b3",
   "metadata": {},
   "outputs": [
    {
     "name": "stderr",
     "output_type": "stream",
     "text": [
      "The method get_image_uri has been renamed in sagemaker>=2.\n",
      "See: https://sagemaker.readthedocs.io/en/stable/v2.html for details.\n",
      "Defaulting to the only supported framework/algorithm version: 1. Ignoring framework/algorithm version: latest.\n"
     ]
    },
    {
     "name": "stdout",
     "output_type": "stream",
     "text": [
      "Using SageMaker BlazingText image: 811284229777.dkr.ecr.us-east-1.amazonaws.com/blazingtext:1 (us-east-1)\n"
     ]
    }
   ],
   "source": [
    "import sagemaker\n",
    "\n",
    "role = sagemaker.get_execution_role()\n",
    "region_name = boto3.Session().region_name\n",
    "image = sagemaker.amazon.amazon_estimator.get_image_uri(region_name, \"blazingtext\", \"latest\")\n",
    "print(f\"Using SageMaker BlazingText image: {image} ({region_name})\")"
   ]
  },
  {
   "cell_type": "code",
   "execution_count": 12,
   "id": "a7b1283b-9824-4f2f-9588-6d883d340df3",
   "metadata": {
    "jupyter": {
     "source_hidden": true
    },
    "tags": []
   },
   "outputs": [],
   "source": [
    "def create_model_inputs(input_path_train, input_path_val):\n",
    "    train_data = sagemaker.inputs.TrainingInput(\n",
    "        f's3://{input_path_train}',\n",
    "        distribution=\"FullyReplicated\",\n",
    "        content_type=\"text/plain\",\n",
    "        s3_data_type=\"S3Prefix\",\n",
    "    )\n",
    "    validation_data = sagemaker.inputs.TrainingInput(\n",
    "        f's3://{input_path_val}',\n",
    "        distribution=\"FullyReplicated\",\n",
    "        content_type=\"text/plain\",\n",
    "        s3_data_type=\"S3Prefix\",\n",
    "    )\n",
    "    data_channels = {\"train\": train_data, \"validation\": validation_data}\n",
    "    return data_channels\n",
    "\n",
    "\n",
    "data_channels = create_model_inputs(input_path_train=TRAINING_DATA_PATH, input_path_val=VALIDATION_DATA_PATH)"
   ]
  },
  {
   "cell_type": "code",
   "execution_count": 24,
   "id": "8824209d-0818-4369-9e91-13ca5b0d93d6",
   "metadata": {},
   "outputs": [],
   "source": [
    "# Specify search range based on AWS recommended balues\n",
    "# ( https://docs.aws.amazon.com/sagemaker/latest/dg/blazingtext-tuning.html )\n",
    "tuning_job_config = {\n",
    "    \"ParameterRanges\": {\n",
    "      \"CategoricalParameterRanges\": [],\n",
    "      \"ContinuousParameterRanges\": [\n",
    "        {\n",
    "          \"MaxValue\": \"0.01\",\n",
    "          \"MinValue\": \"0.005\",\n",
    "          \"Name\": \"learning_rate\"\n",
    "        }\n",
    "      ],\n",
    "      \"IntegerParameterRanges\": [\n",
    "        {\n",
    "          \"MaxValue\": \"10000000\",  # 10M\n",
    "          \"MinValue\": \"1000000\",  # 1M\n",
    "          \"Name\": \"buckets\"\n",
    "        },\n",
    "        {\n",
    "          \"MaxValue\": \"15\",\n",
    "          \"MinValue\": \"5\",\n",
    "          \"Name\": \"epochs\"\n",
    "        },\n",
    "        {\n",
    "          \"MaxValue\": \"100\",\n",
    "          \"MinValue\": \"0\",\n",
    "          \"Name\": \"min_count\"\n",
    "        },\n",
    "        {\n",
    "          \"MaxValue\": \"300\",\n",
    "          \"MinValue\": \"32\",\n",
    "          \"Name\": \"vector_dim\"\n",
    "        },\n",
    "        {\n",
    "          \"MaxValue\": \"3\",\n",
    "          \"MinValue\": \"1\",\n",
    "          \"Name\": \"word_ngrams\"\n",
    "        }          \n",
    "      ]\n",
    "    },\n",
    "    \"ResourceLimits\": {\n",
    "      \"MaxNumberOfTrainingJobs\": 3,\n",
    "      \"MaxParallelTrainingJobs\": 1\n",
    "    },\n",
    "    \"Strategy\": \"Bayesian\",\n",
    "    \"HyperParameterTuningJobObjective\": {\n",
    "      \"MetricName\": \"validation:accuracy\",\n",
    "      \"Type\": \"Maximize\"\n",
    "    }\n",
    "  }"
   ]
  },
  {
   "cell_type": "code",
   "execution_count": 36,
   "id": "9c58821f-0750-47cc-ac86-5ca81faa1321",
   "metadata": {},
   "outputs": [],
   "source": [
    "training_job_definition = {\n",
    "    \"AlgorithmSpecification\": {\n",
    "      \"TrainingImage\": image,\n",
    "      \"TrainingInputMode\": \"File\"\n",
    "    },\n",
    "    \"InputDataConfig\": [\n",
    "      {\n",
    "        \"ChannelName\": \"train\",\n",
    "        \"CompressionType\": \"None\",\n",
    "        \"ContentType\": \"text/plain\",\n",
    "        \"DataSource\": {\n",
    "          \"S3DataSource\": {\n",
    "            \"S3DataDistributionType\": \"FullyReplicated\",\n",
    "            \"S3DataType\": \"S3Prefix\",\n",
    "            \"S3Uri\": f's3://{TRAINING_DATA_PATH}'\n",
    "          }\n",
    "        }\n",
    "      },\n",
    "      {\n",
    "        \"ChannelName\": \"validation\",\n",
    "        \"CompressionType\": \"None\",\n",
    "        \"ContentType\": \"text/plain\",\n",
    "        \"DataSource\": {\n",
    "          \"S3DataSource\": {\n",
    "            \"S3DataDistributionType\": \"FullyReplicated\",\n",
    "            \"S3DataType\": \"S3Prefix\",\n",
    "            \"S3Uri\": f's3://{VALIDATION_DATA_PATH}'\n",
    "          }\n",
    "        }\n",
    "      }\n",
    "    ],\n",
    "    \"OutputDataConfig\": {\n",
    "      \"S3OutputPath\": f's3://{BUCKET_NAME}/{PREFIX}/output'\n",
    "    },\n",
    "    \"ResourceConfig\": {\n",
    "      \"InstanceCount\": 1,\n",
    "      \"InstanceType\": \"ml.c4.4xlarge\",\n",
    "      \"VolumeSizeInGB\": 30\n",
    "    },\n",
    "    \"RoleArn\": role,\n",
    "    \"StaticHyperParameters\": {\n",
    "        \"mode\": \"supervised\",\n",
    "        \"early_stopping\": \"True\",\n",
    "        \"patience\": \"4\",\n",
    "    },\n",
    "    \"StoppingCondition\": {\n",
    "      \"MaxRuntimeInSeconds\": 1000\n",
    "    }\n",
    "}"
   ]
  },
  {
   "cell_type": "code",
   "execution_count": 37,
   "id": "734df360-aab1-432f-99ff-f8c5c282dfca",
   "metadata": {},
   "outputs": [],
   "source": [
    "smclient = boto3.Session().client('sagemaker')\n",
    "\n",
    "tuning_job_name = f\"email-bt-{datetime.now():%m-%d-%H-%M-%S}\"\n",
    "hp_job = smclient.create_hyper_parameter_tuning_job(\n",
    "    HyperParameterTuningJobName = tuning_job_name,\n",
    "    HyperParameterTuningJobConfig = tuning_job_config,\n",
    "    TrainingJobDefinition = training_job_definition\n",
    ")\n",
    "hp_job"
   ]
  },
  {
   "cell_type": "code",
   "execution_count": 51,
   "id": "6807c052-32c6-4436-a578-e371bcd1966d",
   "metadata": {},
   "outputs": [],
   "source": [
    "tuning_job_result = smclient.describe_hyper_parameter_tuning_job(\n",
    "    HyperParameterTuningJobName=tuning_job_name\n",
    ")\n",
    "# tuning_job_result"
   ]
  },
  {
   "cell_type": "code",
   "execution_count": 80,
   "id": "d9031ffb-a8c3-4061-aa0d-027c057a4d39",
   "metadata": {},
   "outputs": [
    {
     "data": {
      "text/plain": [
       "0.9314000010490417"
      ]
     },
     "execution_count": 80,
     "metadata": {},
     "output_type": "execute_result"
    }
   ],
   "source": [
    "hp_results = sagemaker.HyperparameterTuningJobAnalytics(tuning_job_name) \\\n",
    "    .dataframe()\n",
    "hp_results.FinalObjectiveValue.max()"
   ]
  },
  {
   "cell_type": "code",
   "execution_count": 78,
   "id": "7c870b78-0264-4471-9b74-7335971434b9",
   "metadata": {},
   "outputs": [
    {
     "data": {
      "text/plain": [
       "<AxesSubplot:xlabel='FinalObjectiveValue', ylabel='TrainingJobName'>"
      ]
     },
     "execution_count": 78,
     "metadata": {},
     "output_type": "execute_result"
    },
    {
     "data": {
      "image/png": "[encoded data removed]",
      "text/plain": [
       "<Figure size 432x288 with 1 Axes>"
      ]
     },
     "metadata": {
      "needs_background": "light"
     },
     "output_type": "display_data"
    }
   ],
   "source": [
    "sns.barplot(\n",
    "    y=hp_results.TrainingJobName.str.split('-').str.get(-1), \n",
    "    x=hp_results.FinalObjectiveValue\n",
    ")"
   ]
  },
  {
   "cell_type": "code",
   "execution_count": 49,
   "id": "72d3b8b1-d25f-41e6-ac8c-71377b031f23",
   "metadata": {},
   "outputs": [],
   "source": [
    "# from sagemaker.serializers import JSONSerializer\n",
    "# def train_and_deploy(inputs):\n",
    "#     est = sagemaker.estimator.Estimator(\n",
    "#         image,\n",
    "#         role,\n",
    "#         instance_count=1,\n",
    "#         instance_type=\"ml.c4.4xlarge\",\n",
    "#         volume_size=30,\n",
    "#         max_run=360000,\n",
    "#         input_mode=\"File\",\n",
    "#         output_path=output_path,\n",
    "#         hyperparameters={\n",
    "#             \"mode\": \"supervised\",\n",
    "#             \"epochs\": 3,\n",
    "#             \"min_count\": 2,\n",
    "#             \"learning_rate\": 0.05,\n",
    "#             \"vector_dim\": 100,\n",
    "#             \"early_stopping\": True,\n",
    "#             \"patience\": 4,\n",
    "#             \"min_epochs\": 5,\n",
    "#             \"word_ngrams\": 2,\n",
    "#         },\n",
    "#     )\n",
    "#     est.fit(inputs=data_channels, logs=True)# using the same nltk tokenizer that we used during data preparation for training\n",
    "\n",
    "#     deployed_model = est.deploy(\n",
    "#         initial_instance_count=1, instance_type=\"ml.m5.xlarge\", serializer=JSONSerializer()\n",
    "#     )\n",
    "#     return est, deployed_model\n",
    "\n",
    "# _, deployed_model = train_and_deploy(inputs=data_channels)"
   ]
  },
  {
   "cell_type": "markdown",
   "id": "75ee85b1-8146-472f-973c-db1085efc15c",
   "metadata": {},
   "source": [
    "## Evaluate model\n",
    "### Make predictions\n",
    "Let's get the test data and get the associated predictions from the Sagemaker endpoint we deployed in the previous step."
   ]
  },
  {
   "cell_type": "code",
   "execution_count": null,
   "id": "f32f9600-05f0-4503-a696-f86b837a2833",
   "metadata": {},
   "outputs": [],
   "source": [
    "import json\n",
    "\n",
    "# Save as np array for easy splitting later\n",
    "replied_tos = df_test.loc[df.target == '__label__reply', 'feature'].values\n",
    "no_reply = df_test.loc[df.target == '__label__no_reply', 'feature'].values"
   ]
  },
  {
   "cell_type": "code",
   "execution_count": null,
   "id": "e370ac3e-9085-46f2-a13f-c2060169b446",
   "metadata": {},
   "outputs": [],
   "source": [
    "def _prediction_to_df_row(pred: dict) -> dict:\n",
    "    labels = pred['label']\n",
    "    probs = pred['prob']\n",
    "    return {\n",
    "        label: prob \n",
    "        for label, prob in zip(labels, probs)\n",
    "    }\n",
    "\n",
    "def get_probs(text: np.array, deployed_model) -> list[np.float]:\n",
    "    payload = {\n",
    "        \"instances\": text,\n",
    "        \"configuration\": {\"k\": 2},  # get probs for top-k (both) classes\n",
    "    }\n",
    "    response = deployed_model.predict(payload)\n",
    "    predictions = json.loads(response)\n",
    "\n",
    "    all_probs = [\n",
    "        _prediction_to_df_row(pred) for pred in predictions\n",
    "    ]\n",
    "    return pd.DataFrame(all_probs)['__label__reply']\n",
    "\n",
    "p_reply = get_probs(replied_tos, deployed_model=deployed_model)\n",
    "p_reply.describe()\n"
   ]
  },
  {
   "cell_type": "code",
   "execution_count": null,
   "id": "2c505c99-0f28-4e82-a37a-539bf99043f1",
   "metadata": {},
   "outputs": [],
   "source": [
    "# Need to make 2 requests\n",
    "p_no_reply = pd.concat(\n",
    "    [\n",
    "        get_probs(no_reply[:2000], deployed_model=deployed_model),\n",
    "        get_probs(no_reply[2000:], deployed_model=deployed_model)\n",
    "    ],\n",
    "    axis=0\n",
    ")\n",
    "p_no_reply.describe()"
   ]
  },
  {
   "cell_type": "markdown",
   "id": "96e0d84c-6037-459d-8e7e-15fd258688b6",
   "metadata": {},
   "source": [
    "### Model performance"
   ]
  },
  {
   "cell_type": "code",
   "execution_count": null,
   "id": "a42220b2-2b92-4f57-9257-5c3416f792c0",
   "metadata": {},
   "outputs": [],
   "source": [
    "# Vectors of true and predicted scores\n",
    "y_true = [1] * len(replied_tos) + [0] * len(no_reply)\n",
    "y_score = p_reply.append(p_no_reply)\n",
    "\n",
    "y_score.describe()"
   ]
  },
  {
   "cell_type": "code",
   "execution_count": null,
   "id": "c00fabd3-84f4-465c-bf92-b0d4c4d388cb",
   "metadata": {},
   "outputs": [],
   "source": [
    "# AUC\n",
    "from sklearn.metrics import roc_auc_score, confusion_matrix, ConfusionMatrixDisplay, classification_report\n",
    "roc_auc_score(y_true=y_true, y_score=y_score)"
   ]
  },
  {
   "cell_type": "markdown",
   "id": "89179858-7169-4399-810f-ad35c7acf5f1",
   "metadata": {},
   "source": [
    "The AUC of .9 is pretty good, but  it can be misleading for an imbalanced classification problem (remember, we only oversampled the training and validation data). Thus, let's look at the confusion matrix for a more detailed view."
   ]
  },
  {
   "cell_type": "code",
   "execution_count": null,
   "id": "5793d263-32ee-49e5-bcc1-2bd41980485b",
   "metadata": {},
   "outputs": [],
   "source": [
    "cm = confusion_matrix(y_true=y_true, y_pred=y_score>0.5)\n",
    "disp = ConfusionMatrixDisplay(confusion_matrix=cm, display_labels=['no reply', 'replied to'])\n",
    "disp = disp.plot()\n",
    "plt.show()"
   ]
  },
  {
   "cell_type": "markdown",
   "id": "7bfb986b-f3a4-41c7-b5fb-f94d7543b361",
   "metadata": {},
   "source": [
    "We see that if we just predict the most probable class, we can correctly predict about 60% of replies. This is pretty good for predicting a rare event. Depending on what we care about, we could adjust the prediction threshold. For example, if we care about identifying messages that could potentially require a reply, we could flag each message that has a probability of reply greater than 10%. Let's see what results this gives us:"
   ]
  },
  {
   "cell_type": "code",
   "execution_count": null,
   "id": "6164c0f1-1806-462a-b5a7-c6f1af042a39",
   "metadata": {},
   "outputs": [],
   "source": [
    "print(\n",
    "    classification_report(y_true=y_true, y_pred=y_score>0.5, target_names=['no reply', 'replied to'])\n",
    ")"
   ]
  },
  {
   "cell_type": "code",
   "execution_count": null,
   "id": "1aa9986d-9767-4901-a38d-2fd2f38bcfea",
   "metadata": {},
   "outputs": [],
   "source": [
    "cm = confusion_matrix(y_true=y_true, y_pred=y_score>0.1)\n",
    "disp = ConfusionMatrixDisplay(confusion_matrix=cm, display_labels=['no reply', 'replied to'])\n",
    "disp = disp.plot()\n",
    "plt.show()"
   ]
  },
  {
   "cell_type": "code",
   "execution_count": null,
   "id": "a78d1305-a915-46ec-a42d-67034a122ce0",
   "metadata": {},
   "outputs": [],
   "source": [
    "print(\n",
    "    classification_report(y_true=y_true, y_pred=y_score>0.1, target_names=['no reply', 'replied to'])\n",
    ")"
   ]
  },
  {
   "cell_type": "markdown",
   "id": "d67e1e7a-687b-4349-9ac2-4602645b0c94",
   "metadata": {},
   "source": [
    "Now we are able to identify almost all emails eliciting a reply, at the cost of more false positives."
   ]
  },
  {
   "cell_type": "code",
   "execution_count": null,
   "id": "b0267f32-c94f-41df-8874-fbee6c4bebf6",
   "metadata": {},
   "outputs": [],
   "source": [
    "sess.delete_endpoint(deployed_model)"
   ]
  },
  {
   "cell_type": "code",
   "execution_count": null,
   "id": "9f66afb3-e56a-483b-9bcc-27cbd1b63667",
   "metadata": {},
   "outputs": [],
   "source": [
    "print(f'Finished at {datetime.now()}')"
   ]
  }
 ],
 "metadata": {
  "instance_type": "ml.t3.medium",
  "kernelspec": {
   "display_name": "Python 3 (Data Science 2.0)",
   "language": "python",
   "name": "python3__SAGEMAKER_INTERNAL__arn:aws:sagemaker:us-east-1:081325390199:image/sagemaker-data-science-38"
  },
  "language_info": {
   "codemirror_mode": {
    "name": "ipython",
    "version": 3
   },
   "file_extension": ".py",
   "mimetype": "text/x-python",
   "name": "python",
   "nbconvert_exporter": "python",
   "pygments_lexer": "ipython3",
   "version": "3.8.13"
  },
  "lcc_arn": "arn:aws:sagemaker:us-east-1:070158674174:studio-lifecycle-config/install-packages-2",
  "toc-autonumbering": true,
  "toc-showcode": false,
  "toc-showmarkdowntxt": true,
  "toc-showtags": true
 },
 "nbformat": 4,
 "nbformat_minor": 5
}
