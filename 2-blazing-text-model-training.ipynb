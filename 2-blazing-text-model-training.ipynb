{
 "cells": [
  {
   "cell_type": "code",
   "execution_count": 6,
   "id": "43a3b3e4-9b6a-4fdf-84bf-4cf6049b4414",
   "metadata": {},
   "outputs": [
    {
     "name": "stderr",
     "output_type": "stream",
     "text": [
      "WARNING:sagemaker.deprecations:The method get_image_uri has been renamed in sagemaker>=2.\n",
      "See: https://sagemaker.readthedocs.io/en/stable/v2.html for details.\n",
      "INFO:sagemaker.image_uris:Same images used for training and inference. Defaulting to image scope: inference.\n",
      "WARNING:sagemaker.image_uris:Defaulting to the only supported framework/algorithm version: 1. Ignoring framework/algorithm version: latest.\n",
      "INFO:sagemaker.image_uris:Ignoring unnecessary instance type: None.\n"
     ]
    }
   ],
   "source": [
    "# Enable current type hints for older Python version (<3.10) \n",
    "from __future__ import annotations\n",
    "import boto3\n",
    "import pandas as pd\n",
    "import numpy as np\n",
    "import seaborn as sns\n",
    "import matplotlib.pyplot as plt\n",
    "from datetime import datetime\n",
    "import time\n",
    "from pathlib import Path\n",
    "import pickle\n",
    "import logging\n",
    "from dotenv import dotenv_values\n",
    "import pdb\n",
    "from pprint import pprint\n",
    "\n",
    "import sagemaker\n",
    "from sagemaker.tuner import (\n",
    "    IntegerParameter,\n",
    "    ContinuousParameter,\n",
    "    HyperparameterTuner,\n",
    ")\n",
    "from smexperiments.trial import Trial\n",
    "from smexperiments.trial_component import TrialComponent\n",
    "from smexperiments.tracker import Tracker\n",
    "\n",
    "EXPERIMENT_NAME = 'emailClassification-blazingText'\n",
    "\n",
    "INPUT_MODE = 'File'  # File or Pipe\n",
    "MAX_TRAIN_JOBS = 10\n",
    "MAX_PARALLEL_JOBS_TRAIN = 1\n",
    "INSTANCE_TYPE_TRAIN = \"ml.c4.4xlarge\"\n",
    "INSTANCE_TYPE_PREDICT = \"ml.m5.xlarge\"\n",
    "INSTANCE_COUNT_BATCH_TRANSFORM = 4\n",
    "OBJECTIVE_METRIC_NAME = \"validation:accuracy\"  # Only option for BlazingText Classification\n",
    "OBJECTIVE_TYPE = \"Maximize\"\n",
    "\n",
    "config = dotenv_values(\".env\")\n",
    "BUCKET = config['BUCKET']\n",
    "\n",
    "\n",
    "logger = logging.getLogger(__name__)\n",
    "\n",
    "sm_client = boto3.client('sagemaker')\n",
    "s3_client = boto3.client('s3')\n",
    "role = sagemaker.get_execution_role()\n",
    "session = boto3.Session()\n",
    "region_name = session.region_name\n",
    "image_uri = sagemaker.amazon.amazon_estimator.get_image_uri(region_name, \"blazingtext\", \"latest\")"
   ]
  },
  {
   "cell_type": "markdown",
   "id": "2a2b3241",
   "metadata": {},
   "source": [
    "### Create trial for Sagemaker Experiments"
   ]
  },
  {
   "cell_type": "code",
   "execution_count": 8,
   "id": "52d7d31c",
   "metadata": {},
   "outputs": [],
   "source": [
    "trial_tags = [\n",
    "\t{'Key': 'data-version', 'Value': '1'}, \n",
    "\t{'Key': 'data-preprocessing', 'Value': 'preliminary'},\n",
    "\t# Whether to continue hyperparameter tuning later\n",
    "\t{'Key': 'hyperparameter-search-finished', 'Value': 'False'}, \n",
    "\t{'Key': 'validation-set-included', 'Value': 'False'},\n",
    "]\n",
    "\n",
    "trial = Trial.create(\n",
    "\ttrial_name = '',\n",
    "\texperiment_name=EXPERIMENT_NAME,\n",
    "\ttags=trial_tags,\n",
    ")"
   ]
  },
  {
   "cell_type": "markdown",
   "id": "1f6763eb-8176-4d4c-b80c-a345be49b91b",
   "metadata": {},
   "source": [
    "# Set up Hyperparameter tuning job"
   ]
  },
  {
   "cell_type": "code",
   "execution_count": null,
   "id": "c701f1a8-16d7-4db4-ba9e-3ed3a367e702",
   "metadata": {
    "collapsed": true,
    "jupyter": {
     "outputs_hidden": true
    },
    "tags": []
   },
   "outputs": [
    {
     "name": "stderr",
     "output_type": "stream",
     "text": [
      "No finished training job found associated with this estimator. Please make sure this estimator is only used for building workflow config\n",
      "No finished training job found associated with this estimator. Please make sure this estimator is only used for building workflow config\n"
     ]
    },
    {
     "name": "stdout",
     "output_type": "stream",
     "text": [
      "........................................................................................................................................................................................................................................................................................................................!\n"
     ]
    }
   ],
   "source": [
    "# Input data\n",
    "# ==========\n",
    "\n",
    "if INPUT_MODE == 'Pipe':\n",
    "    input_kwargs = {\n",
    "        'distribution': 'FullyReplicated',\n",
    "        'content_type': 'application/x-recordio',\n",
    "        's3_data_type': 'AugmentedManifestFile',\n",
    "        'attribute_names': ['source', 'label'],\n",
    "        'input_mode': 'Pipe',\n",
    "        'record_wrapping': 'RecordIO'\n",
    "    }\n",
    "    train_data = sagemaker.inputs.TrainingInput(\n",
    "        f's3://{BUCKET}/train/model-input.jsonl',\n",
    "        **input_kwargs\n",
    "    )\n",
    "    validation_data = sagemaker.inputs.TrainingInput(\n",
    "        f's3://{BUCKET}/validation/model-input.jsonl',\n",
    "        **input_kwargs\n",
    "    )\n",
    "\n",
    "if INPUT_MODE == 'File':\n",
    "    input_kwargs = {\n",
    "        'distribution': \"FullyReplicated\",\n",
    "        'content_type': \"text/plain\",\n",
    "        's3_data_type': \"S3Prefix\",\n",
    "    }\n",
    "    train_data = sagemaker.inputs.TrainingInput(\n",
    "        f's3://{BUCKET}/plaintext/train', \n",
    "        **input_kwargs\n",
    "    )\n",
    "    validation_data = sagemaker.inputs.TrainingInput(\n",
    "        f's3://{BUCKET}/plaintext/validation',\n",
    "        **input_kwargs\n",
    "    )\n",
    "    \n",
    "else:\n",
    "    raise ValueError('Invalid value for INPUT_MODE.')\n",
    "    \n",
    "data_channels = {\"train\": train_data, \"validation\": validation_data}\n",
    "\n",
    "\n",
    "# Hyperparameter tuning\n",
    "# =====================\n",
    "\n",
    "# Specify search range based on AWS recommended balues\n",
    "# ( https://docs.aws.amazon.com/sagemaker/latest/dg/blazingtext-tuning.html )\n",
    "hyperparameter_ranges = {\n",
    "    \"learning_rate\": ContinuousParameter(0.005, 0.01),\n",
    "    \"vector_dim\": IntegerParameter(32, 300),\n",
    "    \"buckets\": IntegerParameter(\n",
    "        int(1E6), int(1E7)\n",
    "    ),\n",
    "    \"epochs\": IntegerParameter(5, 15),\n",
    "    \"min_count\": IntegerParameter(0, 100),\n",
    "    \"word_ngrams\": IntegerParameter(1, 3),    \n",
    "}\n",
    "\n",
    "\n",
    "estimator = sagemaker.estimator.Estimator(\n",
    "    image_uri=image_uri,\n",
    "    role=role,\n",
    "    instance_count=1,\n",
    "    instance_type=INSTANCE_TYPE_TRAIN,\n",
    "    volume_size=30,\n",
    "    max_run=360000,\n",
    "    input_mode=INPUT_MODE,\n",
    "    output_path=f's3://{BUCKET}/training_results',\n",
    "    # *Constant* hyperparameters\n",
    "    hyperparameters={\n",
    "        \"mode\": \"supervised\",\n",
    "        \"early_stopping\": \"True\",\n",
    "        \"patience\": \"4\",\n",
    "    },\n",
    ")\n",
    "\n",
    "tuner = HyperparameterTuner(\n",
    "    estimator=estimator,\n",
    "    objective_metric_name=OBJECTIVE_METRIC_NAME,\n",
    "    hyperparameter_ranges=hyperparameter_ranges,\n",
    "    max_jobs=MAX_TRAIN_JOBS,\n",
    "    max_parallel_jobs=MAX_PARALLEL_JOBS_TRAIN,\n",
    "    objective_type=OBJECTIVE_TYPE,\n",
    ")\n",
    "tuner.fit(inputs=data_channels, logs=True)"
   ]
  },
  {
   "cell_type": "code",
   "execution_count": null,
   "id": "b7d4cf51-46be-46c1-b074-96c765da2fda",
   "metadata": {},
   "outputs": [],
   "source": [
    "# Pickle tuning job name, so we can attach to it in another notebook (e.g., for prediction)\n",
    "with open('data/tuning_job_name.pickle', 'wb') as file:\n",
    "    pickle.dump(\n",
    "        obj=tuner.latest_tuning_job.name, \n",
    "        file=file\n",
    "    )\n",
    "    \n",
    "# Save model's S3 location (for creating model)\n",
    "with open('data/s3_location_of_best_model.pickle', 'wb') as file:\n",
    "    pickle.dump(\n",
    "        obj=tuner.best_estimator().model_data, \n",
    "        file=file\n",
    "    )"
   ]
  },
  {
   "cell_type": "markdown",
   "id": "81008236-f634-422a-ae06-a0c6bc4d76ed",
   "metadata": {},
   "source": [
    "# Inspect results of hyperparameter tuning"
   ]
  },
  {
   "cell_type": "code",
   "execution_count": null,
   "id": "126f0632-e315-4096-88d5-5126eaadbb6f",
   "metadata": {},
   "outputs": [],
   "source": [
    "tuning_job_result = sm_client.describe_hyper_parameter_tuning_job(\n",
    "    HyperParameterTuningJobName=tuning_job_name\n",
    ")\n",
    "# tuning_job_result"
   ]
  },
  {
   "cell_type": "code",
   "execution_count": null,
   "id": "d9031ffb-a8c3-4061-aa0d-027c057a4d39",
   "metadata": {},
   "outputs": [],
   "source": [
    "hp_results = sagemaker.HyperparameterTuningJobAnalytics(tuning_job_name) \\\n",
    "    .dataframe()\n",
    "# hp_results.sort_values('FinalObjectiveValue', ascending=False)"
   ]
  },
  {
   "cell_type": "code",
   "execution_count": 17,
   "id": "7c870b78-0264-4471-9b74-7335971434b9",
   "metadata": {},
   "outputs": [
    {
     "data": {
      "image/png": "[encoded data removed]",
      "text/plain": [
       "<Figure size 432x288 with 1 Axes>"
      ]
     },
     "metadata": {
      "needs_background": "light"
     },
     "output_type": "display_data"
    }
   ],
   "source": [
    "# Histogram of accuracy\n",
    "sns.histplot(x=hp_results.FinalObjectiveValue);"
   ]
  },
  {
   "cell_type": "markdown",
   "id": "75ee85b1-8146-472f-973c-db1085efc15c",
   "metadata": {},
   "source": [
    "## Evaluate model\n",
    "### Make predictions\n",
    "Let's get the test data and get the associated predictions from the Sagemaker endpoint we deployed in the previous step."
   ]
  },
  {
   "cell_type": "code",
   "execution_count": null,
   "id": "0cd877b2-53d5-4106-bf87-c487a3b6f05e",
   "metadata": {},
   "outputs": [],
   "source": [
    "from sagemaker.model import Model\n",
    "import json\n",
    "\n",
    "# Create model\n",
    "# ============\n",
    "model = Model(\n",
    "    image_uri=image_uri,\n",
    "    model_data=tuner.best_estimator().model_data,\n",
    "    # name=model_name,\n",
    "    sagemaker_session=session,\n",
    "    role=role,\n",
    ")\n",
    "# model.create()  # Todo: Add tags\n",
    "\n",
    "\n",
    "# Predict\n",
    "# =======\n",
    "transformer = tuner.best_estimator() \\\n",
    "    .transformer(\n",
    "        instance_type=INSTANCE_TYPE_PREDICT,\n",
    "        instance_count=INSTANCE_COUNT_BATCH_TRANSFORM,\n",
    "        accept=\"application/jsonlines\", # Only option for blazing text batch transform\n",
    "        strategy='MultiRecord',\n",
    "        assemble_with=\"Line\",\n",
    "        output_path=f\"s3://{BUCKET}/predict-batch\",\n",
    "    )\n",
    "transformer.transform(\n",
    "    data=f's3://{BUCKET}/test',\n",
    "    content_type='application/jsonlines',  # Only option for blazing text batch transform\n",
    "    split_type='Line',\n",
    "    join_source='Input',  # Join predictions with input data (for explainability)\n",
    "    # experiment_config=None # Todo: Add\n",
    ")\n",
    "transformer.wait()  # This prints logs"
   ]
  },
  {
   "cell_type": "code",
   "execution_count": 75,
   "id": "1bcd3aed-92e8-45f4-ba55-2d02c4685d65",
   "metadata": {},
   "outputs": [],
   "source": [
    "# Save model name to be able to load it in other notebook\n",
    "with open('data/model_name.pickle', 'wb') as file:\n",
    "    pickle.dump(\n",
    "        obj=transformer.model_name, \n",
    "        file=file\n",
    "    )   "
   ]
  },
  {
   "cell_type": "code",
   "execution_count": 76,
   "id": "9ce245ff-848c-454c-a9be-a064ae8011ad",
   "metadata": {},
   "outputs": [
    {
     "data": {
      "text/html": [
       "<div>\n",
       "<style scoped>\n",
       "    .dataframe tbody tr th:only-of-type {\n",
       "        vertical-align: middle;\n",
       "    }\n",
       "\n",
       "    .dataframe tbody tr th {\n",
       "        vertical-align: top;\n",
       "    }\n",
       "\n",
       "    .dataframe thead th {\n",
       "        text-align: right;\n",
       "    }\n",
       "</style>\n",
       "<table border=\"1\" class=\"dataframe\">\n",
       "  <thead>\n",
       "    <tr style=\"text-align: right;\">\n",
       "      <th></th>\n",
       "      <th>p_no_reply</th>\n",
       "      <th>p_reply</th>\n",
       "      <th>true_label</th>\n",
       "      <th>input_data</th>\n",
       "    </tr>\n",
       "  </thead>\n",
       "  <tbody>\n",
       "    <tr>\n",
       "      <th>0</th>\n",
       "      <td>0.964495</td>\n",
       "      <td>0.035525</td>\n",
       "      <td>0</td>\n",
       "      <td>Good morning families - The technician is here...</td>\n",
       "    </tr>\n",
       "    <tr>\n",
       "      <th>1</th>\n",
       "      <td>0.626657</td>\n",
       "      <td>0.373363</td>\n",
       "      <td>0</td>\n",
       "      <td>[ http : //images.myhealthyfinances.com/Eloqua...</td>\n",
       "    </tr>\n",
       "    <tr>\n",
       "      <th>2</th>\n",
       "      <td>0.823848</td>\n",
       "      <td>0.176172</td>\n",
       "      <td>0</td>\n",
       "      <td>Warning : Low Battery Warning : Low Battery Vi...</td>\n",
       "    </tr>\n",
       "  </tbody>\n",
       "</table>\n",
       "</div>"
      ],
      "text/plain": [
       "   p_no_reply   p_reply  true_label  \\\n",
       "0    0.964495  0.035525           0   \n",
       "1    0.626657  0.373363           0   \n",
       "2    0.823848  0.176172           0   \n",
       "\n",
       "                                          input_data  \n",
       "0  Good morning families - The technician is here...  \n",
       "1  [ http : //images.myhealthyfinances.com/Eloqua...  \n",
       "2  Warning : Low Battery Warning : Low Battery Vi...  "
      ]
     },
     "execution_count": 76,
     "metadata": {},
     "output_type": "execute_result"
    }
   ],
   "source": [
    "def retrieve_batch_predictions() -> pd.DataFrame:\n",
    "    ## Todo: Use pydantic to guard against any schema change due to sagemaker \n",
    "    ## version update (and to increase readability). \n",
    "    ## Compare performance impact though.\n",
    "    \n",
    "    # Download predictions from s3\n",
    "    local_path = 'data/predictions.json'\n",
    "    s3_client.download_file(\n",
    "        BUCKET,\n",
    "        Key='predict-batch/model-input.jsonl.out',\n",
    "        Filename=local_path,\n",
    "    )\n",
    "\n",
    "    # Read each row, convert to dict, then get fields needed\n",
    "    prediction_rows = []\n",
    "    with open(local_path, 'r') as file:\n",
    "        # Keep reading next line until we hit end of file\n",
    "        while True:\n",
    "            line = file.readline()\n",
    "            if line == '':\n",
    "                logger.info('Finished reading file.')\n",
    "                break\n",
    "            else:\n",
    "                row_dict = json.loads(line)\n",
    "                \n",
    "                probabilities = row_dict['SageMakerOutput']['prob']\n",
    "                labels = row_dict['SageMakerOutput']['label']\n",
    "                input_data = row_dict['source']\n",
    "                true_label = row_dict['label']\n",
    "\n",
    "                row = pd.Series(\n",
    "                    probabilities + [true_label, input_data],\n",
    "                    index=labels + ['true_label', 'input_data']\n",
    "                )\n",
    "                prediction_rows.append(row)\n",
    "\n",
    "    # Once we have all rows, combine into DataFrame\n",
    "    predictions = pd.DataFrame(prediction_rows)\n",
    "    # Improve column names\n",
    "    predictions.columns = predictions.columns.str.replace('__label__', 'p_')\n",
    "    return predictions\n",
    "\n",
    "predictions = retrieve_batch_predictions()\n",
    "predictions.head(3)"
   ]
  },
  {
   "cell_type": "code",
   "execution_count": 104,
   "id": "765c76be-b0fb-4f5c-b4dd-94161a9ffd41",
   "metadata": {},
   "outputs": [],
   "source": [
    "# For explainability, use only a subset of test. TODO: oversample replied-tos.\n",
    "THRESHOLD = 0.5\n",
    "df_explain = predictions.sample(\n",
    "    n=10,\n",
    "    random_state=0, \n",
    ") \\\n",
    "[['p_reply', 'true_label', 'input_data']]\n",
    "# .assign(\n",
    "#     # predicted_label = (df_explain.p_reply > THRESHOLD).astype(int)\n",
    "# )\n",
    "\n",
    "\n",
    "\n",
    "           \n",
    "path_local = 'data/model-input.csv'\n",
    "\n",
    "# Using .to_csv() with a whitespace as a separator creates a normal text file\n",
    "df_explain.to_csv(\n",
    "    path_local,\n",
    "    index=False, \n",
    "    header=True, \n",
    "    sep=',',\n",
    ")\n",
    "\n",
    "s3_client.upload_file(\n",
    "    Filename=path_local,\n",
    "    Bucket=BUCKET,\n",
    "    Key=f'plaintext/explainability-input/model-input.csv'\n",
    ")\n",
    "    \n",
    "\n",
    "# def _create_text_label(s):\n",
    "#     \"\"\"Convert 0/1 label to text\"\"\"\n",
    "#     label = \"reply\" if s else \"no_reply\"\n",
    "#     return f'__label__{label}'"
   ]
  },
  {
   "cell_type": "code",
   "execution_count": 110,
   "id": "a886403e-f7d7-4dfc-b01e-4216b115a774",
   "metadata": {},
   "outputs": [
    {
     "data": {
      "text/plain": [
       "'{\"p_reply\":0.0000416842,\"true_label\":0,\"input_data\":\"Thomas explore these courses on skills you follow Check out these recommendations and keep learning 5 top courses for skills youre interested in Save https : \\\\/\\\\/www.linkedin.com\\\\/comm\\\\/learning\\\\/algorithmic-thinking-with-python-diving-deeper ? save=true & amp ; midToken=AQGNE8E7EUEPVA & amp ; midSig=0AYocfTIiDaqs1 & amp ; trk=eml-email_learning_comms_related_to_skill_02-learning_recommendations-17-click_save_entity & amp ; trkEmail=eml-email_learning_comms_related_to_skill_02-learning_recommendations-17-click_save_entity-null-9avy5b % 7El8ekz98f % 7E2o-null-learning % 7Ecourse & amp ; lipi=urn % 3Ali % 3Apage % 3Aemail_email_learning_comms_related_to_skill_02 % 3BWwSqffMhRSS11Y2SVsDPPw % 3D % 3D COURSE Algorithmic Thinking with Python : Diving Deeper By : Robin Andrews ..................................... Save https : \\\\/\\\\/www.linkedin.com\\\\/comm\\\\/learning\\\\/programming-foundations-beyond-the-fundamentals ? save=true & midToken=AQGNE8E7EUEPVA & midSig=0AYocfTIiDaqs1 & trk=eml-email_learning_comms_related_to_skill_02-learning_recommendations-101-click_save_entity & trkEmail=eml-email_learning_comms_related_to_skill_02-learning_recommendations-101-click_save_entity-null-9avy5b % 7El8ekz98f % 7E2o-null-learning % 7Ecourse & lipi=urn % 3Ali % 3Apage % 3Aemail_email_learning_comms_related_to_skill_02 % 3BWwSqffMhRSS11Y2SVsDPPw % 3D % 3D COURSE Programming Foundations : Beyond the Fundamentals By : Sasha Vodnik ..................................... Save https : \\\\/\\\\/www.linkedin.com\\\\/comm\\\\/learning\\\\/algorithmic-thinking-with-python-foundations ? save=true & midToken=AQGNE8E7EUEPVA & midSig=0AYocfTIiDaqs1 & trk=eml-email_learning_comms_related_to_skill_02-learning_recommendations-102-click_save_entity & trkEmail=eml-email_learning_comms_related_to_skill_02-learning_recommendations-102-click_save_entity-null-9avy5b % 7El8ekz98f % 7E2o-null-learning % 7Ecourse & lipi=urn % 3Ali % 3Apage % 3Aemail_email_learning_comms_related_to_skill_02 % 3BWwSqffMhRSS11Y2SVsDPPw % 3D % 3D COURSE Algorithmic Thinking with Python : Foundations By : Robin Andrews ..................................... Save https : \\\\/\\\\/www.linkedin.com\\\\/comm\\\\/learning\\\\/programming-foundations-memory-pointers-and-garbage-collection ? save=true & midToken=AQGNE8E7EUEPVA & midSig=0AYocfTIiDaqs1 & trk=eml-email_learning_comms_related_to_skill_02-learning_recommendations-103-click_save_entity & trkEmail=eml-email_learning_comms_related_to_skill_02-learning_recommendations-103-click_save_entity-null-9avy5b % 7El8ekz98f % 7E2o-null-learning % 7Ecourse & lipi=urn % 3Ali % 3Apage % 3Aemail_email_learning_comms_related_to_skill_02 % 3BWwSqffMhRSS11Y2SVsDPPw % 3D % 3D COURSE Programming Foundations : Memory Pointers and Garbage Collection By : Maaike van Putten ..................................... Save https : \\\\/\\\\/www.linkedin.com\\\\/comm\\\\/learning\\\\/python-data-structures-and-algorithms ? save=true & midToken=AQGNE8E7EUEPVA & midSig=0AYocfTIiDaqs1 & trk=eml-email_learning_comms_related_to_skill_02-learning_recommendations-104-click_save_entity & trkEmail=eml-email_learning_comms_related_to_skill_02-learning_recommendations-104-click_save_entity-null-9avy5b % 7El8ekz98f % 7E2o-null-learning % 7Ecourse & lipi=urn % 3Ali % 3Apage % 3Aemail_email_learning_comms_related_to_skill_02 % 3BWwSqffMhRSS11Y2SVsDPPw % 3D % 3D COURSE Python Data Structures and Algorithms By : Robin Andrews ..................................... Our recommendations are based on the skills you \\'re interested in . You can always edit your skills to improve content recommendations . https : \\\\/\\\\/www.linkedin.com\\\\/comm\\\\/learning\\\\/me\\\\/skills ? midToken=AQGNE8E7EUEPVA & midSig=0AYocfTIiDaqs1 & trk=eml-email_learning_comms_related_to_skill_02-learning_recommendations-0-null & trkEmail=eml-email_learning_comms_related_to_skill_02-learning_recommendations-0-null-null-9avy5b % 7El8ekz98f % 7E2o-null-learning % 7Eskills & lipi=urn % 3Ali % 3Apage % 3Aemail_email_learning_comms_related_to_skill_02 % 3BWwSqffMhRSS11Y2SVsDPPw % 3D % 3D ..................................... Learn on the go with the LinkedIn Learning mobile app . https : \\\\/\\\\/static.licdn.com\\\\/sc\\\\/p\\\\/com.linkedin.email-assets-frontend % 3Aemail-assets-frontend-static-content % 2B__latest__\\\\/f\\\\/ % 2Femail-assets-frontend % 2Fimages % 2Femail % 2Flearning % 2Fpromo_app_badge_ios_251x84_en_US_v1.png Download on the App Store https : \\\\/\\\\/www.linkedin.com\\\\/e\\\\/v2 ? e=9avy5b-l8ekz98f-2o & lipi=urn % 3Ali % 3Apage % 3Aemail_email_learning_comms_related_to_skill_02 % 3BWwSqffMhRSS11Y2SVsDPPw % 3D % 3D & t=plh & midToken=AQGNE8E7EUEPVA & ek=email_learning_comms_related_to_skill_02 & li=181 & m=learning_app_promo & ts=go_app_store & urlhash=cNup & url=https % 3A % 2F % 2Fgeo % 2Eitunes % 2Eapple % 2Ecom % 2Fus % 2Fapp % 2Flinkedin-learning % 2Fid1084807225 % 3Fls % 3D1 % 26mt % 3D8 % 26pt % 3D10746 % 26ct % 3Dlearning_email_app_promo_footer_go_store https : \\\\/\\\\/static.licdn.com\\\\/sc\\\\/p\\\\/com.linkedin.email-assets-frontend % 3Aemail-assets-frontend-static-content % 2B__latest__\\\\/f\\\\/ % 2Femail-assets-frontend % 2Fimages % 2Femail % 2Flearning % 2Fpromo_app_badge_android_284x84_en_US_v1.png Get it on Google Play https : \\\\/\\\\/www.linkedin.com\\\\/e\\\\/v2 ? e=9avy5b-l8ekz98f-2o & lipi=urn % 3Ali % 3Apage % 3Aemail_email_learning_comms_related_to_skill_02 % 3BWwSqffMhRSS11Y2SVsDPPw % 3D % 3D & t=plh & midToken=AQGNE8E7EUEPVA & ek=email_learning_comms_related_to_skill_02 & li=182 & m=learning_app_promo & ts=go_play_store & urlhash=JDlR & url=https % 3A % 2F % 2Fplay % 2Egoogle % 2Ecom % 2Fstore % 2Fapps % 2Fdetails % 3Fid % 3Dcom % 2Elinkedin % 2Eandroid % 2Elearning % 26referrer % 3Dlearning_email_app_promo_footer_go_store ..................................... Unsubscribe : https : \\\\/\\\\/www.linkedin.com\\\\/e\\\\/v2 ? e=9avy5b-l8ekz98f-2o & t=lun & midToken=AQGNE8E7EUEPVA & midSig=0AYocfTIiDaqs1 & ek=email_learning_comms_related_to_skill_02 & li=188 & m=unsub & ts=unsub & eid=9avy5b-l8ekz98f-2o & loid=AQHutIa6RtaD7wAAAYNqwmbKpMJ4sL3XZUva28Zr06hssHoQ75DVXqQOszEFngighbb-mwhRjScEcHTMBN9sxMlglNoG2sYl2lS_dSKz9N0AiTf227hKWK4t5tT8_4diAcSvr5Y Help : https : \\\\/\\\\/www.linkedin.com\\\\/e\\\\/v2 ? e=9avy5b-l8ekz98f-2o & lipi=urn % 3Ali % 3Apage % 3Aemail_email_learning_comms_related_to_skill_02 % 3BWwSqffMhRSS11Y2SVsDPPw % 3D % 3D & a=customerServiceUrl & midToken=AQGNE8E7EUEPVA & midSig=0AYocfTIiDaqs1 & ek=email_learning_comms_related_to_skill_02 & li=187 & m=footer & ts=help & articleId=67 You are receiving LinkedIn notification emails . This email was intended for Thomas Loeber ( Software Engineer at Capital One ) . Learn why we included this : https : \\\\/\\\\/www.linkedin.com\\\\/e\\\\/v2 ? e=9avy5b-l8ekz98f-2o & lipi=urn % 3Ali % 3Apage % 3Aemail_email_learning_comms_related_to_skill_02 % 3BWwSqffMhRSS11Y2SVsDPPw % 3D % 3D & a=customerServiceUrl & midToken=AQGNE8E7EUEPVA & midSig=0AYocfTIiDaqs1 & ek=email_learning_comms_related_to_skill_02 & articleId=4788 2022 LinkedIn Corporation 1000 West Maude Avenue Sunnyvale CA 94085 . LinkedIn and the LinkedIn logo are registered trademarks of LinkedIn .\"}\\n{\"p_reply\":0.1652594954,\"true_label\":0,\"input_data\":\"The following SSH key was added to your account : windows-desktop SHA256 : QIRk227Okj6Mnic3M5Hw2Ichty4egdGdxGjxJhmjLrc If you believe this key was added in error you can remove the key and disable access at the following location : https : \\\\/\\\\/github.com\\\\/settings\\\\/keys\"}\\n{\"p_reply\":0.8630731106,\"true_label\":0,\"input_data\":\"Dear Thomas Thank you for your interest in Kensho ! We wanted to let you know we received your application for Senior Machine Learning Engineer and we are delighted that you would consider joining our team.Our team will review your application and will be in touch if your qualifications match our needs for the role . If you are not selected for this position keep an eye on our jobs page as we \\'re growing and adding openings.Thank you in advance The Kensho Team\"}\\n{\"p_reply\":0.0276767388,\"true_label\":0,\"input_data\":\"Malwarebytes www.malwarebytes.com ( https : \\\\/\\\\/www.malwarebytes.com ) Hi Thomas We know youre busy but if you take a moment to set up your Malwarebytes subscription account your life will get a whole lot easier . Through your subscription account you will be able to manage your Malwarebytes subscription billing email preferences get easier access to support and take advantage of special offers . Set up is fast simple and painless . SET UP ACCOUNT ( https : \\\\/\\\\/my.malwarebytes.com\\\\/users\\\\/setup_account ? token=SCFFtfcIrbRqqqQkDrXm1vHdQr28uv_yWYFWJCyP0fAPexXEE5NsdiHjOCmYLMerevNi6S8kL75QxrdcU4aJRg ) Need help ? Click here ( https : \\\\/\\\\/links.malwarebytes.com\\\\/support\\\\/create_profile ) Cheers The Malwarebytes team Privacy Policy ( https : \\\\/\\\\/www.malwarebytes.com\\\\/privacy\\\\/ ) | Terms of Service ( https : \\\\/\\\\/www.malwarebytes.com\\\\/tos\\\\/ ) Malwarebytes www.malwarebytes.com ( https : \\\\/\\\\/www.malwarebytes.com\\\\/ ) 2021 Malwarebytes Santa Clara CA\"}\\n{\"p_reply\":0.1725897789,\"true_label\":0,\"input_data\":\"Estimated to arrive Wed Apr 20 Order date : Sun Apr 10 2022Order number : 3712207-087774Your order is on the wayGreat news Thomas were able to ship your order earlier than expected . Its now set toarrive by Wed Apr 20 . Well let you know when its been delivered.Track shipmentShippingAddressThomasLoeber4404 Joseph Dr.Glen Allen VA 23060Estimated dateWed Apr 20 20221 item arrives by end of day Wed Apr 20 2022USPS tracking number 9400111202508142795061Sold and shipped by JoybuyFOCUSNORM Boutique Baby Girl Flower Top Dress Pants Legging Outfit Clothes $ 14.89\\\\/EAQty : 1 $ 14.89Order summarySubtotal $ 105.36Taxes $ 5.43Total $ 110.79Explore more savingsFruit of the Loom Baby and Toddler Girl Low Cut Socks 20-Pack Sizes 6M-5TGaranimals Baby Girls & Toddler Girls Boot Cut Jeans 2-Pack ( 12M-5T ) Canis Toddler Kids Baby Girls Strap Flower Romper Jumpsuit Playsuit Outfit Clothes 1-6YHanes Toddler Girl Low Cut Socks 10-PackQuestions ? Visit our Help CenterWalmart protects your security and privacy . We will never ask for personal information ( such as passwords or credit card numbers ) in an email . If you receive such a request please do not respond . Learn more about online safety and see our Privacy Policy.Please do not reply to this email . This mailbox is not monitored . 2022 Walmart . All rights reserved .\"}\\n{\"p_reply\":0.0085876957,\"true_label\":0,\"input_data\":\"https : \\\\/\\\\/cl.S7.exct.net\\\\/ ? qs=30e68a195084d060950a49650ac297ed492a94f7bf28a95471e2dae3bbbb03b496a3337940ef1b3930cbc3413275105cf6b641fecb3af765 Give the Gift of Magazines ! Give your loved ones a gift that keeps giving all year . Magazine Discount Center has a magazine for everyone on your list . Order now and save with the best available prices . https : \\\\/\\\\/cl.S7.exct.net\\\\/ ? qs=30e68a195084d0607b4ec23133b321af993740654a4be629d6bdb6f163c9b77cbd65dba5250d250e896f74a2d4c189ab0ddbd8584c32463b https : \\\\/\\\\/cl.S7.exct.net\\\\/ ? qs=30e68a195084d060950a49650ac297ed492a94f7bf28a95471e2dae3bbbb03b496a3337940ef1b3930cbc3413275105cf6b641fecb3af765 Our Privacy Policy has changed . Click below to see it . https : \\\\/\\\\/cl.S7.exct.net\\\\/ ? qs=bf64c4a08586d8826b152db7d6c760b8cd9f56cb3de5df32836c2817ea1b8e255fa068ad931023ff95c3a3cc713bad7450c9cb7bf866420f Unsubscribe | https : \\\\/\\\\/cl.S7.exct.net\\\\/ ? qs=bf64c4a08586d88217f9674c8f84cf5a6bc6cfb794228979255a18559bb780ed1dfb57f2c2cffaa33c68d371f152941a5f2a29067925f7f0 Privacy Policy | https : \\\\/\\\\/cl.S7.exct.net\\\\/ ? qs=bf64c4a08586d8822d862251ba431cbca20b0599e7498b3fbbc8c64f9cd43d85079b76830640b4f15154bba5f66e38231bee2560029b375d Your California Privacy Rights | https : \\\\/\\\\/view.S7.exacttarget.com\\\\/ ? qs=90ae9619371c72f5c0905ae77883c3074341a8bcd96cfc2a023e8f6b7cc8ce6973fd9ad05fc6bdd84dba230bc4c523e0b0319a9aed7687e3d58deac7efc8cfc582c04a332ee32a78eb83773500eae4b4 View in Browser Synapse Group Inc.225 High Ridge Road East Building Stamford CT 06905 Copyright 2021 . All Rights Reserved\"}\\n{\"p_reply\":0.1862399578,\"true_label\":0,\"input_data\":\"CarGurus Your wallet is going to love it . Want more $ $ for your new ride ? Instantly get the best offer for your old one . GET STARTED 3 simple steps . 1 unbeatable offer . Its fast free and oh-so-easy . Get an instant offer Simply enter details like VIN and mileage and well get you the best offer from our dealer network in just two minutes . Leave pickup to us Schedule a time that works for you and well come get your car . No sweat . Get paid Receive payment within two days via check or wireyour choice ! LEARN MORE About Us Help Contact Us Terms of Use You received this email from CarGurus Inc . If you would like to unsubscribe click here .\"}\\n{\"p_reply\":0.3733627796,\"true_label\":0,\"input_data\":\"[ http : \\\\/\\\\/images.myhealthyfinances.com\\\\/EloquaImages\\\\/clients\\\\/AlegeusTechnologiesLLC\\\\/ % 7B9994303a-f611-44a0-8393-7b837583ff4a % 7D_anthem-bcbs-logo.jpg ] Log in to anthem.com or use the mobile app to see an important message about your reimbursement request . Select Spending Accounts under the My Plan tab and then Manage My Account . If you have questions contact us through our online Message Center or call the Member Services number on your ID card . Your Anthem Account Services Team Language Access Services - ( TTY\\\\/TDD : 711 ) ALTERNATE LANGUAGES We comply with applicable Federal civil rights laws and do not discriminate on the basis of race color national origin age disability or sex . Independent licensee of the Blue Cross Blue Shield Association . Read more about us . The information contained in this message is proprietary and\\\\/or confidential . If you are not the intended recipient please : ( i ) delete the message and all copies ; ( ii ) do not disclose distribute or use the message in any manner ; and ( iii ) notify the sender immediately . In addition please be aware that any message addressed to our domain is subject to archiving and review by persons other than the intended recipient . Thank you .\"}\\n{\"p_reply\":0.0488820672,\"true_label\":0,\"input_data\":\"See details about your credit report activity New Activity CREDIT USAGE DECREASE Good news ! You lowered the usage on one of your credit accounts . Take a closer look . See details what this means Credit usage is the percentage of available credit you \\'re using at any given time . Keeping your credit usage below 30 % is usually considered a good guideline to follow . Go to Credit Journey to learn more . Credit information provided by Experian . If you have questions please visit our Help & support page for more information . about this message This service email was sent based on your alert settings . Use the Chase Mobile app or visit chase.com\\\\/alerts to view or update your settings . To protect your personal information please do n\\'t reply to this email . Instead use the mobile app or sign in to chase.com to send a message from your Secure Message Center . If you have concerns about the authenticity of this message please visit chase.com\\\\/CustomerService for options on how to contact us . Your privacy is important to us . See our online Security Center to learn how to protect your information . 2021 JPMorgan Chase & Co .\"}\\n{\"p_reply\":0.1575517803,\"true_label\":0,\"input_data\":\"Dear Thomas Loeber Hello < div > < br > < \\\\/div > < div > We hope this message finds you well. & nbsp ; & nbsp ; < \\\\/div > < div > < br > < \\\\/div > < div > Effective September 1 2022 Resilience Health has updated many of its policies. & nbsp ; You can find these in your patient portal. & nbsp ; Please be sure to sign these before your next appointment. & nbsp ; We appreciate being a part of your care team. < \\\\/div > Sincerely Resilience Health Visit this link to unsubscribe from messages from this doctor . The doctor will be notified you no longer wish to receive reminders about appointments . https : \\\\/\\\\/drchrono.com\\\\/doctor_unsubscribe\\\\/1b0f4c7b-3780-4041-9be8-39f6bad75dca Visit this link to unsubscribe from all messages from drchrono . All of your participating doctors will be notified you no longer wish to receive email messages . https : \\\\/\\\\/drchrono.com\\\\/email_unsubscribe\\\\/1b0f4c7b-3780-4041-9be8-39f6bad75dca\"}\\n'"
      ]
     },
     "execution_count": 110,
     "metadata": {},
     "output_type": "execute_result"
    }
   ],
   "source": [
    "# Todo: move this shared function to a utils moduleL\n",
    "\n",
    "df_explain.rename(columns={'feature': 'source'}) \\\n",
    "    .to_json(orient='records', lines=True)"
   ]
  },
  {
   "cell_type": "code",
   "execution_count": 98,
   "id": "e0784703-5fe8-4c2b-abf7-0633899d4b04",
   "metadata": {},
   "outputs": [],
   "source": [
    "local_path = Path('data/model-input.jsonl')    \n",
    "with local_path.open('w') as f:\n",
    "    f.write(df_jsonl)\n",
    "\n",
    "s3_client.upload_file(\n",
    "    Filename=str(local_path),\n",
    "    Bucket=BUCKET,\n",
    "    Key=f'{destination_folder}/model-input.jsonl'\n",
    ")\n",
    "\n",
    "print(f'Data uploaded to {destination_folder}/model-input.jsonl')\n",
    "\n",
    "\n",
    "write_jsonlines_to_s3(\n",
    "df_explain, \n",
    ")"
   ]
  },
  {
   "cell_type": "code",
   "execution_count": 95,
   "id": "6cf18076-ee68-4a60-9778-c923cc9980d6",
   "metadata": {},
   "outputs": [
    {
     "data": {
      "text/html": [
       "<div>\n",
       "<style scoped>\n",
       "    .dataframe tbody tr th:only-of-type {\n",
       "        vertical-align: middle;\n",
       "    }\n",
       "\n",
       "    .dataframe tbody tr th {\n",
       "        vertical-align: top;\n",
       "    }\n",
       "\n",
       "    .dataframe thead th {\n",
       "        text-align: right;\n",
       "    }\n",
       "</style>\n",
       "<table border=\"1\" class=\"dataframe\">\n",
       "  <thead>\n",
       "    <tr style=\"text-align: right;\">\n",
       "      <th></th>\n",
       "      <th>p_no_reply</th>\n",
       "      <th>p_reply</th>\n",
       "      <th>true_label</th>\n",
       "      <th>input_data</th>\n",
       "      <th>predicted_label</th>\n",
       "    </tr>\n",
       "  </thead>\n",
       "  <tbody>\n",
       "    <tr>\n",
       "      <th>253</th>\n",
       "      <td>0.999978</td>\n",
       "      <td>0.000042</td>\n",
       "      <td>__label__no_reply</td>\n",
       "      <td>Thomas explore these courses on skills you fol...</td>\n",
       "      <td>False</td>\n",
       "    </tr>\n",
       "    <tr>\n",
       "      <th>541</th>\n",
       "      <td>0.834760</td>\n",
       "      <td>0.165259</td>\n",
       "      <td>__label__no_reply</td>\n",
       "      <td>The following SSH key was added to your accoun...</td>\n",
       "      <td>False</td>\n",
       "    </tr>\n",
       "    <tr>\n",
       "      <th>302</th>\n",
       "      <td>0.136947</td>\n",
       "      <td>0.863073</td>\n",
       "      <td>__label__no_reply</td>\n",
       "      <td>Dear Thomas Thank you for your interest in Ken...</td>\n",
       "      <td>True</td>\n",
       "    </tr>\n",
       "    <tr>\n",
       "      <th>3576</th>\n",
       "      <td>0.972343</td>\n",
       "      <td>0.027677</td>\n",
       "      <td>__label__no_reply</td>\n",
       "      <td>Malwarebytes www.malwarebytes.com ( https : //...</td>\n",
       "      <td>False</td>\n",
       "    </tr>\n",
       "    <tr>\n",
       "      <th>1698</th>\n",
       "      <td>0.827430</td>\n",
       "      <td>0.172590</td>\n",
       "      <td>__label__no_reply</td>\n",
       "      <td>Estimated to arrive Wed Apr 20 Order date : Su...</td>\n",
       "      <td>False</td>\n",
       "    </tr>\n",
       "    <tr>\n",
       "      <th>3049</th>\n",
       "      <td>0.991432</td>\n",
       "      <td>0.008588</td>\n",
       "      <td>__label__no_reply</td>\n",
       "      <td>https : //cl.S7.exct.net/ ? qs=30e68a195084d06...</td>\n",
       "      <td>False</td>\n",
       "    </tr>\n",
       "    <tr>\n",
       "      <th>2475</th>\n",
       "      <td>0.813780</td>\n",
       "      <td>0.186240</td>\n",
       "      <td>__label__no_reply</td>\n",
       "      <td>CarGurus Your wallet is going to love it . Wan...</td>\n",
       "      <td>False</td>\n",
       "    </tr>\n",
       "    <tr>\n",
       "      <th>841</th>\n",
       "      <td>0.626657</td>\n",
       "      <td>0.373363</td>\n",
       "      <td>__label__no_reply</td>\n",
       "      <td>[ http : //images.myhealthyfinances.com/Eloqua...</td>\n",
       "      <td>False</td>\n",
       "    </tr>\n",
       "    <tr>\n",
       "      <th>3616</th>\n",
       "      <td>0.951138</td>\n",
       "      <td>0.048882</td>\n",
       "      <td>__label__no_reply</td>\n",
       "      <td>See details about your credit report activity ...</td>\n",
       "      <td>False</td>\n",
       "    </tr>\n",
       "    <tr>\n",
       "      <th>473</th>\n",
       "      <td>0.842468</td>\n",
       "      <td>0.157552</td>\n",
       "      <td>__label__no_reply</td>\n",
       "      <td>Dear Thomas Loeber Hello &lt; div &gt; &lt; br &gt; &lt; /div...</td>\n",
       "      <td>False</td>\n",
       "    </tr>\n",
       "  </tbody>\n",
       "</table>\n",
       "</div>"
      ],
      "text/plain": [
       "      p_no_reply   p_reply         true_label  \\\n",
       "253     0.999978  0.000042  __label__no_reply   \n",
       "541     0.834760  0.165259  __label__no_reply   \n",
       "302     0.136947  0.863073  __label__no_reply   \n",
       "3576    0.972343  0.027677  __label__no_reply   \n",
       "1698    0.827430  0.172590  __label__no_reply   \n",
       "3049    0.991432  0.008588  __label__no_reply   \n",
       "2475    0.813780  0.186240  __label__no_reply   \n",
       "841     0.626657  0.373363  __label__no_reply   \n",
       "3616    0.951138  0.048882  __label__no_reply   \n",
       "473     0.842468  0.157552  __label__no_reply   \n",
       "\n",
       "                                             input_data  predicted_label  \n",
       "253   Thomas explore these courses on skills you fol...            False  \n",
       "541   The following SSH key was added to your accoun...            False  \n",
       "302   Dear Thomas Thank you for your interest in Ken...             True  \n",
       "3576  Malwarebytes www.malwarebytes.com ( https : //...            False  \n",
       "1698  Estimated to arrive Wed Apr 20 Order date : Su...            False  \n",
       "3049  https : //cl.S7.exct.net/ ? qs=30e68a195084d06...            False  \n",
       "2475  CarGurus Your wallet is going to love it . Wan...            False  \n",
       "841   [ http : //images.myhealthyfinances.com/Eloqua...            False  \n",
       "3616  See details about your credit report activity ...            False  \n",
       "473   Dear Thomas Loeber Hello < div > < br > < /div...            False  "
      ]
     },
     "execution_count": 95,
     "metadata": {},
     "output_type": "execute_result"
    }
   ],
   "source": [
    "df_explain"
   ]
  },
  {
   "cell_type": "markdown",
   "id": "96e0d84c-6037-459d-8e7e-15fd258688b6",
   "metadata": {},
   "source": [
    "### Model performance"
   ]
  },
  {
   "cell_type": "code",
   "execution_count": 77,
   "id": "46099cc3-575b-43f0-af98-90703d850698",
   "metadata": {},
   "outputs": [
    {
     "data": {
      "text/plain": [
       "0.8885168015572174"
      ]
     },
     "execution_count": 77,
     "metadata": {},
     "output_type": "execute_result"
    }
   ],
   "source": [
    "# AUC\n",
    "from sklearn.metrics import roc_auc_score, confusion_matrix, ConfusionMatrixDisplay, classification_report\n",
    "roc_auc_score(y_true=predictions.true_label, y_score=predictions.p_reply)"
   ]
  },
  {
   "cell_type": "markdown",
   "id": "89179858-7169-4399-810f-ad35c7acf5f1",
   "metadata": {},
   "source": [
    "The AUC of .89 is pretty good, but  it can be misleading for an imbalanced classification problem (remember, we only oversampled the training and validation data). Thus, let's look at the confusion matrix for a more detailed view."
   ]
  },
  {
   "cell_type": "code",
   "execution_count": 78,
   "id": "5793d263-32ee-49e5-bcc1-2bd41980485b",
   "metadata": {},
   "outputs": [
    {
     "data": {
      "image/png": "[encoded data removed]",
      "text/plain": [
       "<Figure size 432x288 with 2 Axes>"
      ]
     },
     "metadata": {
      "needs_background": "light"
     },
     "output_type": "display_data"
    }
   ],
   "source": [
    "def create_confusion_matrix(predictions: pd.DataFrame, threshold: float) -> None:\n",
    "    cm = confusion_matrix(\n",
    "        y_true=predictions.true_label, \n",
    "        y_pred=predictions.p_reply > threshold\n",
    "    )\n",
    "    display = ConfusionMatrixDisplay(\n",
    "        confusion_matrix=cm, \n",
    "        display_labels=['no reply', 'replied to']\n",
    "    )\n",
    "    display.plot()\n",
    "    plt.show()\n",
    "    \n",
    "create_confusion_matrix(predictions, threshold = 0.5)"
   ]
  },
  {
   "cell_type": "markdown",
   "id": "7bfb986b-f3a4-41c7-b5fb-f94d7543b361",
   "metadata": {},
   "source": [
    "We see that if we just predict the most probable class, we can correctly predict about three quarters of replies. This is pretty good for predicting a rare event. Depending on what we care about, we could adjust the prediction threshold. For example, if we care about identifying messages that could potentially require a reply, we could flag each message that has a probability of reply greater than 20%. Let's see what results this gives us:"
   ]
  },
  {
   "cell_type": "code",
   "execution_count": 79,
   "id": "6164c0f1-1806-462a-b5a7-c6f1af042a39",
   "metadata": {},
   "outputs": [
    {
     "name": "stdout",
     "output_type": "stream",
     "text": [
      "              precision    recall  f1-score   support\n",
      "\n",
      "    no reply       1.00      0.87      0.93      3632\n",
      "  replied to       0.06      0.72      0.11        43\n",
      "\n",
      "    accuracy                           0.86      3675\n",
      "   macro avg       0.53      0.79      0.52      3675\n",
      "weighted avg       0.99      0.86      0.92      3675\n",
      "\n"
     ]
    }
   ],
   "source": [
    "def create_classification_report(predictions: pd.DataFrame, threshold: float) -> None:\n",
    "    report = classification_report(\n",
    "        y_true=predictions.true_label, \n",
    "        y_pred=predictions.p_reply > threshold, \n",
    "        target_names=['no reply', 'replied to']\n",
    "    )\n",
    "    print(report)\n",
    "\n",
    "create_classification_report(predictions, threshold = 0.5)"
   ]
  },
  {
   "cell_type": "code",
   "execution_count": 80,
   "id": "1aa9986d-9767-4901-a38d-2fd2f38bcfea",
   "metadata": {},
   "outputs": [
    {
     "data": {
      "image/png": "[encoded data removed]",
      "text/plain": [
       "<Figure size 432x288 with 2 Axes>"
      ]
     },
     "metadata": {
      "needs_background": "light"
     },
     "output_type": "display_data"
    }
   ],
   "source": [
    "create_confusion_matrix(predictions, threshold = 0.2)"
   ]
  },
  {
   "cell_type": "code",
   "execution_count": 81,
   "id": "a78d1305-a915-46ec-a42d-67034a122ce0",
   "metadata": {},
   "outputs": [
    {
     "name": "stdout",
     "output_type": "stream",
     "text": [
      "              precision    recall  f1-score   support\n",
      "\n",
      "    no reply       1.00      0.65      0.79      3632\n",
      "  replied to       0.03      0.95      0.06        43\n",
      "\n",
      "    accuracy                           0.66      3675\n",
      "   macro avg       0.52      0.80      0.43      3675\n",
      "weighted avg       0.99      0.66      0.78      3675\n",
      "\n"
     ]
    }
   ],
   "source": [
    "create_classification_report(predictions, 0.2)"
   ]
  },
  {
   "cell_type": "markdown",
   "id": "d67e1e7a-687b-4349-9ac2-4602645b0c94",
   "metadata": {},
   "source": [
    "Now we are able to identify almost all emails eliciting a reply, at the cost of more false positives."
   ]
  },
  {
   "cell_type": "code",
   "execution_count": 82,
   "id": "5e7bd3db-7e43-4e01-b3aa-86b7302114c9",
   "metadata": {},
   "outputs": [
    {
     "name": "stdout",
     "output_type": "stream",
     "text": [
      "Finished at 2022-11-03 12:49:22.003167\n"
     ]
    }
   ],
   "source": [
    "print(f'Finished at {datetime.now()}')"
   ]
  }
 ],
 "metadata": {
  "instance_type": "ml.t3.medium",
  "kernelspec": {
   "display_name": "Python 3.7.4 ('base')",
   "language": "python",
   "name": "python3"
  },
  "language_info": {
   "codemirror_mode": {
    "name": "ipython",
    "version": 3
   },
   "file_extension": ".py",
   "mimetype": "text/x-python",
   "name": "python",
   "nbconvert_exporter": "python",
   "pygments_lexer": "ipython3",
   "version": "3.7.4"
  },
  "lcc_arn": "arn:aws:sagemaker:us-east-1:070158674174:studio-lifecycle-config/install-packages-2",
  "toc-autonumbering": true,
  "toc-showcode": false,
  "toc-showmarkdowntxt": true,
  "toc-showtags": true,
  "vscode": {
   "interpreter": {
    "hash": "d2af68a4b51633f13995ebfae92a57b161ed6e58c9d8595f65fa30edeb049295"
   }
  }
 },
 "nbformat": 4,
 "nbformat_minor": 5
}
