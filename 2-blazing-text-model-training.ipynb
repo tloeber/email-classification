{
 "cells": [
  {
   "cell_type": "code",
   "execution_count": 15,
   "id": "08a42f34-335e-4389-b353-4930877e34bc",
   "metadata": {},
   "outputs": [],
   "source": [
    "# Enable current type hints for older Python version (<3.10) \n",
    "from __future__ import annotations\n",
    "import boto3\n",
    "import pandas as pd\n",
    "import numpy as np\n",
    "import seaborn as sns\n",
    "import matplotlib.pyplot as plt\n",
    "import pdb"
   ]
  },
  {
   "cell_type": "code",
   "execution_count": 16,
   "id": "aa28092b-ee9d-45bd-b994-787b5de6f1d6",
   "metadata": {},
   "outputs": [],
   "source": [
    "from dotenv import dotenv_values\n",
    "\n",
    "config = dotenv_values(\".env\")  # config = {\"USER\": \"foo\", \"EMAIL\": \"foo@example.org\"}\n",
    "\n",
    "BUCKET_NAME = config['BUCKET_NAME']\n",
    "PREFIX = config['PREFIX']\n",
    "FILE_NAME = config['FILE_NAME']\n",
    "TRAINING_DATA_PATH = config['TRAINING_DATA_PATH']\n",
    "VALIDATION_DATA_PATH = config['VALIDATION_DATA_PATH']"
   ]
  },
  {
   "cell_type": "code",
   "execution_count": 17,
   "id": "f225a450-c93b-4dde-8982-0a460f76e6ec",
   "metadata": {},
   "outputs": [],
   "source": [
    "# Todo: Remove this once using feature store\n",
    "import pickle\n",
    "with open('df_test.pickle', 'rb') as f:\n",
    "    df_test: pd.DataFrame = pickle.load(f)"
   ]
  },
  {
   "cell_type": "code",
   "execution_count": 18,
   "id": "e91f7ea6-b292-462f-84c1-a83a294882b3",
   "metadata": {},
   "outputs": [
    {
     "name": "stderr",
     "output_type": "stream",
     "text": [
      "The method get_image_uri has been renamed in sagemaker>=2.\n",
      "See: https://sagemaker.readthedocs.io/en/stable/v2.html for details.\n",
      "Defaulting to the only supported framework/algorithm version: 1. Ignoring framework/algorithm version: latest.\n"
     ]
    },
    {
     "name": "stdout",
     "output_type": "stream",
     "text": [
      "Using SageMaker BlazingText container: 811284229777.dkr.ecr.us-east-1.amazonaws.com/blazingtext:1 (us-east-1)\n"
     ]
    }
   ],
   "source": [
    "import sagemaker\n",
    "\n",
    "role = sagemaker.get_execution_role()\n",
    "region_name = boto3.Session().region_name\n",
    "container = sagemaker.amazon.amazon_estimator.get_image_uri(region_name, \"blazingtext\", \"latest\")\n",
    "print(f\"Using SageMaker BlazingText container: {container} ({region_name})\")"
   ]
  },
  {
   "cell_type": "code",
   "execution_count": 19,
   "id": "a7b1283b-9824-4f2f-9588-6d883d340df3",
   "metadata": {
    "tags": []
   },
   "outputs": [],
   "source": [
    "def create_model_inputs(input_path_train, input_path_val):\n",
    "    train_data = sagemaker.inputs.TrainingInput(\n",
    "        f's3://{input_path_train}',\n",
    "        distribution=\"FullyReplicated\",\n",
    "        content_type=\"text/plain\",\n",
    "        s3_data_type=\"S3Prefix\",\n",
    "    )\n",
    "    validation_data = sagemaker.inputs.TrainingInput(\n",
    "        f's3://{input_path_val}',\n",
    "        distribution=\"FullyReplicated\",\n",
    "        content_type=\"text/plain\",\n",
    "        s3_data_type=\"S3Prefix\",\n",
    "    )\n",
    "    data_channels = {\"train\": train_data, \"validation\": validation_data}\n",
    "    return data_channels\n",
    "\n",
    "\n",
    "# data_channels_base = create_model_inputs(train_path_base, val_path_base)\n",
    "data_channels = create_model_inputs(input_path_train=TRAINING_DATA_PATH, input_path_val=VALIDATION_DATA_PATH)"
   ]
  },
  {
   "cell_type": "code",
   "execution_count": 28,
   "id": "72d3b8b1-d25f-41e6-ac8c-71377b031f23",
   "metadata": {},
   "outputs": [
    {
     "name": "stdout",
     "output_type": "stream",
     "text": [
      "2022-10-14 10:06:51 Starting - Starting the training job...\n",
      "2022-10-14 10:07:21 Starting - Preparing the instances for trainingProfilerReport-1665742011: InProgress\n",
      ".........\n",
      "2022-10-14 10:08:41 Downloading - Downloading input data...\n",
      "2022-10-14 10:09:22 Training - Training image download completed. Training in progress.\u001b[34mArguments: train\u001b[0m\n",
      "\u001b[34m[10/14/2022 10:09:06 WARNING 140082370721600] Loggers have already been setup.\u001b[0m\n",
      "\u001b[34m[10/14/2022 10:09:06 WARNING 140082370721600] Loggers have already been setup.\u001b[0m\n",
      "\u001b[34m[10/14/2022 10:09:06 INFO 140082370721600] nvidia-smi took: 0.05026745796203613 secs to identify 0 gpus\u001b[0m\n",
      "\u001b[34m[10/14/2022 10:09:06 INFO 140082370721600] Running single machine CPU BlazingText training using supervised mode.\u001b[0m\n",
      "\u001b[34mNumber of CPU sockets found in instance is  1\u001b[0m\n",
      "\u001b[34m[10/14/2022 10:09:06 INFO 140082370721600] Processing /opt/ml/input/data/train/input-blazing-text.csv . File size: 78.67445850372314 MB\u001b[0m\n",
      "\u001b[34m[10/14/2022 10:09:06 INFO 140082370721600] Processing /opt/ml/input/data/validation/input-blazing-text.csv . File size: 8.174285888671875 MB\u001b[0m\n",
      "\u001b[34mRead 10M words\u001b[0m\n",
      "\u001b[34mRead 12M words\u001b[0m\n",
      "\u001b[34mNumber of words:  98705\u001b[0m\n",
      "\u001b[34mLoading validation data from /opt/ml/input/data/validation/input-blazing-text.csv\u001b[0m\n",
      "\u001b[34mLoaded validation data.\u001b[0m\n",
      "\u001b[34m##### Alpha: 0.0357  Progress: 28.66%  Million Words/sec: 26.10 #####\u001b[0m\n",
      "\u001b[34m##### Alpha: 0.0321  Progress: 35.73%  Million Words/sec: 26.31 #####\u001b[0m\n",
      "\u001b[34m-------------- End of epoch: 1\u001b[0m\n",
      "\u001b[34m##### Alpha: 0.0285  Progress: 42.91%  Million Words/sec: 26.48 #####\u001b[0m\n",
      "\u001b[34m##### Alpha: 0.0248  Progress: 50.32%  Million Words/sec: 26.69 #####\u001b[0m\n",
      "\u001b[34m##### Alpha: 0.0212  Progress: 57.62%  Million Words/sec: 26.87 #####\u001b[0m\n",
      "\u001b[34m##### Alpha: 0.0175  Progress: 64.94%  Million Words/sec: 27.01 #####\u001b[0m\n",
      "\u001b[34m##### Alpha: 0.0138  Progress: 72.43%  Million Words/sec: 27.19 #####\u001b[0m\n",
      "\u001b[34m-------------- End of epoch: 2\u001b[0m\n",
      "\u001b[34m##### Alpha: 0.0101  Progress: 79.76%  Million Words/sec: 27.28 #####\u001b[0m\n",
      "\u001b[34m##### Alpha: 0.0065  Progress: 87.00%  Million Words/sec: 27.33 #####\u001b[0m\n",
      "\u001b[34m##### Alpha: 0.0028  Progress: 94.30%  Million Words/sec: 27.39 #####\u001b[0m\n",
      "\u001b[34m##### Alpha: -0.0000  Progress: 100.03%  Million Words/sec: 27.01 #####\u001b[0m\n",
      "\u001b[34m-------------- End of epoch: 3\u001b[0m\n",
      "\u001b[34m##### Alpha: 0.0000  Progress: 100.00%  Million Words/sec: 27.00 #####\u001b[0m\n",
      "\u001b[34mTraining finished.\u001b[0m\n",
      "\u001b[34mAverage throughput in Million words/sec: 27.00\u001b[0m\n",
      "\u001b[34mTotal training time in seconds: 1.43\u001b[0m\n",
      "\u001b[34m#train_accuracy: 0.9595\u001b[0m\n",
      "\u001b[34mNumber of train examples: 36352\u001b[0m\n",
      "\u001b[34m#validation_accuracy: 0.8186\u001b[0m\n",
      "\u001b[34mNumber of validation examples: 4852\u001b[0m\n",
      "\n",
      "2022-10-14 10:09:42 Uploading - Uploading generated training model\n",
      "2022-10-14 10:11:22 Completed - Training job completed\n",
      "ProfilerReport-1665742011: NoIssuesFound\n",
      "Training seconds: 157\n",
      "Billable seconds: 157\n",
      "-----!"
     ]
    }
   ],
   "source": [
    "from sagemaker.serializers import JSONSerializer\n",
    "def train_and_deploy(inputs):\n",
    "    est = sagemaker.estimator.Estimator(\n",
    "        container,\n",
    "        role,\n",
    "        instance_count=1,\n",
    "        instance_type=\"ml.c4.4xlarge\",\n",
    "        volume_size=30,\n",
    "        max_run=360000,\n",
    "        input_mode=\"File\",\n",
    "        output_path=output_path,\n",
    "        hyperparameters={\n",
    "            \"mode\": \"supervised\",\n",
    "            \"epochs\": 3,\n",
    "            \"min_count\": 2,\n",
    "            \"learning_rate\": 0.05,\n",
    "            \"vector_dim\": 100,\n",
    "            \"early_stopping\": True,\n",
    "            \"patience\": 4,\n",
    "            \"min_epochs\": 5,\n",
    "            \"word_ngrams\": 2,\n",
    "        },\n",
    "    )\n",
    "    est.fit(inputs=data_channels, logs=True)# using the same nltk tokenizer that we used during data preparation for training\n",
    "\n",
    "    deployed_model = est.deploy(\n",
    "        initial_instance_count=1, instance_type=\"ml.m5.xlarge\", serializer=JSONSerializer()\n",
    "    )\n",
    "    return est, deployed_model\n",
    "\n",
    "_, deployed_model = train_and_deploy(inputs=data_channels)"
   ]
  },
  {
   "cell_type": "markdown",
   "id": "75ee85b1-8146-472f-973c-db1085efc15c",
   "metadata": {},
   "source": [
    "## Prediction\n",
    "### Make predictions\n",
    "Let's get the test data and get the associated predictions from the Sagemaker endpoint we deployed in the previous step."
   ]
  },
  {
   "cell_type": "code",
   "execution_count": 24,
   "id": "f32f9600-05f0-4503-a696-f86b837a2833",
   "metadata": {},
   "outputs": [],
   "source": [
    "import json\n",
    "\n",
    "# Save as np array for easy splitting later\n",
    "replied_tos = df_test.loc[df.target == '__label__reply', 'feature'].values\n",
    "no_reply = df_test.loc[df.target == '__label__no_reply', 'feature'].values"
   ]
  },
  {
   "cell_type": "code",
   "execution_count": 38,
   "id": "e370ac3e-9085-46f2-a13f-c2060169b446",
   "metadata": {},
   "outputs": [
    {
     "data": {
      "text/plain": [
       "count    43.000000\n",
       "mean      0.581925\n",
       "std       0.281160\n",
       "min       0.018831\n",
       "25%       0.380132\n",
       "50%       0.571513\n",
       "75%       0.795249\n",
       "max       0.999826\n",
       "Name: __label__reply, dtype: float64"
      ]
     },
     "execution_count": 38,
     "metadata": {},
     "output_type": "execute_result"
    }
   ],
   "source": [
    "def _prediction_to_df_row(pred: dict) -> dict:\n",
    "    labels = pred['label']\n",
    "    probs = pred['prob']\n",
    "    return {\n",
    "        label: prob \n",
    "        for label, prob in zip(labels, probs)\n",
    "    }\n",
    "\n",
    "def get_probs(text: np.array, deployed_model) -> list[np.float]:\n",
    "    payload = {\n",
    "        \"instances\": text,\n",
    "        \"configuration\": {\"k\": 2},  # get probs for top-k (both) classes\n",
    "    }\n",
    "    response = deployed_model.predict(payload)\n",
    "    predictions = json.loads(response)\n",
    "\n",
    "    all_probs = [\n",
    "        _prediction_to_df_row(pred) for pred in predictions\n",
    "    ]\n",
    "    return pd.DataFrame(all_probs)['__label__reply']\n",
    "\n",
    "p_reply = get_probs(replied_tos, deployed_model=deployed_model)\n",
    "p_reply.describe()\n"
   ]
  },
  {
   "cell_type": "code",
   "execution_count": 41,
   "id": "2c505c99-0f28-4e82-a37a-539bf99043f1",
   "metadata": {},
   "outputs": [
    {
     "data": {
      "text/plain": [
       "count    3632.000000\n",
       "mean        0.139382\n",
       "std         0.208497\n",
       "min         0.000010\n",
       "25%         0.011663\n",
       "50%         0.036616\n",
       "75%         0.173670\n",
       "max         0.995345\n",
       "Name: __label__reply, dtype: float64"
      ]
     },
     "execution_count": 41,
     "metadata": {},
     "output_type": "execute_result"
    }
   ],
   "source": [
    "# Need to make 2 requests\n",
    "p_no_reply = pd.concat(\n",
    "    [\n",
    "        get_probs(no_reply[:2000], deployed_model=deployed_model),\n",
    "        get_probs(no_reply[2000:], deployed_model=deployed_model)\n",
    "    ],\n",
    "    axis=0\n",
    ")\n",
    "p_no_reply.describe()"
   ]
  },
  {
   "cell_type": "markdown",
   "id": "96e0d84c-6037-459d-8e7e-15fd258688b6",
   "metadata": {},
   "source": [
    "### Model performance"
   ]
  },
  {
   "cell_type": "code",
   "execution_count": 63,
   "id": "a42220b2-2b92-4f57-9257-5c3416f792c0",
   "metadata": {},
   "outputs": [
    {
     "data": {
      "text/plain": [
       "count    3675.000000\n",
       "mean        0.144560\n",
       "std         0.214782\n",
       "min         0.000010\n",
       "25%         0.011915\n",
       "50%         0.037556\n",
       "75%         0.188007\n",
       "max         0.999826\n",
       "Name: __label__reply, dtype: float64"
      ]
     },
     "execution_count": 63,
     "metadata": {},
     "output_type": "execute_result"
    }
   ],
   "source": [
    "# Vectors of true and predicted scores\n",
    "y_true = [1] * len(replied_tos) + [0] * len(no_reply)\n",
    "y_score = p_reply.append(p_no_reply)\n",
    "\n",
    "y_score.describe()"
   ]
  },
  {
   "cell_type": "code",
   "execution_count": 64,
   "id": "c00fabd3-84f4-465c-bf92-b0d4c4d388cb",
   "metadata": {},
   "outputs": [
    {
     "data": {
      "text/plain": [
       "0.8985567564798689"
      ]
     },
     "execution_count": 64,
     "metadata": {},
     "output_type": "execute_result"
    }
   ],
   "source": [
    "# AUC\n",
    "from sklearn.metrics import roc_auc_score, confusion_matrix, ConfusionMatrixDisplay, classification_report\n",
    "roc_auc_score(y_true=y_true, y_score=y_score)"
   ]
  },
  {
   "cell_type": "markdown",
   "id": "89179858-7169-4399-810f-ad35c7acf5f1",
   "metadata": {},
   "source": [
    "The AUC of .9 is pretty good, but  it can be misleading for an imbalanced classification problem (remember, we only oversampled the training and validation data). Thus, let's look at the confusion matrix for a more detailed view."
   ]
  },
  {
   "cell_type": "code",
   "execution_count": 75,
   "id": "5793d263-32ee-49e5-bcc1-2bd41980485b",
   "metadata": {},
   "outputs": [
    {
     "data": {
      "image/png": "[encoded data removed]",
      "text/plain": [
       "<Figure size 640x480 with 2 Axes>"
      ]
     },
     "metadata": {},
     "output_type": "display_data"
    }
   ],
   "source": [
    "cm = confusion_matrix(y_true=y_true, y_pred=y_score>0.5)\n",
    "disp = ConfusionMatrixDisplay(confusion_matrix=cm, display_labels=['no reply', 'replied to'])\n",
    "disp = disp.plot()\n",
    "plt.show()"
   ]
  },
  {
   "cell_type": "markdown",
   "id": "7bfb986b-f3a4-41c7-b5fb-f94d7543b361",
   "metadata": {},
   "source": [
    "We see that if we just predict the most probable class, we can correctly predict about 60% of replies. This is pretty good for predicting a rare event. Depending on what we care about, we could adjust the prediction threshold. For example, if we care about identifying messages that could potentially require a reply, we could flag each message that has a probability of reply greater than 10%. Let's see what results this gives us:"
   ]
  },
  {
   "cell_type": "code",
   "execution_count": 60,
   "id": "6164c0f1-1806-462a-b5a7-c6f1af042a39",
   "metadata": {},
   "outputs": [
    {
     "name": "stdout",
     "output_type": "stream",
     "text": [
      "              precision    recall  f1-score   support\n",
      "\n",
      "    no reply       0.99      0.92      0.95      3632\n",
      "  replied to       0.08      0.60      0.14        43\n",
      "\n",
      "    accuracy                           0.91      3675\n",
      "   macro avg       0.54      0.76      0.55      3675\n",
      "weighted avg       0.98      0.91      0.95      3675\n",
      "\n"
     ]
    }
   ],
   "source": [
    "print(\n",
    "    classification_report(y_true=y_true, y_pred=y_score>0.5, target_names=['no reply', 'replied to'])\n",
    ")"
   ]
  },
  {
   "cell_type": "code",
   "execution_count": 76,
   "id": "1aa9986d-9767-4901-a38d-2fd2f38bcfea",
   "metadata": {},
   "outputs": [
    {
     "data": {
      "image/png": "[encoded data removed]",
      "text/plain": [
       "<Figure size 640x480 with 2 Axes>"
      ]
     },
     "metadata": {},
     "output_type": "display_data"
    }
   ],
   "source": [
    "cm = confusion_matrix(y_true=y_true, y_pred=y_score>0.1)\n",
    "disp = ConfusionMatrixDisplay(confusion_matrix=cm, display_labels=['no reply', 'replied to'])\n",
    "disp = disp.plot()\n",
    "plt.show()"
   ]
  },
  {
   "cell_type": "code",
   "execution_count": 77,
   "id": "a78d1305-a915-46ec-a42d-67034a122ce0",
   "metadata": {},
   "outputs": [
    {
     "name": "stdout",
     "output_type": "stream",
     "text": [
      "              precision    recall  f1-score   support\n",
      "\n",
      "    no reply       1.00      0.65      0.79      3632\n",
      "  replied to       0.03      0.95      0.06        43\n",
      "\n",
      "    accuracy                           0.65      3675\n",
      "   macro avg       0.52      0.80      0.42      3675\n",
      "weighted avg       0.99      0.65      0.78      3675\n",
      "\n"
     ]
    }
   ],
   "source": [
    "print(\n",
    "    classification_report(y_true=y_true, y_pred=y_score>0.1, target_names=['no reply', 'replied to'])\n",
    ")"
   ]
  },
  {
   "cell_type": "markdown",
   "id": "d67e1e7a-687b-4349-9ac2-4602645b0c94",
   "metadata": {},
   "source": [
    "Now we are able to identify almost all emails eliciting a reply, at the cost of more false positives."
   ]
  },
  {
   "cell_type": "code",
   "execution_count": null,
   "id": "b0267f32-c94f-41df-8874-fbee6c4bebf6",
   "metadata": {},
   "outputs": [],
   "source": [
    "sess.delete_endpoint(deployed_model)"
   ]
  },
  {
   "cell_type": "code",
   "execution_count": null,
   "id": "9f66afb3-e56a-483b-9bcc-27cbd1b63667",
   "metadata": {},
   "outputs": [],
   "source": [
    "from datetime import datetime\n",
    "print(f'Finished at {datetime.now()}')"
   ]
  }
 ],
 "metadata": {
  "instance_type": "ml.t3.medium",
  "kernelspec": {
   "display_name": "Python 3 (Data Science 2.0)",
   "language": "python",
   "name": "python3__SAGEMAKER_INTERNAL__arn:aws:sagemaker:us-east-1:081325390199:image/sagemaker-data-science-38"
  },
  "language_info": {
   "codemirror_mode": {
    "name": "ipython",
    "version": 3
   },
   "file_extension": ".py",
   "mimetype": "text/x-python",
   "name": "python",
   "nbconvert_exporter": "python",
   "pygments_lexer": "ipython3",
   "version": "3.8.13"
  },
  "lcc_arn": "arn:aws:sagemaker:us-east-1:070158674174:studio-lifecycle-config/install-packages-2",
  "toc-autonumbering": true,
  "toc-showcode": false,
  "toc-showmarkdowntxt": true,
  "toc-showtags": true
 },
 "nbformat": 4,
 "nbformat_minor": 5
}
