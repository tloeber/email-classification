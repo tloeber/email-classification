{
 "cells": [
  {
   "cell_type": "code",
   "execution_count": 1,
   "metadata": {},
   "outputs": [],
   "source": [
    "from typing import Literal\n",
    "\n",
    "import pyarrow.parquet as pq\n",
    "import pandas as pd"
   ]
  },
  {
   "cell_type": "code",
   "execution_count": 2,
   "metadata": {},
   "outputs": [],
   "source": [
    "# Since using AWS requires refreshing SSO credentials ever day, skip this for \n",
    "# now for quicker iteration\n",
    "REFRESH_DATA_FROM_S3: bool = False\n",
    "\n",
    "# Set to `False` to use whole data set, or set to an integer to specify how \n",
    "# many rows to include.\n",
    "SUBSET: Literal[False] | int = 400"
   ]
  },
  {
   "cell_type": "code",
   "execution_count": 3,
   "metadata": {},
   "outputs": [],
   "source": [
    "# Load data\n",
    "if REFRESH_DATA_FROM_S3:\n",
    "    raise NotImplementedError\n",
    "else:\n",
    "    df: pd.DataFrame = pq.read_table('../data/preprocessing_input.parquet') \\\n",
    "    .to_pandas() \\\n",
    "    .rename(columns={'replied_to': 'label'})\n",
    "if SUBSET is not False:\n",
    "    df = df.iloc[:SUBSET, ]"
   ]
  },
  {
   "cell_type": "code",
   "execution_count": 4,
   "metadata": {},
   "outputs": [
    {
     "data": {
      "text/html": [
       "<div>\n",
       "<style scoped>\n",
       "    .dataframe tbody tr th:only-of-type {\n",
       "        vertical-align: middle;\n",
       "    }\n",
       "\n",
       "    .dataframe tbody tr th {\n",
       "        vertical-align: top;\n",
       "    }\n",
       "\n",
       "    .dataframe thead th {\n",
       "        text-align: right;\n",
       "    }\n",
       "</style>\n",
       "<table border=\"1\" class=\"dataframe\">\n",
       "  <thead>\n",
       "    <tr style=\"text-align: right;\">\n",
       "      <th></th>\n",
       "      <th>label</th>\n",
       "      <th>body</th>\n",
       "    </tr>\n",
       "  </thead>\n",
       "  <tbody>\n",
       "    <tr>\n",
       "      <th>183cbf647a8af438</th>\n",
       "      <td>0</td>\n",
       "      <td>Good morning families -\\r\\n\\r\\nThe technician ...</td>\n",
       "    </tr>\n",
       "    <tr>\n",
       "      <th>183cb6c70075704b</th>\n",
       "      <td>0</td>\n",
       "      <td>[http://images.myhealthyfinances.com/EloquaIma...</td>\n",
       "    </tr>\n",
       "    <tr>\n",
       "      <th>183ca91acbdcd4f8</th>\n",
       "      <td>0</td>\n",
       "      <td>\\n\\n\\n\\n\\nWarning:\\r\\n    Low Battery\\r\\n    \\...</td>\n",
       "    </tr>\n",
       "  </tbody>\n",
       "</table>\n",
       "</div>"
      ],
      "text/plain": [
       "                  label                                               body\n",
       "183cbf647a8af438      0  Good morning families -\\r\\n\\r\\nThe technician ...\n",
       "183cb6c70075704b      0  [http://images.myhealthyfinances.com/EloquaIma...\n",
       "183ca91acbdcd4f8      0  \\n\\n\\n\\n\\nWarning:\\r\\n    Low Battery\\r\\n    \\..."
      ]
     },
     "execution_count": 4,
     "metadata": {},
     "output_type": "execute_result"
    }
   ],
   "source": [
    "df = df[['label', 'body']]\n",
    "df['label'] = df.label.astype(int)\n",
    "df.head(3)"
   ]
  },
  {
   "cell_type": "code",
   "execution_count": 5,
   "metadata": {},
   "outputs": [
    {
     "data": {
      "text/plain": [
       "0    387\n",
       "1     13\n",
       "Name: label, dtype: int64"
      ]
     },
     "execution_count": 5,
     "metadata": {},
     "output_type": "execute_result"
    }
   ],
   "source": [
    "df.label.value_counts()"
   ]
  },
  {
   "cell_type": "code",
   "execution_count": 6,
   "metadata": {},
   "outputs": [
    {
     "name": "stderr",
     "output_type": "stream",
     "text": [
      "c:\\Users\\tloeb\\.virtualenvs\\metaflow-TRBG_F-M\\lib\\site-packages\\tqdm\\auto.py:22: TqdmWarning: IProgress not found. Please update jupyter and ipywidgets. See https://ipywidgets.readthedocs.io/en/stable/user_install.html\n",
      "  from .autonotebook import tqdm as notebook_tqdm\n"
     ]
    },
    {
     "data": {
      "text/plain": [
       "Dataset({\n",
       "    features: ['label', 'body', '__index_level_0__'],\n",
       "    num_rows: 200\n",
       "})"
      ]
     },
     "execution_count": 6,
     "metadata": {},
     "output_type": "execute_result"
    }
   ],
   "source": [
    "from datasets import Dataset, DatasetDict\n",
    "\n",
    "split_index = len(df) // 2\n",
    "ds_train: Dataset = Dataset.from_pandas(df.iloc[:split_index, :])\n",
    "ds_test: Dataset = Dataset.from_pandas(df.iloc[split_index:, :])\n",
    "ds_test"
   ]
  },
  {
   "cell_type": "code",
   "execution_count": 7,
   "metadata": {},
   "outputs": [
    {
     "data": {
      "text/plain": [
       "DatasetDict({\n",
       "    train: Dataset({\n",
       "        features: ['label', 'body', '__index_level_0__'],\n",
       "        num_rows: 200\n",
       "    })\n",
       "    test: Dataset({\n",
       "        features: ['label', 'body', '__index_level_0__'],\n",
       "        num_rows: 200\n",
       "    })\n",
       "})"
      ]
     },
     "execution_count": 7,
     "metadata": {},
     "output_type": "execute_result"
    }
   ],
   "source": [
    "ds = DatasetDict()\n",
    "ds['train'] = ds_train\n",
    "ds['test'] = ds_test\n",
    "ds"
   ]
  },
  {
   "cell_type": "code",
   "execution_count": 8,
   "metadata": {},
   "outputs": [
    {
     "name": "stderr",
     "output_type": "stream",
     "text": [
      "100%|██████████| 1/1 [00:00<00:00,  3.42ba/s]\n",
      "100%|██████████| 1/1 [00:00<00:00,  3.79ba/s]\n"
     ]
    },
    {
     "data": {
      "text/plain": [
       "DatasetDict({\n",
       "    train: Dataset({\n",
       "        features: ['label', 'body', '__index_level_0__', 'input_ids', 'token_type_ids', 'attention_mask'],\n",
       "        num_rows: 200\n",
       "    })\n",
       "    test: Dataset({\n",
       "        features: ['label', 'body', '__index_level_0__', 'input_ids', 'token_type_ids', 'attention_mask'],\n",
       "        num_rows: 200\n",
       "    })\n",
       "})"
      ]
     },
     "execution_count": 8,
     "metadata": {},
     "output_type": "execute_result"
    }
   ],
   "source": [
    "from transformers import AutoTokenizer\n",
    "checkpoint = \"bert-base-cased\"\n",
    "\n",
    "def preprocess_function(rows):\n",
    "    text_field: str = \"body\"\n",
    "    tokenizer = AutoTokenizer.from_pretrained(checkpoint)\n",
    "    return tokenizer(\n",
    "        rows[text_field], \n",
    "        padding='max_length',\n",
    "        truncation=True, \n",
    "    )\n",
    "\n",
    "ds_tokenized: DatasetDict = ds.map(preprocess_function, batched=True)\n",
    "ds_tokenized"
   ]
  },
  {
   "cell_type": "code",
   "execution_count": 9,
   "metadata": {},
   "outputs": [],
   "source": [
    "# from transformers import DataCollatorWithPadding\n",
    "# data_collator = DataCollatorWithPadding(tokenizer=tokenizer)"
   ]
  },
  {
   "cell_type": "code",
   "execution_count": 10,
   "metadata": {},
   "outputs": [
    {
     "name": "stderr",
     "output_type": "stream",
     "text": [
      "Some weights of the model checkpoint at bert-base-cased were not used when initializing BertForSequenceClassification: ['cls.predictions.transform.LayerNorm.bias', 'cls.predictions.transform.dense.weight', 'cls.predictions.transform.dense.bias', 'cls.predictions.decoder.weight', 'cls.seq_relationship.bias', 'cls.predictions.transform.LayerNorm.weight', 'cls.predictions.bias', 'cls.seq_relationship.weight']\n",
      "- This IS expected if you are initializing BertForSequenceClassification from the checkpoint of a model trained on another task or with another architecture (e.g. initializing a BertForSequenceClassification model from a BertForPreTraining model).\n",
      "- This IS NOT expected if you are initializing BertForSequenceClassification from the checkpoint of a model that you expect to be exactly identical (initializing a BertForSequenceClassification model from a BertForSequenceClassification model).\n",
      "Some weights of BertForSequenceClassification were not initialized from the model checkpoint at bert-base-cased and are newly initialized: ['classifier.weight', 'classifier.bias']\n",
      "You should probably TRAIN this model on a down-stream task to be able to use it for predictions and inference.\n"
     ]
    }
   ],
   "source": [
    "from transformers import AutoModelForSequenceClassification, TrainingArguments, Trainer\n",
    "\n",
    "id2label: dict[int, str] = {0: \"No\", 1: \"Yes\"}\n",
    "label2id: dict[str, int] = {value: key for key, value in id2label.items()}\n",
    "\n",
    "model = AutoModelForSequenceClassification.from_pretrained(\n",
    "    checkpoint, num_labels=2, id2label=id2label, label2id=label2id\n",
    ")"
   ]
  },
  {
   "cell_type": "code",
   "execution_count": 11,
   "metadata": {},
   "outputs": [],
   "source": [
    "import evaluate\n",
    "import numpy as np\n",
    "import torch\n",
    "from torch.nn import functional as f\n",
    "\n",
    "def compute_auc(eval_pred):\n",
    "    metric = evaluate.load('roc_auc')\n",
    "\n",
    "    logits, labels = eval_pred\n",
    "    probabilities = f.softmax(\n",
    "        torch.from_numpy(logits),\n",
    "        dim=-1\n",
    "    )\n",
    "    return metric.compute(\n",
    "        prediction_scores=probabilities[:, 1], \n",
    "        references=labels\n",
    "    )"
   ]
  },
  {
   "cell_type": "code",
   "execution_count": 12,
   "metadata": {},
   "outputs": [
    {
     "name": "stderr",
     "output_type": "stream",
     "text": [
      "The following columns in the training set don't have a corresponding argument in `BertForSequenceClassification.forward` and have been ignored: __index_level_0__, body. If __index_level_0__, body are not expected by `BertForSequenceClassification.forward`,  you can safely ignore this message.\n",
      "c:\\Users\\tloeb\\.virtualenvs\\metaflow-TRBG_F-M\\lib\\site-packages\\transformers\\optimization.py:306: FutureWarning: This implementation of AdamW is deprecated and will be removed in a future version. Use the PyTorch implementation torch.optim.AdamW instead, or set `no_deprecation_warning=True` to disable this warning\n",
      "  warnings.warn(\n",
      "***** Running training *****\n",
      "  Num examples = 200\n",
      "  Num Epochs = 3\n",
      "  Instantaneous batch size per device = 8\n",
      "  Total train batch size (w. parallel, distributed & accumulation) = 8\n",
      "  Gradient Accumulation steps = 1\n",
      "  Total optimization steps = 75\n",
      "  Number of trainable parameters = 108311810\n",
      " 33%|███▎      | 25/75 [06:11<11:31, 13.84s/it]The following columns in the evaluation set don't have a corresponding argument in `BertForSequenceClassification.forward` and have been ignored: __index_level_0__, body. If __index_level_0__, body are not expected by `BertForSequenceClassification.forward`,  you can safely ignore this message.\n",
      "***** Running Evaluation *****\n",
      "  Num examples = 200\n",
      "  Batch size = 8\n",
      "                                               \n",
      " 33%|███▎      | 25/75 [08:37<11:31, 13.84s/it]"
     ]
    },
    {
     "name": "stdout",
     "output_type": "stream",
     "text": [
      "{'eval_loss': 0.12983709573745728, 'eval_roc_auc': 0.38051282051282054, 'eval_runtime': 146.0723, 'eval_samples_per_second': 1.369, 'eval_steps_per_second': 0.171, 'epoch': 1.0}\n"
     ]
    },
    {
     "name": "stderr",
     "output_type": "stream",
     "text": [
      " 67%|██████▋   | 50/75 [14:25<05:49, 13.99s/it]The following columns in the evaluation set don't have a corresponding argument in `BertForSequenceClassification.forward` and have been ignored: __index_level_0__, body. If __index_level_0__, body are not expected by `BertForSequenceClassification.forward`,  you can safely ignore this message.\n",
      "***** Running Evaluation *****\n",
      "  Num examples = 200\n",
      "  Batch size = 8\n",
      "                                               \n",
      " 67%|██████▋   | 50/75 [16:51<05:49, 13.99s/it]"
     ]
    },
    {
     "name": "stdout",
     "output_type": "stream",
     "text": [
      "{'eval_loss': 0.12911292910575867, 'eval_roc_auc': 0.6523076923076924, 'eval_runtime': 145.2766, 'eval_samples_per_second': 1.377, 'eval_steps_per_second': 0.172, 'epoch': 2.0}\n"
     ]
    },
    {
     "name": "stderr",
     "output_type": "stream",
     "text": [
      "100%|██████████| 75/75 [22:27<00:00, 13.15s/it]The following columns in the evaluation set don't have a corresponding argument in `BertForSequenceClassification.forward` and have been ignored: __index_level_0__, body. If __index_level_0__, body are not expected by `BertForSequenceClassification.forward`,  you can safely ignore this message.\n",
      "***** Running Evaluation *****\n",
      "  Num examples = 200\n",
      "  Batch size = 8\n",
      "                                               \n",
      "100%|██████████| 75/75 [24:50<00:00, 13.15s/it]\n",
      "\n",
      "Training completed. Do not forget to share your model on huggingface.co/models =)\n",
      "\n",
      "\n",
      "100%|██████████| 75/75 [24:50<00:00, 19.87s/it]"
     ]
    },
    {
     "name": "stdout",
     "output_type": "stream",
     "text": [
      "{'eval_loss': 0.1332726925611496, 'eval_roc_auc': 0.6553846153846153, 'eval_runtime': 142.7567, 'eval_samples_per_second': 1.401, 'eval_steps_per_second': 0.175, 'epoch': 3.0}\n",
      "{'train_runtime': 1490.0833, 'train_samples_per_second': 0.403, 'train_steps_per_second': 0.05, 'train_loss': 0.19033419291178386, 'epoch': 3.0}\n"
     ]
    },
    {
     "name": "stderr",
     "output_type": "stream",
     "text": [
      "\n"
     ]
    },
    {
     "data": {
      "text/plain": [
       "TrainOutput(global_step=75, training_loss=0.19033419291178386, metrics={'train_runtime': 1490.0833, 'train_samples_per_second': 0.403, 'train_steps_per_second': 0.05, 'train_loss': 0.19033419291178386, 'epoch': 3.0})"
      ]
     },
     "execution_count": 12,
     "metadata": {},
     "output_type": "execute_result"
    }
   ],
   "source": [
    "from transformers import TrainingArguments, Trainer\n",
    "\n",
    "training_args = TrainingArguments(\n",
    "    output_dir=\"huggingface-output\", \n",
    "    evaluation_strategy=\"epoch\"\n",
    ")\n",
    "\n",
    "trainer = Trainer(\n",
    "    model=model,\n",
    "    args=training_args,\n",
    "    train_dataset=ds_tokenized['train'],\n",
    "    eval_dataset=ds_tokenized['test'],\n",
    "    compute_metrics=compute_auc,\n",
    ")\n",
    "trainer.train()"
   ]
  }
 ],
 "metadata": {
  "kernelspec": {
   "display_name": "Python 3.10.7 ('metaflow-TRBG_F-M')",
   "language": "python",
   "name": "python3"
  },
  "language_info": {
   "codemirror_mode": {
    "name": "ipython",
    "version": 3
   },
   "file_extension": ".py",
   "mimetype": "text/x-python",
   "name": "python",
   "nbconvert_exporter": "python",
   "pygments_lexer": "ipython3",
   "version": "3.10.7"
  },
  "orig_nbformat": 4,
  "vscode": {
   "interpreter": {
    "hash": "e1ebbdcac31c10bc4f66b85d0e011fbb20f90be0c41d790773bf9e8f4491958f"
   }
  }
 },
 "nbformat": 4,
 "nbformat_minor": 2
}
