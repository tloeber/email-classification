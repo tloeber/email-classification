{
 "cells": [
  {
   "cell_type": "code",
   "execution_count": 2,
   "id": "08a42f34-335e-4389-b353-4930877e34bc",
   "metadata": {},
   "outputs": [],
   "source": [
    "# Enable current type hints for older Python version (<3.10) \n",
    "from __future__ import annotations\n",
    "import boto3\n",
    "import pandas as pd\n",
    "import pyarrow.parquet as pq\n",
    "import numpy as np\n",
    "import seaborn as sns\n",
    "import matplotlib.pyplot as plt\n",
    "import pdb"
   ]
  },
  {
   "cell_type": "markdown",
   "id": "b9956edb-33fe-412b-909a-aa6b011a05d2",
   "metadata": {},
   "source": [
    "# Read data\n",
    "See the \"data-pipeline\" directory for how to get and persist the data as parquet."
   ]
  },
  {
   "cell_type": "code",
   "execution_count": 3,
   "id": "d9044951-cdde-4021-bf2d-41935edf1060",
   "metadata": {},
   "outputs": [],
   "source": [
    "# !conda install -c conda-forge  -y python-dotenv"
   ]
  },
  {
   "cell_type": "code",
   "execution_count": 4,
   "id": "2577a8a2-b67f-4144-9692-c12532d024f2",
   "metadata": {},
   "outputs": [],
   "source": [
    "from dotenv import dotenv_values\n",
    "\n",
    "config = dotenv_values(\".env\")  # config = {\"USER\": \"foo\", \"EMAIL\": \"foo@example.org\"}\n",
    "\n",
    "BUCKET_NAME = config['BUCKET_NAME']\n",
    "PREFIX = config['PREFIX']\n",
    "FILE_NAME = config['FILE_NAME']"
   ]
  },
  {
   "cell_type": "code",
   "execution_count": 5,
   "id": "161e342b-7d94-452d-bfcd-d8ac78f1b139",
   "metadata": {},
   "outputs": [],
   "source": [
    "s3 = boto3.client('s3')\n",
    "s3.download_file(\n",
    "    Bucket=BUCKET_NAME, \n",
    "    Key=f'{PREFIX}/{FILE_NAME}', \n",
    "    Filename=FILE_NAME\n",
    ")"
   ]
  },
  {
   "cell_type": "code",
   "execution_count": 6,
   "id": "4e25d590-3092-4308-9e00-f063161a8939",
   "metadata": {},
   "outputs": [
    {
     "data": {
      "text/html": [
       "<div>\n",
       "<style scoped>\n",
       "    .dataframe tbody tr th:only-of-type {\n",
       "        vertical-align: middle;\n",
       "    }\n",
       "\n",
       "    .dataframe tbody tr th {\n",
       "        vertical-align: top;\n",
       "    }\n",
       "\n",
       "    .dataframe thead th {\n",
       "        text-align: right;\n",
       "    }\n",
       "</style>\n",
       "<table border=\"1\" class=\"dataframe\">\n",
       "  <thead>\n",
       "    <tr style=\"text-align: right;\">\n",
       "      <th></th>\n",
       "      <th>replied_to</th>\n",
       "      <th>sender</th>\n",
       "      <th>body</th>\n",
       "      <th>timestamp</th>\n",
       "    </tr>\n",
       "  </thead>\n",
       "  <tbody>\n",
       "    <tr>\n",
       "      <th>183cb6c70075704b</th>\n",
       "      <td>False</td>\n",
       "      <td>Anthem-healthspendingaccounts@mail2.anthem.com</td>\n",
       "      <td>[http://images.myhealthyfinances.com/EloquaIma...</td>\n",
       "      <td>1665565214000</td>\n",
       "    </tr>\n",
       "    <tr>\n",
       "      <th>183ca91acbdcd4f8</th>\n",
       "      <td>False</td>\n",
       "      <td>FloTechnologies &lt;no-reply@meetflo.com&gt;</td>\n",
       "      <td>\\n\\n\\n\\n\\nWarning:\\r\\n    Low Battery\\r\\n    \\...</td>\n",
       "      <td>1665550886000</td>\n",
       "    </tr>\n",
       "  </tbody>\n",
       "</table>\n",
       "</div>"
      ],
      "text/plain": [
       "                  replied_to                                          sender  \\\n",
       "183cb6c70075704b       False  Anthem-healthspendingaccounts@mail2.anthem.com   \n",
       "183ca91acbdcd4f8       False          FloTechnologies <no-reply@meetflo.com>   \n",
       "\n",
       "                                                               body  \\\n",
       "183cb6c70075704b  [http://images.myhealthyfinances.com/EloquaIma...   \n",
       "183ca91acbdcd4f8  \\n\\n\\n\\n\\nWarning:\\r\\n    Low Battery\\r\\n    \\...   \n",
       "\n",
       "                      timestamp  \n",
       "183cb6c70075704b  1665565214000  \n",
       "183ca91acbdcd4f8  1665550886000  "
      ]
     },
     "execution_count": 6,
     "metadata": {},
     "output_type": "execute_result"
    }
   ],
   "source": [
    "df = pq.read_table('df.parquet')\n",
    "df = df.to_pandas()\n",
    "df.iloc[1:3, :]"
   ]
  },
  {
   "cell_type": "code",
   "execution_count": 7,
   "id": "1af94cdf-f46c-4a0c-8e89-04df60c2db78",
   "metadata": {},
   "outputs": [
    {
     "data": {
      "text/plain": [
       "26695"
      ]
     },
     "execution_count": 7,
     "metadata": {},
     "output_type": "execute_result"
    }
   ],
   "source": [
    "len(df)"
   ]
  },
  {
   "cell_type": "markdown",
   "id": "8af88119-8cae-4eb3-8a3e-8e2efede8e5f",
   "metadata": {},
   "source": [
    "# Clean and transform data"
   ]
  },
  {
   "cell_type": "markdown",
   "id": "36850208-322f-4b24-8619-e20d236942d2",
   "metadata": {},
   "source": [
    "## Drop rows\n",
    "ToDo: Do this as part of the data pipeline."
   ]
  },
  {
   "cell_type": "code",
   "execution_count": 8,
   "id": "b0999a39-d4d8-4bd8-acd7-1f03f2fadf50",
   "metadata": {},
   "outputs": [
    {
     "data": {
      "text/plain": [
       "False    388\n",
       "Name: replied_to, dtype: int64"
      ]
     },
     "execution_count": 8,
     "metadata": {},
     "output_type": "execute_result"
    }
   ],
   "source": [
    "# Drop emails frowarded from my other inbox\n",
    "df.loc[df.sender.str.contains('loeberthomas@yahoo.com'), 'replied_to'] \\\n",
    "    .value_counts()"
   ]
  },
  {
   "cell_type": "code",
   "execution_count": 9,
   "id": "2434d9c1-d7aa-441c-bf5b-e5f50b834101",
   "metadata": {},
   "outputs": [],
   "source": [
    "df = df.loc[\n",
    "    ~df.sender.str.contains('loeberthomas@yahoo.com'),\n",
    "    :\n",
    "]"
   ]
  },
  {
   "cell_type": "code",
   "execution_count": 10,
   "id": "aea2859b-98d0-4e51-866f-48fe1ec3f620",
   "metadata": {},
   "outputs": [],
   "source": [
    "# Drop emails whith empty body\n",
    "df = df.loc[\n",
    "    df.body.map(len) > 0,\n",
    "    :\n",
    "]"
   ]
  },
  {
   "cell_type": "markdown",
   "id": "cec052a0-1445-4c9b-9642-4614f4b819df",
   "metadata": {},
   "source": [
    "## Text preprocessing\n",
    "In this step, we put the data in the format required by the blazing text algorithm."
   ]
  },
  {
   "cell_type": "code",
   "execution_count": 11,
   "id": "318c9667-73fb-4308-8afc-d665db8c76ab",
   "metadata": {},
   "outputs": [
    {
     "name": "stderr",
     "output_type": "stream",
     "text": [
      "[nltk_data] Downloading package punkt to /root/nltk_data...\n",
      "[nltk_data]   Package punkt is already up-to-date!\n"
     ]
    },
    {
     "data": {
      "text/plain": [
       "__label__no_reply    24234\n",
       "__label__reply         261\n",
       "Name: target, dtype: int64"
      ]
     },
     "execution_count": 11,
     "metadata": {},
     "output_type": "execute_result"
    }
   ],
   "source": [
    "import nltk\n",
    "nltk.download(\"punkt\")\n",
    "\n",
    "def create_target(s):\n",
    "    \"\"\"Target as required by Blazing Text.\"\"\"\n",
    "    label = \"reply\" if s == True else \"no_reply\"\n",
    "    return f'__label__{label}'\n",
    "    \n",
    "# Convert training data into right format for tensorflow\n",
    "def strip_non_ascii_chars(string_: str) -> str:\n",
    "    return string_.encode('ascii', errors='ignore').decode()\n",
    "\n",
    "def replace_chars_for_csv(string_: str) -> str:\n",
    "    return string_.replace('\\n', ' ') \\\n",
    "        .replace(',', ' ')\n",
    "\n",
    "def tokenize(s):\n",
    "    token_list = nltk.word_tokenize(s)\n",
    "    return ' '.join(token_list)\n",
    "\n",
    "df['target'] = df.replied_to.map(create_target)\n",
    "df.target.value_counts()"
   ]
  },
  {
   "cell_type": "code",
   "execution_count": 12,
   "id": "430d9634-0542-4779-8c18-ceffc16ad96f",
   "metadata": {},
   "outputs": [],
   "source": [
    "df['feature'] = df.body.map(strip_non_ascii_chars) \\\n",
    "    .map(replace_chars_for_csv) \\\n",
    "    .map(tokenize)"
   ]
  },
  {
   "cell_type": "code",
   "execution_count": 13,
   "id": "124150f0-13b7-4e89-8903-41463c56652b",
   "metadata": {},
   "outputs": [
    {
     "data": {
      "text/html": [
       "<div>\n",
       "<style scoped>\n",
       "    .dataframe tbody tr th:only-of-type {\n",
       "        vertical-align: middle;\n",
       "    }\n",
       "\n",
       "    .dataframe tbody tr th {\n",
       "        vertical-align: top;\n",
       "    }\n",
       "\n",
       "    .dataframe thead th {\n",
       "        text-align: right;\n",
       "    }\n",
       "</style>\n",
       "<table border=\"1\" class=\"dataframe\">\n",
       "  <thead>\n",
       "    <tr style=\"text-align: right;\">\n",
       "      <th></th>\n",
       "      <th>target</th>\n",
       "      <th>feature</th>\n",
       "    </tr>\n",
       "  </thead>\n",
       "  <tbody>\n",
       "    <tr>\n",
       "      <th>183cbf647a8af438</th>\n",
       "      <td>__label__no_reply</td>\n",
       "      <td>Good morning families - The technician is here...</td>\n",
       "    </tr>\n",
       "    <tr>\n",
       "      <th>183cb6c70075704b</th>\n",
       "      <td>__label__no_reply</td>\n",
       "      <td>[ http : //images.myhealthyfinances.com/Eloqua...</td>\n",
       "    </tr>\n",
       "    <tr>\n",
       "      <th>183ca91acbdcd4f8</th>\n",
       "      <td>__label__no_reply</td>\n",
       "      <td>Warning : Low Battery Warning : Low Battery Vi...</td>\n",
       "    </tr>\n",
       "  </tbody>\n",
       "</table>\n",
       "</div>"
      ],
      "text/plain": [
       "                             target  \\\n",
       "183cbf647a8af438  __label__no_reply   \n",
       "183cb6c70075704b  __label__no_reply   \n",
       "183ca91acbdcd4f8  __label__no_reply   \n",
       "\n",
       "                                                            feature  \n",
       "183cbf647a8af438  Good morning families - The technician is here...  \n",
       "183cb6c70075704b  [ http : //images.myhealthyfinances.com/Eloqua...  \n",
       "183ca91acbdcd4f8  Warning : Low Battery Warning : Low Battery Vi...  "
      ]
     },
     "execution_count": 13,
     "metadata": {},
     "output_type": "execute_result"
    }
   ],
   "source": [
    "df[['target', 'feature']].head(3)"
   ]
  },
  {
   "cell_type": "code",
   "execution_count": 14,
   "id": "e7e391d7-0ea7-4e85-aaa0-5d175caee322",
   "metadata": {},
   "outputs": [],
   "source": [
    "assert df.isnull().sum().sum() == 0\n",
    "assert df.feature.str.contains(',').sum() == 0\n",
    "assert df.feature.str.contains('\\n').sum() == 0"
   ]
  },
  {
   "cell_type": "markdown",
   "id": "7b4e39ac-f4f0-40be-9520-9cedb78336f0",
   "metadata": {},
   "source": [
    "# Split data\n",
    "Since this data has a time component, we don't randomly split the data. Instead, we make sure to assess the model performance on data that is newer than any data the model has seen during training. This more closely mirrors the situation in production.\n",
    "\n",
    "Note that we have to follow this principle twice: We make sure that the validation data is newer than the training data, and that the test data is newer than the validation data."
   ]
  },
  {
   "cell_type": "code",
   "execution_count": 15,
   "id": "8fcf74c8-e976-4ccc-b50d-d6abcf270be7",
   "metadata": {},
   "outputs": [
    {
     "data": {
      "text/html": [
       "<div>\n",
       "<style scoped>\n",
       "    .dataframe tbody tr th:only-of-type {\n",
       "        vertical-align: middle;\n",
       "    }\n",
       "\n",
       "    .dataframe tbody tr th {\n",
       "        vertical-align: top;\n",
       "    }\n",
       "\n",
       "    .dataframe thead th {\n",
       "        text-align: right;\n",
       "    }\n",
       "</style>\n",
       "<table border=\"1\" class=\"dataframe\">\n",
       "  <thead>\n",
       "    <tr style=\"text-align: right;\">\n",
       "      <th></th>\n",
       "      <th>split</th>\n",
       "      <th>target</th>\n",
       "      <th>feature</th>\n",
       "    </tr>\n",
       "  </thead>\n",
       "  <tbody>\n",
       "    <tr>\n",
       "      <th>0</th>\n",
       "      <td>test</td>\n",
       "      <td>__label__no_reply</td>\n",
       "      <td>3632</td>\n",
       "    </tr>\n",
       "    <tr>\n",
       "      <th>1</th>\n",
       "      <td>test</td>\n",
       "      <td>__label__reply</td>\n",
       "      <td>43</td>\n",
       "    </tr>\n",
       "    <tr>\n",
       "      <th>2</th>\n",
       "      <td>train</td>\n",
       "      <td>__label__no_reply</td>\n",
       "      <td>18176</td>\n",
       "    </tr>\n",
       "    <tr>\n",
       "      <th>3</th>\n",
       "      <td>train</td>\n",
       "      <td>__label__reply</td>\n",
       "      <td>195</td>\n",
       "    </tr>\n",
       "    <tr>\n",
       "      <th>4</th>\n",
       "      <td>val</td>\n",
       "      <td>__label__no_reply</td>\n",
       "      <td>2426</td>\n",
       "    </tr>\n",
       "    <tr>\n",
       "      <th>5</th>\n",
       "      <td>val</td>\n",
       "      <td>__label__reply</td>\n",
       "      <td>23</td>\n",
       "    </tr>\n",
       "  </tbody>\n",
       "</table>\n",
       "</div>"
      ],
      "text/plain": [
       "   split             target  feature\n",
       "0   test  __label__no_reply     3632\n",
       "1   test     __label__reply       43\n",
       "2  train  __label__no_reply    18176\n",
       "3  train     __label__reply      195\n",
       "4    val  __label__no_reply     2426\n",
       "5    val     __label__reply       23"
      ]
     },
     "execution_count": 15,
     "metadata": {},
     "output_type": "execute_result"
    }
   ],
   "source": [
    "# Specify split proportion, then identify corresponding timestamp and split.\n",
    "TRAIN_PROPORTION = 0.75\n",
    "VAL_PROPORTION = 0.1\n",
    "test_proportion = 1 - TRAIN_PROPORTION - VAL_PROPORTION\n",
    "assert test_proportion > 0\n",
    "assert test_proportion < 1\n",
    "\n",
    "train_cutoff = np.quantile(df.timestamp, q=TRAIN_PROPORTION)\n",
    "val_cutoff = np.quantile(df.timestamp, q=TRAIN_PROPORTION+VAL_PROPORTION)\n",
    "\n",
    "def split_dataset(ts):\n",
    "    if ts < train_cutoff:\n",
    "        return 'train'\n",
    "    elif ts > val_cutoff:\n",
    "        return 'test'\n",
    "    else:\n",
    "        return 'val'\n",
    "    \n",
    "\n",
    "df['split'] = df.timestamp.map(split_dataset)\n",
    "\n",
    "counts = df.groupby(['split', 'target']).feature \\\n",
    "    .count() \\\n",
    "    .reset_index()\n",
    "counts"
   ]
  },
  {
   "cell_type": "markdown",
   "id": "1ee97ac6-a28f-4036-9b2d-f2f093dbe629",
   "metadata": {},
   "source": [
    "## Oversample minority class\n",
    "Most emails do not elicit a reply (see barplot below); therefore, maximizing accuracy would probably be misleading. It's easy to get high accuracy simply by predicting that no email will receive a reply.\n",
    "\n",
    "However, since the blazing text algorithm does not allow specifying a different metric to optimize (e.g., F1-score), I simply transform this problem into a balance classification problem by randomly oversampling emails that elicited a reply."
   ]
  },
  {
   "cell_type": "code",
   "execution_count": 16,
   "id": "d0514bcd-ed7b-409c-adb2-85831ba57131",
   "metadata": {},
   "outputs": [
    {
     "name": "stderr",
     "output_type": "stream",
     "text": [
      "No handles with labels found to put in legend.\n"
     ]
    },
    {
     "data": {
      "image/png": "[encoded data removed]",
      "text/plain": [
       "<Figure size 640x480 with 1 Axes>"
      ]
     },
     "metadata": {},
     "output_type": "display_data"
    }
   ],
   "source": [
    "p = sns.barplot(data=counts, y='split', x='feature', hue='target', orient='h', errwidth=0)\n",
    "p.set_xscale('log')\n",
    "plt.show()"
   ]
  },
  {
   "cell_type": "code",
   "execution_count": 17,
   "id": "d9766283-591a-4f2c-8c8c-e903b980353b",
   "metadata": {},
   "outputs": [],
   "source": [
    "# pip install imblearn --quiet"
   ]
  },
  {
   "cell_type": "code",
   "execution_count": 18,
   "id": "ce587ad2-a7c1-4fb1-994c-ffdc5b4e4016",
   "metadata": {},
   "outputs": [
    {
     "data": {
      "text/plain": [
       "__label__no_reply    18176\n",
       "__label__reply       18176\n",
       "Name: target, dtype: int64"
      ]
     },
     "execution_count": 18,
     "metadata": {},
     "output_type": "execute_result"
    }
   ],
   "source": [
    "from imblearn.over_sampling import RandomOverSampler\n",
    "\n",
    "def oversample(df: pd.DataFrame) -> pd.DataFrame:\n",
    "    max_label_count = df.target \\\n",
    "        .value_counts() \\\n",
    "        .max()\n",
    "\n",
    "    ros = RandomOverSampler(\n",
    "        random_state=1, \n",
    "        sampling_strategy={\n",
    "            '__label__no_reply': max_label_count,\n",
    "            '__label__reply': max_label_count,\n",
    "        }    \n",
    "    )\n",
    "    X_os, y_os = ros.fit_resample(X=df[['feature']], y=df[['target']])\n",
    "\n",
    "    df_os = pd.DataFrame(\n",
    "        {\n",
    "            'target': y_os.target,\n",
    "            'feature': X_os.feature,\n",
    "        }\n",
    "    )\n",
    "    return df_os\n",
    "\n",
    "df_train = df.loc[df.split == 'train', ['target', 'feature']]\n",
    "df_val = df.loc[df.split == 'val', ['target', 'feature']]\n",
    "df_test = df.loc[df.split == 'test', ['target', 'feature']]\n",
    "\n",
    "df_train_os = oversample(df_train)\n",
    "df_train_os.target.value_counts()"
   ]
  },
  {
   "cell_type": "code",
   "execution_count": 20,
   "id": "c139bd32-1eed-4636-a1ad-74615c03238e",
   "metadata": {},
   "outputs": [
    {
     "data": {
      "text/plain": [
       "__label__no_reply    2426\n",
       "__label__reply       2426\n",
       "Name: target, dtype: int64"
      ]
     },
     "execution_count": 20,
     "metadata": {},
     "output_type": "execute_result"
    }
   ],
   "source": [
    "df_val_os = oversample(df_val)\n",
    "df_val_os.target.value_counts()"
   ]
  },
  {
   "cell_type": "markdown",
   "id": "375f0ce5-5a52-4639-8aa3-9860311c5884",
   "metadata": {},
   "source": [
    "# Write input data\n",
    "While CSV is not the most efficient format, it is the only format that the blazing text algorithm accepts. Let's write the different data sets required and upload them to S3."
   ]
  },
  {
   "cell_type": "code",
   "execution_count": 21,
   "id": "06ed7bb3-b5eb-44b4-ae31-9f399e503c86",
   "metadata": {},
   "outputs": [
    {
     "name": "stdout",
     "output_type": "stream",
     "text": [
      "Breakdown for train/base: __label__no_reply    18176\n",
      "__label__reply         195\n",
      "Name: target, dtype: int64\n",
      "Uploaded to s3://sagemaker-data-and-models/email-classification/train/base\n",
      "\n",
      "Breakdown for validation: __label__no_reply    2426\n",
      "__label__reply         23\n",
      "Name: target, dtype: int64\n",
      "Uploaded to s3://sagemaker-data-and-models/email-classification/validation\n",
      "\n",
      "Breakdown for train/os: __label__no_reply    18176\n",
      "__label__reply       18176\n",
      "Name: target, dtype: int64\n",
      "Uploaded to s3://sagemaker-data-and-models/email-classification/train/os\n",
      "\n",
      "Breakdown for validation/os: __label__no_reply    2426\n",
      "__label__reply       2426\n",
      "Name: target, dtype: int64\n",
      "Uploaded to s3://sagemaker-data-and-models/email-classification/validation/os\n",
      "\n"
     ]
    }
   ],
   "source": [
    "# Todo: Persist in feature store for tracking versions\n",
    "INPUT_FILENAME = 'input-blazing-text.csv'\n",
    "\n",
    "train_key = f'{PREFIX}/train/{INPUT_FILENAME}'\n",
    "val_key = f'{PREFIX}/validation/{INPUT_FILENAME}'\n",
    "test_key = f'{PREFIX}/test/{INPUT_FILENAME}'\n",
    "\n",
    "input_path_train = f's3://{BUCKET_NAME}/{PREFIX}/train'  # For Sagemaker\n",
    "input_path_val = f's3://{BUCKET_NAME}/{PREFIX}/validation'  # For Sagemaker\n",
    "input_path_val = f's3://{BUCKET_NAME}/{PREFIX}/test'  # For Sagemaker\n",
    "\n",
    "output_path = f's3://{BUCKET_NAME}/{PREFIX}/output'  # For Sagemaker\n",
    "\n",
    "def upload_data(df: pd.DataFrame, folder) -> str:\n",
    "    # train\n",
    "    print(f'Breakdown for {folder}: {df.target.value_counts()}')\n",
    "    df.to_csv(INPUT_FILENAME, index=False, header=False, sep=' ')\n",
    "    \n",
    "    s3_key = f'{PREFIX}/{folder}/{INPUT_FILENAME}'\n",
    "    s3_folder_path = f's3://{BUCKET_NAME}/{PREFIX}/{folder}'\n",
    "    s3.upload_file(\n",
    "        Filename=INPUT_FILENAME,\n",
    "        Bucket=BUCKET_NAME,\n",
    "        Key=s3_key\n",
    "    )\n",
    "    print(f'Uploaded to {s3_folder_path}\\n')\n",
    "    return s3_folder_path\n",
    "\n",
    "train_path_base = upload_data(df_train, 'train/base')\n",
    "val_path_base = upload_data(df_val, 'validation')\n",
    "\n",
    "train_path_os = upload_data(df_train_os, 'train/os')\n",
    "val_path_os = upload_data(df_val_os, 'validation/os')"
   ]
  },
  {
   "cell_type": "code",
   "execution_count": 22,
   "id": "36b2585b-53c8-43f5-af6d-cedabda06464",
   "metadata": {},
   "outputs": [],
   "source": [
    "# Persist test data for other notebook\n",
    "import pickle\n",
    "with open('df_test.pickle', 'wb') as f:\n",
    "    pickle.dump(obj=df_test, file=f)"
   ]
  }
 ],
 "metadata": {
  "instance_type": "ml.t3.medium",
  "kernelspec": {
   "display_name": "Python 3 (Data Science)",
   "language": "python",
   "name": "python3__SAGEMAKER_INTERNAL__arn:aws:sagemaker:us-east-1:081325390199:image/datascience-1.0"
  },
  "language_info": {
   "codemirror_mode": {
    "name": "ipython",
    "version": 3
   },
   "file_extension": ".py",
   "mimetype": "text/x-python",
   "name": "python",
   "nbconvert_exporter": "python",
   "pygments_lexer": "ipython3",
   "version": "3.7.10"
  },
  "lcc_arn": "arn:aws:sagemaker:us-east-1:070158674174:studio-lifecycle-config/install-packages-2",
  "toc-autonumbering": true,
  "toc-showcode": false,
  "toc-showmarkdowntxt": true,
  "toc-showtags": true
 },
 "nbformat": 4,
 "nbformat_minor": 5
}
